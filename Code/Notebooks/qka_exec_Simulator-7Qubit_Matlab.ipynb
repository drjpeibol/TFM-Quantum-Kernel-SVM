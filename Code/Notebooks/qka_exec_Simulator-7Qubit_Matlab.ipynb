{
 "cells": [
  {
   "cell_type": "markdown",
   "metadata": {
    "id": "uyaoDpvQm3-7",
    "tags": []
   },
   "source": [
    "# Load your IBM Quantum account and get the quantum backend\n",
    "\n",
    "We'll be using the simulator `ibmq_qasm_simulator`."
   ]
  },
  {
   "cell_type": "code",
   "execution_count": 1,
   "metadata": {},
   "outputs": [
    {
     "name": "stdout",
     "output_type": "stream",
     "text": [
      "No se clonará el repositorio debido a que ya existe en el sistema\n"
     ]
    }
   ],
   "source": [
    "import os\n",
    "path = 'qiskit-runtime'\n",
    "  # Check whether the specified\n",
    "# path exists or not\n",
    "Exist = os.path.exists(path)\n",
    "\n",
    "#Si no existe el path clonaremos el repositorio en ese path, si ya existe no haremos nada.\n",
    "if Exist == False: \n",
    "    print('Clonando Repositorio...')\n",
    "    !git clone https://github.com/Qiskit-Partners/qiskit-runtime.git\n",
    "    \n",
    "else: \n",
    "    print('No se clonará el repositorio debido a que ya existe en el sistema')"
   ]
  },
  {
   "cell_type": "code",
   "execution_count": 2,
   "metadata": {
    "id": "hyQtkRzvm3-8"
   },
   "outputs": [],
   "source": [
    "import sys\n",
    "sys.path.insert(0, 'qiskit-runtime') # Path al repositorio de RUNTIME desde IBM Quantum Lab"
   ]
  },
  {
   "cell_type": "markdown",
   "metadata": {
    "id": "5usaKTRWm3-9"
   },
   "source": [
    "# Invoke the Quantum Kernel Alignment program\n",
    "\n",
    "Before executing the runtime program for QKA, we need to prepare the dataset and configure the input parameters for the algorithm.\n",
    "\n",
    "### 1. Prepare the dataset\n",
    "\n",
    "First, we load the dataset from the `csv` file and then extract the labeled training and test samples. Here, we'll look at the 7-qubit problem, shown above in subfigure a). A second dataset is also available for the 10-qubit problem in b)."
   ]
  },
  {
   "cell_type": "code",
   "execution_count": 3,
   "metadata": {
    "id": "LhDGm_x8m3--"
   },
   "outputs": [],
   "source": [
    "# Libraries needed for the tutorial\n",
    "\n",
    "import pandas as pd\n",
    "import requests\n",
    "import matplotlib.pyplot as plt\n",
    "\n",
    "import io\n",
    "    \n",
    "# Downloading the csv file from your GitHub account\n",
    "\n",
    "url = path+\"/Data_7qubit.csv\" # Make sure the url is the raw version of the file on GitHub\n",
    "\n",
    "# Reading the downloaded content and turning it into a pandas dataframe\n",
    "\n",
    "df = pd.read_csv(url,header= None)\n",
    "\n",
    "df.loc[df[14] == 2, 14] = -1\n",
    "df = df.sample(frac=1)\n",
    "\n",
    "#columns = [0, 1, 2, 3, 4, 5, 6, 7, 8, 9,14]\n",
    "\n",
    "#df = df[columns]\n",
    "\n",
    "data = df.values"
   ]
  },
  {
   "cell_type": "markdown",
   "metadata": {
    "id": "HmC4mlORm3--"
   },
   "source": [
    "Let's take a look at the data to see how it's formatted. Each row of the dataset contains a list of Euler angles, followed by the class label $\\pm1$ in the last column. For an $n$-qubit problem, there are $2n$ features corresponding to the first two Euler angles for each qubit (recall discussion above). The rows alternate between class labels."
   ]
  },
  {
   "cell_type": "code",
   "execution_count": 4,
   "metadata": {},
   "outputs": [
    {
     "data": {
      "text/html": [
       "<div>\n",
       "<style scoped>\n",
       "    .dataframe tbody tr th:only-of-type {\n",
       "        vertical-align: middle;\n",
       "    }\n",
       "\n",
       "    .dataframe tbody tr th {\n",
       "        vertical-align: top;\n",
       "    }\n",
       "\n",
       "    .dataframe thead th {\n",
       "        text-align: right;\n",
       "    }\n",
       "</style>\n",
       "<table border=\"1\" class=\"dataframe\">\n",
       "  <thead>\n",
       "    <tr style=\"text-align: right;\">\n",
       "      <th></th>\n",
       "      <th>0</th>\n",
       "      <th>1</th>\n",
       "      <th>2</th>\n",
       "      <th>3</th>\n",
       "      <th>4</th>\n",
       "      <th>5</th>\n",
       "      <th>6</th>\n",
       "      <th>7</th>\n",
       "      <th>8</th>\n",
       "      <th>9</th>\n",
       "      <th>10</th>\n",
       "      <th>11</th>\n",
       "      <th>12</th>\n",
       "      <th>13</th>\n",
       "      <th>14</th>\n",
       "    </tr>\n",
       "  </thead>\n",
       "  <tbody>\n",
       "    <tr>\n",
       "      <th>34</th>\n",
       "      <td>-1.345580</td>\n",
       "      <td>1.448859</td>\n",
       "      <td>-0.539987</td>\n",
       "      <td>-0.566494</td>\n",
       "      <td>-1.417253</td>\n",
       "      <td>-0.838051</td>\n",
       "      <td>-0.891851</td>\n",
       "      <td>0.680854</td>\n",
       "      <td>3.305246</td>\n",
       "      <td>-0.711233</td>\n",
       "      <td>-1.094071</td>\n",
       "      <td>-3.027971</td>\n",
       "      <td>-0.086672</td>\n",
       "      <td>-0.770717</td>\n",
       "      <td>1</td>\n",
       "    </tr>\n",
       "    <tr>\n",
       "      <th>137</th>\n",
       "      <td>-1.896313</td>\n",
       "      <td>1.172390</td>\n",
       "      <td>-0.128692</td>\n",
       "      <td>-1.243946</td>\n",
       "      <td>1.594408</td>\n",
       "      <td>0.449926</td>\n",
       "      <td>0.629702</td>\n",
       "      <td>0.658125</td>\n",
       "      <td>1.049320</td>\n",
       "      <td>-1.352714</td>\n",
       "      <td>-2.064908</td>\n",
       "      <td>1.414485</td>\n",
       "      <td>0.623005</td>\n",
       "      <td>3.683670</td>\n",
       "      <td>-1</td>\n",
       "    </tr>\n",
       "    <tr>\n",
       "      <th>45</th>\n",
       "      <td>-1.562793</td>\n",
       "      <td>1.249044</td>\n",
       "      <td>-0.494472</td>\n",
       "      <td>-0.632856</td>\n",
       "      <td>-1.565951</td>\n",
       "      <td>-0.798610</td>\n",
       "      <td>2.379276</td>\n",
       "      <td>-0.737605</td>\n",
       "      <td>-0.014206</td>\n",
       "      <td>0.909039</td>\n",
       "      <td>-1.245407</td>\n",
       "      <td>-2.621418</td>\n",
       "      <td>-0.092671</td>\n",
       "      <td>-0.881856</td>\n",
       "      <td>1</td>\n",
       "    </tr>\n",
       "    <tr>\n",
       "      <th>138</th>\n",
       "      <td>1.507942</td>\n",
       "      <td>-1.166249</td>\n",
       "      <td>-0.114988</td>\n",
       "      <td>-4.546854</td>\n",
       "      <td>1.370014</td>\n",
       "      <td>0.388278</td>\n",
       "      <td>0.617564</td>\n",
       "      <td>0.790984</td>\n",
       "      <td>0.811226</td>\n",
       "      <td>-1.059699</td>\n",
       "      <td>0.963693</td>\n",
       "      <td>-1.530551</td>\n",
       "      <td>0.493020</td>\n",
       "      <td>0.002730</td>\n",
       "      <td>-1</td>\n",
       "    </tr>\n",
       "    <tr>\n",
       "      <th>123</th>\n",
       "      <td>-1.207790</td>\n",
       "      <td>1.549729</td>\n",
       "      <td>-0.440557</td>\n",
       "      <td>-0.654810</td>\n",
       "      <td>-1.408706</td>\n",
       "      <td>-0.843440</td>\n",
       "      <td>2.197986</td>\n",
       "      <td>-0.696871</td>\n",
       "      <td>-0.014904</td>\n",
       "      <td>1.013581</td>\n",
       "      <td>-1.186396</td>\n",
       "      <td>-2.624912</td>\n",
       "      <td>-0.110409</td>\n",
       "      <td>-0.763051</td>\n",
       "      <td>1</td>\n",
       "    </tr>\n",
       "    <tr>\n",
       "      <th>...</th>\n",
       "      <td>...</td>\n",
       "      <td>...</td>\n",
       "      <td>...</td>\n",
       "      <td>...</td>\n",
       "      <td>...</td>\n",
       "      <td>...</td>\n",
       "      <td>...</td>\n",
       "      <td>...</td>\n",
       "      <td>...</td>\n",
       "      <td>...</td>\n",
       "      <td>...</td>\n",
       "      <td>...</td>\n",
       "      <td>...</td>\n",
       "      <td>...</td>\n",
       "      <td>...</td>\n",
       "    </tr>\n",
       "    <tr>\n",
       "      <th>9</th>\n",
       "      <td>-1.243847</td>\n",
       "      <td>1.383812</td>\n",
       "      <td>-0.420586</td>\n",
       "      <td>-0.562559</td>\n",
       "      <td>-1.480440</td>\n",
       "      <td>-1.039533</td>\n",
       "      <td>2.586147</td>\n",
       "      <td>-0.722462</td>\n",
       "      <td>-0.012824</td>\n",
       "      <td>0.938304</td>\n",
       "      <td>-1.279119</td>\n",
       "      <td>-2.894886</td>\n",
       "      <td>-0.125140</td>\n",
       "      <td>-0.934557</td>\n",
       "      <td>1</td>\n",
       "    </tr>\n",
       "    <tr>\n",
       "      <th>29</th>\n",
       "      <td>-1.479351</td>\n",
       "      <td>1.154995</td>\n",
       "      <td>-0.464473</td>\n",
       "      <td>-0.510296</td>\n",
       "      <td>-1.413334</td>\n",
       "      <td>-0.783159</td>\n",
       "      <td>-0.863904</td>\n",
       "      <td>0.751927</td>\n",
       "      <td>-0.011172</td>\n",
       "      <td>0.936843</td>\n",
       "      <td>1.829868</td>\n",
       "      <td>-0.392358</td>\n",
       "      <td>-0.133269</td>\n",
       "      <td>-4.347950</td>\n",
       "      <td>1</td>\n",
       "    </tr>\n",
       "    <tr>\n",
       "      <th>58</th>\n",
       "      <td>-1.089616</td>\n",
       "      <td>1.414256</td>\n",
       "      <td>-0.561842</td>\n",
       "      <td>-0.583267</td>\n",
       "      <td>-1.635219</td>\n",
       "      <td>-0.955528</td>\n",
       "      <td>-0.939308</td>\n",
       "      <td>0.654067</td>\n",
       "      <td>3.277268</td>\n",
       "      <td>-0.869803</td>\n",
       "      <td>-1.187516</td>\n",
       "      <td>-3.129443</td>\n",
       "      <td>-0.102576</td>\n",
       "      <td>-0.783979</td>\n",
       "      <td>1</td>\n",
       "    </tr>\n",
       "    <tr>\n",
       "      <th>79</th>\n",
       "      <td>-1.366144</td>\n",
       "      <td>1.264122</td>\n",
       "      <td>2.264156</td>\n",
       "      <td>0.558661</td>\n",
       "      <td>-1.798303</td>\n",
       "      <td>-4.186581</td>\n",
       "      <td>-0.811467</td>\n",
       "      <td>0.783363</td>\n",
       "      <td>-0.015037</td>\n",
       "      <td>0.803604</td>\n",
       "      <td>-1.139141</td>\n",
       "      <td>0.389925</td>\n",
       "      <td>-0.118183</td>\n",
       "      <td>-0.791149</td>\n",
       "      <td>1</td>\n",
       "    </tr>\n",
       "    <tr>\n",
       "      <th>36</th>\n",
       "      <td>1.879381</td>\n",
       "      <td>-1.363325</td>\n",
       "      <td>-0.430428</td>\n",
       "      <td>-3.741578</td>\n",
       "      <td>-1.722156</td>\n",
       "      <td>-0.826220</td>\n",
       "      <td>-0.956424</td>\n",
       "      <td>0.703194</td>\n",
       "      <td>-0.012651</td>\n",
       "      <td>0.770981</td>\n",
       "      <td>-0.975162</td>\n",
       "      <td>0.338283</td>\n",
       "      <td>-0.116457</td>\n",
       "      <td>-0.789728</td>\n",
       "      <td>1</td>\n",
       "    </tr>\n",
       "  </tbody>\n",
       "</table>\n",
       "<p>252 rows × 15 columns</p>\n",
       "</div>"
      ],
      "text/plain": [
       "           0         1         2         3         4         5         6   \\\n",
       "34  -1.345580  1.448859 -0.539987 -0.566494 -1.417253 -0.838051 -0.891851   \n",
       "137 -1.896313  1.172390 -0.128692 -1.243946  1.594408  0.449926  0.629702   \n",
       "45  -1.562793  1.249044 -0.494472 -0.632856 -1.565951 -0.798610  2.379276   \n",
       "138  1.507942 -1.166249 -0.114988 -4.546854  1.370014  0.388278  0.617564   \n",
       "123 -1.207790  1.549729 -0.440557 -0.654810 -1.408706 -0.843440  2.197986   \n",
       "..        ...       ...       ...       ...       ...       ...       ...   \n",
       "9   -1.243847  1.383812 -0.420586 -0.562559 -1.480440 -1.039533  2.586147   \n",
       "29  -1.479351  1.154995 -0.464473 -0.510296 -1.413334 -0.783159 -0.863904   \n",
       "58  -1.089616  1.414256 -0.561842 -0.583267 -1.635219 -0.955528 -0.939308   \n",
       "79  -1.366144  1.264122  2.264156  0.558661 -1.798303 -4.186581 -0.811467   \n",
       "36   1.879381 -1.363325 -0.430428 -3.741578 -1.722156 -0.826220 -0.956424   \n",
       "\n",
       "           7         8         9         10        11        12        13  14  \n",
       "34   0.680854  3.305246 -0.711233 -1.094071 -3.027971 -0.086672 -0.770717   1  \n",
       "137  0.658125  1.049320 -1.352714 -2.064908  1.414485  0.623005  3.683670  -1  \n",
       "45  -0.737605 -0.014206  0.909039 -1.245407 -2.621418 -0.092671 -0.881856   1  \n",
       "138  0.790984  0.811226 -1.059699  0.963693 -1.530551  0.493020  0.002730  -1  \n",
       "123 -0.696871 -0.014904  1.013581 -1.186396 -2.624912 -0.110409 -0.763051   1  \n",
       "..        ...       ...       ...       ...       ...       ...       ...  ..  \n",
       "9   -0.722462 -0.012824  0.938304 -1.279119 -2.894886 -0.125140 -0.934557   1  \n",
       "29   0.751927 -0.011172  0.936843  1.829868 -0.392358 -0.133269 -4.347950   1  \n",
       "58   0.654067  3.277268 -0.869803 -1.187516 -3.129443 -0.102576 -0.783979   1  \n",
       "79   0.783363 -0.015037  0.803604 -1.139141  0.389925 -0.118183 -0.791149   1  \n",
       "36   0.703194 -0.012651  0.770981 -0.975162  0.338283 -0.116457 -0.789728   1  \n",
       "\n",
       "[252 rows x 15 columns]"
      ]
     },
     "execution_count": 4,
     "metadata": {},
     "output_type": "execute_result"
    }
   ],
   "source": [
    "df"
   ]
  },
  {
   "cell_type": "code",
   "execution_count": 5,
   "metadata": {},
   "outputs": [
    {
     "data": {
      "image/png": "[encoded data removed]",
      "text/plain": [
       "<Figure size 576x3600 with 14 Axes>"
      ]
     },
     "metadata": {
      "needs_background": "light"
     },
     "output_type": "display_data"
    }
   ],
   "source": [
    "fig, axes = plt.subplots(nrows=14, ncols = 1,figsize = (8,50))\n",
    "for i in range(0,14):\n",
    "    axes[i].hist([df[i],df[i][df[14]==-1],df[i][df[14]==1]],alpha = 0.75, label = ['All','C_', 'C+'], bins = 25)\n",
    "    axes[i].legend(loc='upper right')\n",
    "    axes[i].set_title('Euler Angle: ' + str(i))\n",
    "plt.show()"
   ]
  },
  {
   "cell_type": "code",
   "execution_count": 6,
   "metadata": {},
   "outputs": [
    {
     "data": {
      "text/plain": [
       "<matplotlib.legend.Legend at 0x7f328decdb80>"
      ]
     },
     "execution_count": 6,
     "metadata": {},
     "output_type": "execute_result"
    },
    {
     "data": {
      "image/png": "[encoded data removed]",
      "text/plain": [
       "<Figure size 1296x360 with 2 Axes>"
      ]
     },
     "metadata": {
      "needs_background": "light"
     },
     "output_type": "display_data"
    }
   ],
   "source": [
    "#Pintamos nuestros datos de training por Costet C+ o C-\n",
    "fig, ax = plt.subplots(nrows=1, ncols=2, figsize=(18, 5))\n",
    "\n",
    "ax[0].set_title('Qubit 0')\n",
    "ax[0].scatter(df[0],df[1], c = df[14])\n",
    "legend0 = ax[0].legend(*ax[0].scatter(df[0],df[1], c = df[14]).legend_elements(),\n",
    "                    loc=\"upper left\", title=\"Costet (-1 = C-, 1 = C+)\")\n",
    "ax[0].add_artist(legend0)\n",
    "\n",
    "ax[1].set_title('Qubit 1')\n",
    "ax[1].scatter(df[2],df[3], c = df[14])\n",
    "legend1 = ax[1].legend(*ax[1].scatter(df[2],df[3], c = df[14]).legend_elements(),\n",
    "                    loc=\"upper right\", title=\"Costet (-1 = C-, 1 = C+)\")\n",
    "ax[1].add_artist(legend1)"
   ]
  },
  {
   "cell_type": "markdown",
   "metadata": {
    "id": "Y6bBITPLm3_A"
   },
   "source": [
    "Now, let's explicitly construct the training and test samples (denoted `x`) and their labels (denoted `y`)."
   ]
  },
  {
   "cell_type": "code",
   "execution_count": 19,
   "metadata": {
    "id": "PO5vK_fnm3_A"
   },
   "outputs": [],
   "source": [
    "import numpy as np\n",
    "\n",
    "# choose number of training and test samples per class:\n",
    "num_train = 15\n",
    "num_test = 5\n",
    "\n",
    "# extract training and test sets and sort them by class label\n",
    "train = data[:2*num_train, :]\n",
    "test = data[2*num_train:2*(num_train+num_test), :]\n",
    "\n",
    "ind=np.argsort(train[:,-1])\n",
    "x_train = train[ind][:,:-1]\n",
    "y_train = train[ind][:,-1]\n",
    "\n",
    "ind=np.argsort(test[:,-1])\n",
    "x_test = test[ind][:,:-1]\n",
    "y_test = test[ind][:,-1]\n"
   ]
  },
  {
   "cell_type": "markdown",
   "metadata": {
    "id": "NanBf92km3_A"
   },
   "source": [
    "### 2. Configure the QKA algorithm\n",
    "\n",
    "The first task is to set up the feature map and its entangler map, which specifies the arrangement of $CZ$ gates in the fiducial state. We will choose this to match the connectivity of the problem subgraph, pictured above. We also initialize the fiducial state parameter $\\lambda$ with `initial_point`."
   ]
  },
  {
   "cell_type": "code",
   "execution_count": 8,
   "metadata": {},
   "outputs": [
    {
     "name": "stderr",
     "output_type": "stream",
     "text": [
      "<frozen importlib._bootstrap>:219: RuntimeWarning: scipy._lib.messagestream.MessageStream size changed, may indicate binary incompatibility. Expected 56 from C header, got 64 from PyObject\n"
     ]
    }
   ],
   "source": [
    "import numpy as np\n",
    "import numpy.matlib as matl\n",
    "import matplotlib.pyplot as plt\n",
    "from sklearn.svm import SVC\n",
    "from matplotlib.colors import ListedColormap\n",
    "from IPython.display import display\n",
    "\n",
    "import pandas as pd\n",
    "import sklearn.preprocessing as skpp\n",
    "\n",
    "from sklearn.model_selection import GridSearchCV\n",
    "from sklearn.model_selection import train_test_split\n",
    "from sklearn.model_selection import cross_val_score\n",
    "from sklearn import cluster, datasets, mixture\n",
    "\n",
    "\n",
    "\n",
    "np.random.seed(19)"
   ]
  },
  {
   "cell_type": "code",
   "execution_count": 9,
   "metadata": {},
   "outputs": [
    {
     "name": "stdout",
     "output_type": "stream",
     "text": [
      "Training time: 0.6448497772216797s\n",
      "Best model:\n",
      "{'C': 0.1, 'break_ties': False, 'cache_size': 200, 'class_weight': None, 'coef0': 1.0, 'decision_function_shape': 'ovr', 'degree': 1, 'gamma': 'auto', 'kernel': 'poly', 'max_iter': -1, 'probability': True, 'random_state': None, 'shrinking': True, 'tol': 0.001, 'verbose': False}\n",
      "Score in training set = 1.000000\n",
      "Score in test set = 1.000000\n"
     ]
    }
   ],
   "source": [
    "import time\n",
    "\n",
    "grid = [{'C': [0.1,1.0,10],\n",
    "         'gamma': ['auto',1.0,0.1], \n",
    "         'kernel': ['rbf','poly'],\n",
    "         'degree': [1,2,3,4,5],\n",
    "         'coef0':[1.0]}]\n",
    "\n",
    "clf_gridsearch = GridSearchCV(estimator=SVC(probability=True), param_grid=grid, cv=5)\n",
    "start = time.time()\n",
    "clf_gridsearch.fit(x_train, y_train) \n",
    "stop = time.time()\n",
    "print(f\"Training time: {stop - start}s\") \n",
    "\n",
    "# Imprimimos los resultados para el mejor clasificador:\n",
    "clf = clf_gridsearch.best_estimator_\n",
    "print(\"Best model:\")\n",
    "print(clf.get_params())\n",
    "\n",
    "# Calculamos el acierto en los conjuntos de entrenamiento y test:\n",
    "score_train = clf.score(x_train, y_train)\n",
    "print(\"Score in training set = %f\" % (score_train))\n",
    "\n",
    "score_test = clf.score(x_test, y_test)\n",
    "print(\"Score in test set = %f\" % (score_test))"
   ]
  },
  {
   "cell_type": "code",
   "execution_count": 10,
   "metadata": {
    "colab": {
     "base_uri": "https://localhost:8080/",
     "height": 368
    },
    "id": "nuuOQW3hm3_B",
    "outputId": "1b7e862d-a781-41f1-8831-003fc5d67537"
   },
   "outputs": [],
   "source": [
    "from qiskit_runtime.qka import FeatureMap\n",
    "\n",
    "d = np.shape(data)[1]-1                                         # feature dimension is twice the qubit number\n",
    "\n",
    "em = [[0, 1],\n",
    "    [1, 2],\n",
    "    [1, 3],\n",
    "    [3, 5],\n",
    "    [4, 5],\n",
    "    [5, 6],\n",
    "] # we'll match this to the 7-qubit graph              \n",
    "# em = [[0,1],[2,3],[4,5],[6,7],[8,9],[1,2],[3,4],[5,6],[7,8]]  # we'll match this to the 10-qubit graph\n",
    "\n",
    "fm = FeatureMap(feature_dimension=d, entangler_map=em)          # define the feature map\n",
    "initial_point = [0.1]                                           # set the initial parameter for the feature map"
   ]
  },
  {
   "cell_type": "markdown",
   "metadata": {
    "id": "Sh61Y1MRm3_B"
   },
   "source": [
    "Let's print out the circuit for the feature map (the circuit for the kernel will be a feature map for one data sample composed with an inverse feature map for a second sample). The first part of the feature map is the fiducial state, which is prepared with a layer of $y$ rotations followed by $CZ$s. Then, the last two layers of $z$ and $x$ rotations in the circuit denote the group representation $D(\\theta)$ for a data sample $\\theta$. Note that a single-qubit rotation is defined as $RP(\\phi) = \\exp(- i [\\phi/2] P)$ for $P \\in {X, Y, Z}$."
   ]
  },
  {
   "cell_type": "code",
   "execution_count": 11,
   "metadata": {
    "id": "oQjR_870m3_B",
    "outputId": "9952dfdc-3654-4b18-a0fa-26ee8a827d68"
   },
   "outputs": [
    {
     "data": {
      "text/html": [
       "<pre style=\"word-wrap: normal;white-space: pre;background: #fff0;line-height: 1.1;font-family: &quot;Courier New&quot;,Courier,monospace\">     ┌──────────┐   ┌─────────────┐┌────────────┐                                                                              \n",
       "q_0: ┤ Ry(-0.1) ├─■─┤ Rz(-2.4829) ├┤ Rx(3.2062) ├──────────────────────────────────────────────────────────────────────────────\n",
       "     ├──────────┤ │ └─────────────┘└────────────┘┌─────────────┐┌─────────────┐                                                \n",
       "q_1: ┤ Ry(-0.1) ├─■────────■─────────────■───────┤ Rz(-2.3976) ├┤ Rx(-6.2904) ├────────────────────────────────────────────────\n",
       "     ├──────────┤          │             │       └┬────────────┤├─────────────┤                                                \n",
       "q_2: ┤ Ry(-0.1) ├──────────■─────────────┼────────┤ Rz(5.0415) ├┤ Rx(-2.6192) ├────────────────────────────────────────────────\n",
       "     ├──────────┤                        │        └────────────┘├─────────────┤┌─────────────┐                                 \n",
       "q_3: ┤ Ry(-0.1) ├────────────────────────■──────────────■───────┤ Rz(-1.1579) ├┤ Rx(-1.4169) ├─────────────────────────────────\n",
       "     ├──────────┤                                       │       └─────────────┘└┬────────────┤ ┌─────────────┐                 \n",
       "q_4: ┤ Ry(-0.1) ├───────────────────────────────────────┼──────────────■────────┤ Rz(2.7952) ├─┤ Rx(-1.5137) ├─────────────────\n",
       "     ├──────────┤                                       │              │        └────────────┘ └┬────────────┤  ┌─────────────┐\n",
       "q_5: ┤ Ry(-0.1) ├───────────────────────────────────────■──────────────■──────────────■─────────┤ Rz(3.4917) ├──┤ Rx(-1.7997) ├\n",
       "     ├──────────┤                                                                     │       ┌─┴────────────┴─┐├─────────────┤\n",
       "q_6: ┤ Ry(-0.1) ├─────────────────────────────────────────────────────────────────────■───────┤ Rz(-0.0057893) ├┤ Rx(-1.1583) ├\n",
       "     └──────────┘                                                                             └────────────────┘└─────────────┘</pre>"
      ],
      "text/plain": [
       "     ┌──────────┐   ┌─────────────┐┌────────────┐                                                                              \n",
       "q_0: ┤ Ry(-0.1) ├─■─┤ Rz(-2.4829) ├┤ Rx(3.2062) ├──────────────────────────────────────────────────────────────────────────────\n",
       "     ├──────────┤ │ └─────────────┘└────────────┘┌─────────────┐┌─────────────┐                                                \n",
       "q_1: ┤ Ry(-0.1) ├─■────────■─────────────■───────┤ Rz(-2.3976) ├┤ Rx(-6.2904) ├────────────────────────────────────────────────\n",
       "     ├──────────┤          │             │       └┬────────────┤├─────────────┤                                                \n",
       "q_2: ┤ Ry(-0.1) ├──────────■─────────────┼────────┤ Rz(5.0415) ├┤ Rx(-2.6192) ├────────────────────────────────────────────────\n",
       "     ├──────────┤                        │        └────────────┘├─────────────┤┌─────────────┐                                 \n",
       "q_3: ┤ Ry(-0.1) ├────────────────────────■──────────────■───────┤ Rz(-1.1579) ├┤ Rx(-1.4169) ├─────────────────────────────────\n",
       "     ├──────────┤                                       │       └─────────────┘└┬────────────┤ ┌─────────────┐                 \n",
       "q_4: ┤ Ry(-0.1) ├───────────────────────────────────────┼──────────────■────────┤ Rz(2.7952) ├─┤ Rx(-1.5137) ├─────────────────\n",
       "     ├──────────┤                                       │              │        └────────────┘ └┬────────────┤  ┌─────────────┐\n",
       "q_5: ┤ Ry(-0.1) ├───────────────────────────────────────■──────────────■──────────────■─────────┤ Rz(3.4917) ├──┤ Rx(-1.7997) ├\n",
       "     ├──────────┤                                                                     │       ┌─┴────────────┴─┐├─────────────┤\n",
       "q_6: ┤ Ry(-0.1) ├─────────────────────────────────────────────────────────────────────■───────┤ Rz(-0.0057893) ├┤ Rx(-1.1583) ├\n",
       "     └──────────┘                                                                             └────────────────┘└─────────────┘"
      ]
     },
     "execution_count": 11,
     "metadata": {},
     "output_type": "execute_result"
    }
   ],
   "source": [
    "from qiskit.tools.visualization import circuit_drawer\n",
    "circuit_drawer(fm.construct_circuit(x=x_train[0], parameters=initial_point), \n",
    "               output='text', fold=200)"
   ]
  },
  {
   "cell_type": "markdown",
   "metadata": {
    "id": "8A-bjyh3m3_C"
   },
   "source": [
    "Next, we set the values for the SVM soft-margin penalty `C` and the number of SPSA iterations `maxiters` we use to align the quantum kernel."
   ]
  },
  {
   "cell_type": "code",
   "execution_count": 12,
   "metadata": {
    "id": "fPs6nBzmm3_D"
   },
   "outputs": [],
   "source": [
    "C = 1                                                           # SVM soft-margin penalty\n",
    "maxiters = 10                                                   # number of SPSA iterations"
   ]
  },
  {
   "cell_type": "markdown",
   "metadata": {
    "id": "cilEJuigm3_D"
   },
   "source": [
    "Finally, we decide how to map the virtual qubits of our problem graph to the physical qubits of the hardware. For example, in the 7-qubit problem, we can directly map the virtual qubits `[0, 1, 2, 3, 4, 5, 6]` to the physical qubits `[10, 11, 12, 13, 14, 15, 16]` of the device. This allows us to avoid introducing SWAP gates for qubits that are not connected, which can increase the circuit depth. "
   ]
  },
  {
   "cell_type": "code",
   "execution_count": 13,
   "metadata": {
    "id": "a5Eo-u66m3_E"
   },
   "outputs": [],
   "source": [
    "initial_layout = [0, 1, 2, 3, 4, 5, 6]                   # see figure above for the 7-qubit graph\n",
    "# initial_layout = [9, 8, 11, 14, 16, 19, 22, 25, 24, 23]       # see figure above for the 10-qubit graph"
   ]
  },
  {
   "cell_type": "markdown",
   "metadata": {
    "id": "MefJnZHUm3_E"
   },
   "source": [
    "### 3. Set up and run the program\n",
    "\n",
    "We're almost ready to run the program. First, let's take a look at the program metadata, which includes a description of the input parameters and their default values."
   ]
  },
  {
   "cell_type": "markdown",
   "metadata": {
    "id": "xl2xIn-Wm3_F"
   },
   "source": [
    "We see that this program has several input parameters, which we'll configure below. To run the program, we'll set up its two main components: `inputs` (the input parameters from the program metadata) and `options` (the quantum backend). We'll also define a callback function so that the intermediate results of the algorithm will be printed as the program runs. Note that each step of the algorithm for the settings we've selected here takes approximately 11 minutes."
   ]
  },
  {
   "cell_type": "code",
   "execution_count": 14,
   "metadata": {
    "id": "NSg6xkB-m3_F"
   },
   "outputs": [],
   "source": [
    "def interim_result_callback(job_id, interim_result):\n",
    "    print(f\"interim result: {interim_result}\\n\")"
   ]
  },
  {
   "cell_type": "code",
   "execution_count": 15,
   "metadata": {
    "id": "kER-9S-7m3_F",
    "outputId": "6d90dde7-1f76-4e7c-c485-68b079512e49"
   },
   "outputs": [
    {
     "name": "stdout",
     "output_type": "stream",
     "text": [
      "cdlmas7tlcfkm5f4vi80\n",
      "interim result: {'cost': 1.411699290346566, 'kernel_parameters': array([0.08638903])}\n",
      "\n",
      "interim result: {'cost': 1.4003458282870307, 'kernel_parameters': array([0.07827871])}\n",
      "\n",
      "interim result: {'cost': 1.4017274584401809, 'kernel_parameters': array([0.07315348])}\n",
      "\n",
      "interim result: {'cost': 1.3966018785129912, 'kernel_parameters': array([0.06989269])}\n",
      "\n",
      "interim result: {'cost': 1.3938316097147694, 'kernel_parameters': array([0.06704664])}\n",
      "\n",
      "interim result: {'cost': 1.3928387089429033, 'kernel_parameters': array([0.06416326])}\n",
      "\n",
      "interim result: {'cost': 1.393102184006977, 'kernel_parameters': array([0.06323925])}\n",
      "\n",
      "interim result: {'cost': 1.3910123383214743, 'kernel_parameters': array([0.06179243])}\n",
      "\n",
      "interim result: {'cost': 1.3936686957588371, 'kernel_parameters': array([0.06111025])}\n",
      "\n",
      "interim result: {'cost': 1.3903905770368636, 'kernel_parameters': array([0.05954821])}\n",
      "\n",
      "interim result: {'aligned_kernel_parameters': array([0.05954821]), 'aligned_kernel_matrix': array([[1.00000000e+00, 8.85009766e-01, 6.98852539e-01, 7.72949219e-01,\n",
      "        8.05786133e-01, 8.93310547e-01, 9.10034180e-01, 8.52172852e-01,\n",
      "        7.14233398e-01, 5.89721680e-01, 7.51708984e-01, 9.14184570e-01,\n",
      "        9.33837891e-01, 7.27416992e-01, 9.49829102e-01, 8.95874023e-01,\n",
      "        8.95874023e-01, 2.44140625e-04, 1.22070312e-04, 1.22070312e-04,\n",
      "        2.44140625e-04, 0.00000000e+00, 7.44628906e-03, 3.41796875e-03,\n",
      "        0.00000000e+00, 4.88281250e-04, 0.00000000e+00, 0.00000000e+00,\n",
      "        3.66210938e-04, 0.00000000e+00],\n",
      "       [8.85009766e-01, 1.00000000e+00, 8.58154297e-01, 9.06127930e-01,\n",
      "        9.26757812e-01, 8.76220703e-01, 9.55810547e-01, 9.59228516e-01,\n",
      "        7.21069336e-01, 7.90283203e-01, 8.35571289e-01, 9.65209961e-01,\n",
      "        9.48730469e-01, 8.00659180e-01, 9.12353516e-01, 9.73388672e-01,\n",
      "        9.36157227e-01, 3.66210938e-04, 1.09863281e-03, 0.00000000e+00,\n",
      "        1.70898438e-03, 0.00000000e+00, 6.22558594e-03, 6.83593750e-03,\n",
      "        0.00000000e+00, 0.00000000e+00, 4.88281250e-04, 0.00000000e+00,\n",
      "        1.46484375e-03, 1.22070312e-04],\n",
      "       [6.98852539e-01, 8.58154297e-01, 1.00000000e+00, 6.54296875e-01,\n",
      "        7.15942383e-01, 5.96923828e-01, 7.37792969e-01, 7.21313477e-01,\n",
      "        5.08544922e-01, 7.06420898e-01, 6.46728516e-01, 8.52050781e-01,\n",
      "        8.71826172e-01, 5.20874023e-01, 7.14721680e-01, 8.78906250e-01,\n",
      "        7.33642578e-01, 1.58691406e-03, 5.37109375e-03, 6.10351562e-04,\n",
      "        4.88281250e-03, 3.90625000e-03, 1.25732422e-02, 1.95312500e-02,\n",
      "        4.88281250e-04, 4.39453125e-03, 3.66210938e-03, 6.10351562e-04,\n",
      "        7.44628906e-03, 1.83105469e-03],\n",
      "       [7.72949219e-01, 9.06127930e-01, 6.54296875e-01, 1.00000000e+00,\n",
      "        9.57275391e-01, 8.60229492e-01, 9.00512695e-01, 9.74853516e-01,\n",
      "        6.63330078e-01, 7.83813477e-01, 7.07153320e-01, 8.69140625e-01,\n",
      "        7.75756836e-01, 9.29199219e-01, 8.54858398e-01, 8.31787109e-01,\n",
      "        8.81469727e-01, 7.32421875e-04, 1.22070312e-04, 1.22070312e-04,\n",
      "        6.10351562e-04, 0.00000000e+00, 5.12695312e-03, 4.51660156e-03,\n",
      "        0.00000000e+00, 0.00000000e+00, 0.00000000e+00, 0.00000000e+00,\n",
      "        7.32421875e-04, 1.22070312e-04],\n",
      "       [8.05786133e-01, 9.26757812e-01, 7.15942383e-01, 9.57275391e-01,\n",
      "        1.00000000e+00, 8.69873047e-01, 9.11865234e-01, 9.44091797e-01,\n",
      "        6.47583008e-01, 7.48168945e-01, 6.87133789e-01, 9.06127930e-01,\n",
      "        8.26904297e-01, 9.16015625e-01, 8.88061523e-01, 8.42895508e-01,\n",
      "        9.19799805e-01, 2.44140625e-04, 3.17382812e-03, 0.00000000e+00,\n",
      "        1.46484375e-03, 9.76562500e-04, 1.03759766e-02, 1.08642578e-02,\n",
      "        0.00000000e+00, 1.09863281e-03, 1.70898438e-03, 1.22070312e-04,\n",
      "        2.68554688e-03, 4.88281250e-04],\n",
      "       [8.93310547e-01, 8.76220703e-01, 5.96923828e-01, 8.60229492e-01,\n",
      "        8.69873047e-01, 1.00000000e+00, 9.62280273e-01, 9.00878906e-01,\n",
      "        6.32080078e-01, 6.82617188e-01, 8.20068359e-01, 8.34472656e-01,\n",
      "        8.39843750e-01, 7.86987305e-01, 9.28833008e-01, 8.07983398e-01,\n",
      "        9.59716797e-01, 0.00000000e+00, 2.44140625e-04, 6.10351562e-04,\n",
      "        2.44140625e-04, 0.00000000e+00, 2.19726562e-03, 1.70898438e-03,\n",
      "        0.00000000e+00, 2.44140625e-04, 0.00000000e+00, 0.00000000e+00,\n",
      "        2.44140625e-04, 0.00000000e+00],\n",
      "       [9.10034180e-01, 9.55810547e-01, 7.37792969e-01, 9.00512695e-01,\n",
      "        9.11865234e-01, 9.62280273e-01, 1.00000000e+00, 9.60083008e-01,\n",
      "        7.08618164e-01, 7.66357422e-01, 8.60839844e-01, 9.07104492e-01,\n",
      "        9.22973633e-01, 8.02856445e-01, 9.65698242e-01, 9.12353516e-01,\n",
      "        9.78637695e-01, 4.88281250e-04, 4.88281250e-04, 3.66210938e-04,\n",
      "        8.54492188e-04, 0.00000000e+00, 5.24902344e-03, 4.51660156e-03,\n",
      "        0.00000000e+00, 0.00000000e+00, 2.44140625e-04, 0.00000000e+00,\n",
      "        8.54492188e-04, 0.00000000e+00],\n",
      "       [8.52172852e-01, 9.59228516e-01, 7.21313477e-01, 9.74853516e-01,\n",
      "        9.44091797e-01, 9.00878906e-01, 9.60083008e-01, 1.00000000e+00,\n",
      "        7.24853516e-01, 8.00415039e-01, 8.03955078e-01, 9.21020508e-01,\n",
      "        8.73291016e-01, 8.91479492e-01, 9.29809570e-01, 9.16503906e-01,\n",
      "        9.35913086e-01, 6.10351562e-04, 4.88281250e-04, 7.32421875e-04,\n",
      "        9.76562500e-04, 0.00000000e+00, 8.17871094e-03, 5.00488281e-03,\n",
      "        0.00000000e+00, 0.00000000e+00, 2.44140625e-04, 0.00000000e+00,\n",
      "        4.88281250e-04, 0.00000000e+00],\n",
      "       [7.14233398e-01, 7.21069336e-01, 5.08544922e-01, 6.63330078e-01,\n",
      "        6.47583008e-01, 6.32080078e-01, 7.08618164e-01, 7.24853516e-01,\n",
      "        1.00000000e+00, 4.13085938e-01, 6.65893555e-01, 7.06176758e-01,\n",
      "        6.71264648e-01, 7.06665039e-01, 7.56958008e-01, 7.38403320e-01,\n",
      "        6.11206055e-01, 4.88281250e-04, 2.44140625e-04, 2.44140625e-04,\n",
      "        1.70898438e-03, 0.00000000e+00, 4.02832031e-03, 2.56347656e-03,\n",
      "        0.00000000e+00, 3.66210938e-04, 0.00000000e+00, 0.00000000e+00,\n",
      "        9.76562500e-04, 0.00000000e+00],\n",
      "       [5.89721680e-01, 7.90283203e-01, 7.06420898e-01, 7.83813477e-01,\n",
      "        7.48168945e-01, 6.82617188e-01, 7.66357422e-01, 8.00415039e-01,\n",
      "        4.13085938e-01, 1.00000000e+00, 7.26684570e-01, 7.03857422e-01,\n",
      "        7.62451172e-01, 6.44042969e-01, 6.99096680e-01, 7.60986328e-01,\n",
      "        8.09936523e-01, 1.22070312e-04, 0.00000000e+00, 7.32421875e-04,\n",
      "        3.66210938e-04, 0.00000000e+00, 5.49316406e-03, 5.37109375e-03,\n",
      "        0.00000000e+00, 1.22070312e-04, 0.00000000e+00, 0.00000000e+00,\n",
      "        4.88281250e-04, 0.00000000e+00],\n",
      "       [7.51708984e-01, 8.35571289e-01, 6.46728516e-01, 7.07153320e-01,\n",
      "        6.87133789e-01, 8.20068359e-01, 8.60839844e-01, 8.03955078e-01,\n",
      "        6.65893555e-01, 7.26684570e-01, 1.00000000e+00, 7.22167969e-01,\n",
      "        8.24829102e-01, 6.17309570e-01, 8.16162109e-01, 8.06762695e-01,\n",
      "        8.31176758e-01, 0.00000000e+00, 1.22070312e-04, 9.76562500e-04,\n",
      "        0.00000000e+00, 3.66210938e-04, 1.70898438e-03, 1.09863281e-03,\n",
      "        1.22070312e-04, 1.22070312e-03, 1.22070312e-04, 2.44140625e-04,\n",
      "        1.22070312e-04, 0.00000000e+00],\n",
      "       [9.14184570e-01, 9.65209961e-01, 8.52050781e-01, 8.69140625e-01,\n",
      "        9.06127930e-01, 8.34472656e-01, 9.07104492e-01, 9.21020508e-01,\n",
      "        7.06176758e-01, 7.03857422e-01, 7.22167969e-01, 1.00000000e+00,\n",
      "        9.48242188e-01, 7.95288086e-01, 9.12109375e-01, 9.65942383e-01,\n",
      "        9.01367188e-01, 8.54492188e-04, 1.95312500e-03, 0.00000000e+00,\n",
      "        1.22070312e-03, 2.44140625e-04, 9.15527344e-03, 9.39941406e-03,\n",
      "        0.00000000e+00, 2.44140625e-04, 7.32421875e-04, 1.22070312e-04,\n",
      "        2.92968750e-03, 2.44140625e-04],\n",
      "       [9.33837891e-01, 9.48730469e-01, 8.71826172e-01, 7.75756836e-01,\n",
      "        8.26904297e-01, 8.39843750e-01, 9.22973633e-01, 8.73291016e-01,\n",
      "        6.71264648e-01, 7.62451172e-01, 8.24829102e-01, 9.48242188e-01,\n",
      "        1.00000000e+00, 6.98120117e-01, 9.27001953e-01, 9.74487305e-01,\n",
      "        9.32617188e-01, 6.10351562e-04, 9.76562500e-04, 6.10351562e-04,\n",
      "        6.10351562e-04, 1.22070312e-04, 8.05664062e-03, 9.15527344e-03,\n",
      "        0.00000000e+00, 0.00000000e+00, 3.66210938e-04, 0.00000000e+00,\n",
      "        1.83105469e-03, 0.00000000e+00],\n",
      "       [7.27416992e-01, 8.00659180e-01, 5.20874023e-01, 9.29199219e-01,\n",
      "        9.16015625e-01, 7.86987305e-01, 8.02856445e-01, 8.91479492e-01,\n",
      "        7.06665039e-01, 6.44042969e-01, 6.17309570e-01, 7.95288086e-01,\n",
      "        6.98120117e-01, 1.00000000e+00, 8.16284180e-01, 7.31933594e-01,\n",
      "        8.03710938e-01, 2.44140625e-04, 9.76562500e-04, 0.00000000e+00,\n",
      "        1.09863281e-03, 0.00000000e+00, 6.71386719e-03, 3.78417969e-03,\n",
      "        0.00000000e+00, 0.00000000e+00, 1.22070312e-04, 0.00000000e+00,\n",
      "        4.88281250e-04, 3.66210938e-04],\n",
      "       [9.49829102e-01, 9.12353516e-01, 7.14721680e-01, 8.54858398e-01,\n",
      "        8.88061523e-01, 9.28833008e-01, 9.65698242e-01, 9.29809570e-01,\n",
      "        7.56958008e-01, 6.99096680e-01, 8.16162109e-01, 9.12109375e-01,\n",
      "        9.27001953e-01, 8.16284180e-01, 1.00000000e+00, 9.10766602e-01,\n",
      "        9.48120117e-01, 1.34277344e-03, 1.22070312e-03, 0.00000000e+00,\n",
      "        1.58691406e-03, 3.66210938e-04, 1.15966797e-02, 1.14746094e-02,\n",
      "        0.00000000e+00, 0.00000000e+00, 1.22070312e-03, 1.22070312e-04,\n",
      "        2.56347656e-03, 3.66210938e-04],\n",
      "       [8.95874023e-01, 9.73388672e-01, 8.78906250e-01, 8.31787109e-01,\n",
      "        8.42895508e-01, 8.07983398e-01, 9.12353516e-01, 9.16503906e-01,\n",
      "        7.38403320e-01, 7.60986328e-01, 8.06762695e-01, 9.65942383e-01,\n",
      "        9.74487305e-01, 7.31933594e-01, 9.10766602e-01, 1.00000000e+00,\n",
      "        8.80981445e-01, 8.54492188e-04, 1.09863281e-03, 2.44140625e-04,\n",
      "        9.76562500e-04, 2.44140625e-04, 8.30078125e-03, 7.44628906e-03,\n",
      "        1.22070312e-04, 1.22070312e-04, 6.10351562e-04, 0.00000000e+00,\n",
      "        1.95312500e-03, 4.88281250e-04],\n",
      "       [8.95874023e-01, 9.36157227e-01, 7.33642578e-01, 8.81469727e-01,\n",
      "        9.19799805e-01, 9.59716797e-01, 9.78637695e-01, 9.35913086e-01,\n",
      "        6.11206055e-01, 8.09936523e-01, 8.31176758e-01, 9.01367188e-01,\n",
      "        9.32617188e-01, 8.03710938e-01, 9.48120117e-01, 8.80981445e-01,\n",
      "        1.00000000e+00, 1.22070312e-04, 7.32421875e-04, 2.44140625e-04,\n",
      "        4.88281250e-04, 1.22070312e-04, 6.34765625e-03, 4.63867188e-03,\n",
      "        0.00000000e+00, 0.00000000e+00, 2.44140625e-04, 0.00000000e+00,\n",
      "        8.54492188e-04, 1.22070312e-04],\n",
      "       [2.44140625e-04, 3.66210938e-04, 1.58691406e-03, 7.32421875e-04,\n",
      "        2.44140625e-04, 0.00000000e+00, 4.88281250e-04, 6.10351562e-04,\n",
      "        4.88281250e-04, 1.22070312e-04, 0.00000000e+00, 8.54492188e-04,\n",
      "        6.10351562e-04, 2.44140625e-04, 1.34277344e-03, 8.54492188e-04,\n",
      "        1.22070312e-04, 1.00000000e+00, 8.66699219e-01, 8.24707031e-01,\n",
      "        9.55200195e-01, 8.03833008e-01, 8.49975586e-01, 6.93847656e-01,\n",
      "        8.65478516e-01, 7.55859375e-01, 9.02343750e-01, 8.70727539e-01,\n",
      "        8.26782227e-01, 9.11743164e-01],\n",
      "       [1.22070312e-04, 1.09863281e-03, 5.37109375e-03, 1.22070312e-04,\n",
      "        3.17382812e-03, 2.44140625e-04, 4.88281250e-04, 4.88281250e-04,\n",
      "        2.44140625e-04, 0.00000000e+00, 1.22070312e-04, 1.95312500e-03,\n",
      "        9.76562500e-04, 9.76562500e-04, 1.22070312e-03, 1.09863281e-03,\n",
      "        7.32421875e-04, 8.66699219e-01, 1.00000000e+00, 8.33374023e-01,\n",
      "        8.75854492e-01, 7.73681641e-01, 9.15039062e-01, 7.85644531e-01,\n",
      "        8.63281250e-01, 8.38134766e-01, 8.34228516e-01, 7.05810547e-01,\n",
      "        8.21655273e-01, 8.94531250e-01],\n",
      "       [1.22070312e-04, 0.00000000e+00, 6.10351562e-04, 1.22070312e-04,\n",
      "        0.00000000e+00, 6.10351562e-04, 3.66210938e-04, 7.32421875e-04,\n",
      "        2.44140625e-04, 7.32421875e-04, 9.76562500e-04, 0.00000000e+00,\n",
      "        6.10351562e-04, 0.00000000e+00, 0.00000000e+00, 2.44140625e-04,\n",
      "        2.44140625e-04, 8.24707031e-01, 8.33374023e-01, 1.00000000e+00,\n",
      "        9.05883789e-01, 9.20410156e-01, 7.29492188e-01, 7.96752930e-01,\n",
      "        8.11523438e-01, 9.15893555e-01, 8.97949219e-01, 8.56689453e-01,\n",
      "        8.84765625e-01, 9.36279297e-01],\n",
      "       [2.44140625e-04, 1.70898438e-03, 4.88281250e-03, 6.10351562e-04,\n",
      "        1.46484375e-03, 2.44140625e-04, 8.54492188e-04, 9.76562500e-04,\n",
      "        1.70898438e-03, 3.66210938e-04, 0.00000000e+00, 1.22070312e-03,\n",
      "        6.10351562e-04, 1.09863281e-03, 1.58691406e-03, 9.76562500e-04,\n",
      "        4.88281250e-04, 9.55200195e-01, 8.75854492e-01, 9.05883789e-01,\n",
      "        1.00000000e+00, 9.30297852e-01, 8.59130859e-01, 8.17871094e-01,\n",
      "        8.63159180e-01, 8.86352539e-01, 9.69482422e-01, 9.22119141e-01,\n",
      "        9.40673828e-01, 9.29199219e-01],\n",
      "       [0.00000000e+00, 0.00000000e+00, 3.90625000e-03, 0.00000000e+00,\n",
      "        9.76562500e-04, 0.00000000e+00, 0.00000000e+00, 0.00000000e+00,\n",
      "        0.00000000e+00, 0.00000000e+00, 3.66210938e-04, 2.44140625e-04,\n",
      "        1.22070312e-04, 0.00000000e+00, 3.66210938e-04, 2.44140625e-04,\n",
      "        1.22070312e-04, 8.03833008e-01, 7.73681641e-01, 9.20410156e-01,\n",
      "        9.30297852e-01, 1.00000000e+00, 6.96777344e-01, 8.15673828e-01,\n",
      "        7.68676758e-01, 9.65942383e-01, 9.56176758e-01, 8.96972656e-01,\n",
      "        9.62402344e-01, 8.65600586e-01],\n",
      "       [7.44628906e-03, 6.22558594e-03, 1.25732422e-02, 5.12695312e-03,\n",
      "        1.03759766e-02, 2.19726562e-03, 5.24902344e-03, 8.17871094e-03,\n",
      "        4.02832031e-03, 5.49316406e-03, 1.70898438e-03, 9.15527344e-03,\n",
      "        8.05664062e-03, 6.71386719e-03, 1.15966797e-02, 8.30078125e-03,\n",
      "        6.34765625e-03, 8.49975586e-01, 9.15039062e-01, 7.29492188e-01,\n",
      "        8.59130859e-01, 6.96777344e-01, 1.00000000e+00, 8.67797852e-01,\n",
      "        7.49633789e-01, 7.30834961e-01, 7.67944336e-01, 6.22680664e-01,\n",
      "        7.84790039e-01, 8.35327148e-01],\n",
      "       [3.41796875e-03, 6.83593750e-03, 1.95312500e-02, 4.51660156e-03,\n",
      "        1.08642578e-02, 1.70898438e-03, 4.51660156e-03, 5.00488281e-03,\n",
      "        2.56347656e-03, 5.37109375e-03, 1.09863281e-03, 9.39941406e-03,\n",
      "        9.15527344e-03, 3.78417969e-03, 1.14746094e-02, 7.44628906e-03,\n",
      "        4.63867188e-03, 6.93847656e-01, 7.85644531e-01, 7.96752930e-01,\n",
      "        8.17871094e-01, 8.15673828e-01, 8.67797852e-01, 1.00000000e+00,\n",
      "        6.41967773e-01, 8.19824219e-01, 7.41821289e-01, 6.04492188e-01,\n",
      "        8.17993164e-01, 8.19335938e-01],\n",
      "       [0.00000000e+00, 0.00000000e+00, 4.88281250e-04, 0.00000000e+00,\n",
      "        0.00000000e+00, 0.00000000e+00, 0.00000000e+00, 0.00000000e+00,\n",
      "        0.00000000e+00, 0.00000000e+00, 1.22070312e-04, 0.00000000e+00,\n",
      "        0.00000000e+00, 0.00000000e+00, 0.00000000e+00, 1.22070312e-04,\n",
      "        0.00000000e+00, 8.65478516e-01, 8.63281250e-01, 8.11523438e-01,\n",
      "        8.63159180e-01, 7.68676758e-01, 7.49633789e-01, 6.41967773e-01,\n",
      "        1.00000000e+00, 7.80395508e-01, 8.66455078e-01, 8.08715820e-01,\n",
      "        8.18725586e-01, 7.93579102e-01],\n",
      "       [4.88281250e-04, 0.00000000e+00, 4.39453125e-03, 0.00000000e+00,\n",
      "        1.09863281e-03, 2.44140625e-04, 0.00000000e+00, 0.00000000e+00,\n",
      "        3.66210938e-04, 1.22070312e-04, 1.22070312e-03, 2.44140625e-04,\n",
      "        0.00000000e+00, 0.00000000e+00, 0.00000000e+00, 1.22070312e-04,\n",
      "        0.00000000e+00, 7.55859375e-01, 8.38134766e-01, 9.15893555e-01,\n",
      "        8.86352539e-01, 9.65942383e-01, 7.30834961e-01, 8.19824219e-01,\n",
      "        7.80395508e-01, 1.00000000e+00, 9.24316406e-01, 8.12133789e-01,\n",
      "        9.62890625e-01, 8.45458984e-01],\n",
      "       [0.00000000e+00, 4.88281250e-04, 3.66210938e-03, 0.00000000e+00,\n",
      "        1.70898438e-03, 0.00000000e+00, 2.44140625e-04, 2.44140625e-04,\n",
      "        0.00000000e+00, 0.00000000e+00, 1.22070312e-04, 7.32421875e-04,\n",
      "        3.66210938e-04, 1.22070312e-04, 1.22070312e-03, 6.10351562e-04,\n",
      "        2.44140625e-04, 9.02343750e-01, 8.34228516e-01, 8.97949219e-01,\n",
      "        9.69482422e-01, 9.56176758e-01, 7.67944336e-01, 7.41821289e-01,\n",
      "        8.66455078e-01, 9.24316406e-01, 1.00000000e+00, 9.53369141e-01,\n",
      "        9.63256836e-01, 8.84887695e-01],\n",
      "       [0.00000000e+00, 0.00000000e+00, 6.10351562e-04, 0.00000000e+00,\n",
      "        1.22070312e-04, 0.00000000e+00, 0.00000000e+00, 0.00000000e+00,\n",
      "        0.00000000e+00, 0.00000000e+00, 2.44140625e-04, 1.22070312e-04,\n",
      "        0.00000000e+00, 0.00000000e+00, 1.22070312e-04, 0.00000000e+00,\n",
      "        0.00000000e+00, 8.70727539e-01, 7.05810547e-01, 8.56689453e-01,\n",
      "        9.22119141e-01, 8.96972656e-01, 6.22680664e-01, 6.04492188e-01,\n",
      "        8.08715820e-01, 8.12133789e-01, 9.53369141e-01, 1.00000000e+00,\n",
      "        8.75976562e-01, 8.35571289e-01],\n",
      "       [3.66210938e-04, 1.46484375e-03, 7.44628906e-03, 7.32421875e-04,\n",
      "        2.68554688e-03, 2.44140625e-04, 8.54492188e-04, 4.88281250e-04,\n",
      "        9.76562500e-04, 4.88281250e-04, 1.22070312e-04, 2.92968750e-03,\n",
      "        1.83105469e-03, 4.88281250e-04, 2.56347656e-03, 1.95312500e-03,\n",
      "        8.54492188e-04, 8.26782227e-01, 8.21655273e-01, 8.84765625e-01,\n",
      "        9.40673828e-01, 9.62402344e-01, 7.84790039e-01, 8.17993164e-01,\n",
      "        8.18725586e-01, 9.62890625e-01, 9.63256836e-01, 8.75976562e-01,\n",
      "        1.00000000e+00, 8.54980469e-01],\n",
      "       [0.00000000e+00, 1.22070312e-04, 1.83105469e-03, 1.22070312e-04,\n",
      "        4.88281250e-04, 0.00000000e+00, 0.00000000e+00, 0.00000000e+00,\n",
      "        0.00000000e+00, 0.00000000e+00, 0.00000000e+00, 2.44140625e-04,\n",
      "        0.00000000e+00, 3.66210938e-04, 3.66210938e-04, 4.88281250e-04,\n",
      "        1.22070312e-04, 9.11743164e-01, 8.94531250e-01, 9.36279297e-01,\n",
      "        9.29199219e-01, 8.65600586e-01, 8.35327148e-01, 8.19335938e-01,\n",
      "        7.93579102e-01, 8.45458984e-01, 8.84887695e-01, 8.35571289e-01,\n",
      "        8.54980469e-01, 1.00000000e+00]])}\n",
      "\n"
     ]
    }
   ],
   "source": [
    "from qiskit import IBMQ\n",
    "\n",
    "IBMQ.load_account()\n",
    "provider = IBMQ.get_provider(\n",
    "\thub='ibm-q',\n",
    "\tgroup='open',\n",
    "\tproject='main'\n",
    ")\n",
    "\n",
    "program_inputs = {\n",
    "    'feature_map': fm,\n",
    "    'data': x_train,\n",
    "    'labels': y_train,\n",
    "    'initial_kernel_parameters': initial_point,\n",
    "    'maxiters': maxiters,\n",
    "    'C': C,\n",
    "    'initial_layout': initial_layout\n",
    "}\n",
    "\n",
    "options = {'backend_name': 'ibmq_qasm_simulator'}\n",
    "\n",
    "job = provider.runtime.run(program_id=\"quantum-kernel-alignment\",\n",
    "                              options=options,\n",
    "                              inputs=program_inputs,\n",
    "                              callback=interim_result_callback,\n",
    "                              )\n",
    "\n",
    "print(job.job_id())\n",
    "result = job.result()"
   ]
  },
  {
   "cell_type": "code",
   "execution_count": 16,
   "metadata": {},
   "outputs": [],
   "source": [
    "ejecucion = provider.runtime.job(job.job_id())"
   ]
  },
  {
   "cell_type": "markdown",
   "metadata": {
    "id": "FpESCBbBm3_G"
   },
   "source": [
    "### 4. Retrieve the results of the program\n",
    "\n",
    "Now that we've run the program, we can retrieve the output, which is the aligned kernel parameter and the aligned kernel matrix. Let's also plot this kernel matrix (we'll subtract off the diagonal to show the contrast between the remaining entries). The kernel matrix is expected to have a block-diagonal structure. This reflects the fact that the kernel maps the input data effectively to just two states (modulo the small noise we added to the data; recall the discussion above). That is, data in the same coset (same class label) have a larger overlap than do data from different cosets."
   ]
  },
  {
   "cell_type": "code",
   "execution_count": 17,
   "metadata": {
    "id": "IdwciJo-m3_G",
    "outputId": "ccf2bbe4-1e12-41b9-cb55-805e86a7f16f",
    "scrolled": true
   },
   "outputs": [
    {
     "name": "stdout",
     "output_type": "stream",
     "text": [
      "aligned_kernel_parameters: [0.05954821]\n"
     ]
    },
    {
     "data": {
      "image/png": "[encoded data removed]",
      "text/plain": [
       "<Figure size 432x288 with 1 Axes>"
      ]
     },
     "metadata": {
      "needs_background": "light"
     },
     "output_type": "display_data"
    }
   ],
   "source": [
    "print(f\"aligned_kernel_parameters: {result['aligned_kernel_parameters']}\")\n",
    "\n",
    "from matplotlib import pyplot as plt\n",
    "from pylab import cm\n",
    "plt.rcParams['font.size'] = 20\n",
    "plt.imshow(result['aligned_kernel_matrix']-np.identity(2*num_train), cmap=cm.get_cmap('bwr', 20))\n",
    "plt.show()"
   ]
  },
  {
   "cell_type": "markdown",
   "metadata": {
    "id": "9YqFW1cOm3_G"
   },
   "source": [
    "# Use the results of the program to test an SVM on new data\n",
    "\n",
    "Equipped with the aligned kernel and its optimized parameter, we can use the `sklearn` package to train an SVM and then evaluate its classification accuracy on new test points. Note that a second kernel matrix built from the test points is needed for the SVM decision function."
   ]
  },
  {
   "cell_type": "code",
   "execution_count": 20,
   "metadata": {
    "id": "YwEKcZ7jm3_G",
    "outputId": "bb0da715-773a-4e1c-c79f-1ccc40f29076",
    "scrolled": true
   },
   "outputs": [
    {
     "name": "stdout",
     "output_type": "stream",
     "text": [
      "accuracy test: 1.0\n"
     ]
    }
   ],
   "source": [
    "from qiskit_runtime.qka import KernelMatrix\n",
    "from qiskit.providers.aer import QasmSimulator\n",
    "from sklearn.svm import SVC\n",
    "from sklearn import metrics\n",
    "\n",
    "# train the SVM with the aligned kernel matrix:\n",
    "\n",
    "kernel_aligned = result['aligned_kernel_matrix']\n",
    "model = SVC(C=C, kernel='precomputed')\n",
    "model.fit(X=kernel_aligned, y=y_train)\n",
    "\n",
    "# test the SVM on new data:\n",
    "backend = provider.get_backend('ibmq_qasm_simulator')\n",
    "km = KernelMatrix(feature_map=fm, backend=backend, initial_layout=initial_layout)\n",
    "kernel_test = km.construct_kernel_matrix(x1_vec=x_test, x2_vec=x_train, parameters=result['aligned_kernel_parameters'])\n",
    "labels_test = model.predict(X=kernel_test)\n",
    "accuracy_test = metrics.balanced_accuracy_score(y_true=y_test, y_pred=labels_test)\n",
    "print(f\"accuracy test: {accuracy_test}\")\n"
   ]
  },
  {
   "cell_type": "code",
   "execution_count": null,
   "metadata": {
    "id": "3NEbfGUbm3_H",
    "outputId": "47ed69ae-ecd4-4dea-a67f-2fba2d11d4e5"
   },
   "outputs": [],
   "source": [
    "import qiskit.tools.jupyter\n",
    "%qiskit_version_table\n",
    "%qiskit_copyright"
   ]
  },
  {
   "cell_type": "code",
   "execution_count": null,
   "metadata": {},
   "outputs": [],
   "source": []
  }
 ],
 "metadata": {
  "colab": {
   "name": "qka.ipynb",
   "provenance": []
  },
  "kernelspec": {
   "display_name": "Python 3 (ipykernel)",
   "language": "python",
   "name": "python3"
  },
  "language_info": {
   "codemirror_mode": {
    "name": "ipython",
    "version": 3
   },
   "file_extension": ".py",
   "mimetype": "text/x-python",
   "name": "python",
   "nbconvert_exporter": "python",
   "pygments_lexer": "ipython3",
   "version": "3.8.13"
  },
  "widgets": {
   "application/vnd.jupyter.widget-state+json": {
    "state": {},
    "version_major": 2,
    "version_minor": 0
   }
  }
 },
 "nbformat": 4,
 "nbformat_minor": 4
}
