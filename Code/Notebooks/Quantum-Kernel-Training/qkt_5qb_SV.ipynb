{
 "cells": [
  {
   "attachments": {},
   "cell_type": "markdown",
   "id": "38df9aa0",
   "metadata": {},
   "source": [
    "# Quantum Kernel Training for Machine Learning Applications\n",
    "\n",
    "In this Notebook, we will train a quantum kernel on a labeled dataset for a machine learning application. To illustrate the basic steps, we will use Quantum Kernel Alignment (QKA) for a binary classification task. QKA is a technique that iteratively adapts a parametrized quantum kernel to a dataset while converging to the maximum SVM margin. More information about QKA can be found in the [background material](https://github.com/qiskit-community/prototype-quantum-kernel-training/blob/main/docs/background/svm_weighted_kernel_alignment.ipynb) and in the preprint [\"Covariant quantum kernels for data with group structure.\"](https://arxiv.org/abs/2105.03406)\n",
    "\n",
    "The QKT Tookit enables kernel training for loss functions and learning problems beyond QKA. Check out the [how-to guides](https://github.com/qiskit-community/prototype-quantum-kernel-training/tree/main/docs/how_tos) for information on building custom kernel training algorithms within this framework.  \n",
    "\n",
    "The entry point to training a quantum kernel is the `QuantumKernelTrainer`. The basic steps are:\n",
    "\n",
    "1. Prepare the dataset\n",
    "2. Define the quantum feature map\n",
    "3. Set up the `QuantumKernel` and `QuantumKernelTrainer` objects\n",
    "4. Use the `QuantumKernelTrainer.fit_kernel` method to train the kernel parameters on the dataset\n",
    "5. Pass the trained quantum kernel to a machine learning model"
   ]
  },
  {
   "attachments": {},
   "cell_type": "markdown",
   "id": "96a51082",
   "metadata": {},
   "source": [
    "### Environment setup\n",
    "\n",
    "In this step we will check if we have QKT available in the system. If not, we will clone the repository and install the package."
   ]
  },
  {
   "cell_type": "code",
   "execution_count": null,
   "id": "02913ddb",
   "metadata": {},
   "outputs": [],
   "source": [
    "# Put this repository on the Python path and import qkt pkgs\n",
    "path = 'prototype-quantum-kernel-training'\n",
    "  # Check whether the specified\n",
    "# path exists or not\n",
    "Exist = os.path.exists(path)\n",
    "\n",
    "#Si no existe el path clonaremos el repositorio en ese path, si ya existe no haremos nada.\n",
    "if Exist == False: \n",
    "    print('Clonando Repositorio...')\n",
    "    !git clone https://github.com/qiskit-community/prototype-quantum-kernel-training.git\n",
    "    \n",
    "else: \n",
    "    print('No se clonará el repositorio debido a que ya existe en el sistema')\n",
    "    \n",
    "module_path = os.path.abspath(os.path.join(path))\n",
    "sys.path.append(module_path)\n",
    "from qkt.feature_maps import CovariantFeatureMap\n",
    "from qkt.utils import train_test_split, QKTCallback"
   ]
  },
  {
   "cell_type": "markdown",
   "id": "ed6aafa9",
   "metadata": {},
   "source": [
    "### Import Local, External, and Qiskit Packages"
   ]
  },
  {
   "cell_type": "code",
   "execution_count": 1,
   "id": "1a646351",
   "metadata": {
    "tags": []
   },
   "outputs": [
    {
     "name": "stdout",
     "output_type": "stream",
     "text": [
      "No se clonará el repositorio debido a que ya existe en el sistema\n"
     ]
    }
   ],
   "source": [
    "# pylint: disable=import-error, wrong-import-position\n",
    "\n",
    "# Python imports\n",
    "import os\n",
    "import sys\n",
    "import io\n",
    "import time\n",
    "\n",
    "# External imports\n",
    "from pylab import cm\n",
    "from sklearn import metrics\n",
    "import numpy as np\n",
    "import matplotlib.pyplot as plt\n",
    "import numpy.matlib as matl\n",
    "from sklearn.svm import SVC\n",
    "from matplotlib.colors import ListedColormap\n",
    "from IPython.display import display\n",
    "\n",
    "import pandas as pd\n",
    "import sklearn.preprocessing as skpp\n",
    "\n",
    "from sklearn.model_selection import GridSearchCV\n",
    "from sklearn.model_selection import train_test_split\n",
    "from sklearn.model_selection import cross_val_score\n",
    "from sklearn import cluster, datasets, mixture\n",
    "\n",
    "\n",
    "\n",
    "np.random.seed(19)\n",
    "\n",
    "%matplotlib inline\n",
    "\n",
    "# Qiskit imports\n",
    "from qiskit import BasicAer\n",
    "from qiskit.visualization import circuit_drawer\n",
    "from qiskit.algorithms.optimizers import SPSA\n",
    "from qiskit_machine_learning.kernels import QuantumKernel\n",
    "from qiskit_machine_learning.kernels.algorithms import QuantumKernelTrainer\n",
    "from qiskit_machine_learning.algorithms import QSVC"
   ]
  },
  {
   "attachments": {},
   "cell_type": "markdown",
   "id": "39535c04",
   "metadata": {
    "tags": []
   },
   "source": [
    "### Loading and Preparing the Dataset\n",
    "\n",
    "We start by loading and preparing the dataset. In this example, we load the file `Data_5qubit.csv`  generated using MATLAB and the methodology detailed in this Master's Thesis. If we inspect the dataset, we see that each sample has $5\\times2=10$ features and the labels are binary $\\pm1$."
   ]
  },
  {
   "cell_type": "code",
   "execution_count": 2,
   "id": "2311cff1",
   "metadata": {
    "tags": []
   },
   "outputs": [],
   "source": [
    "# Load the dataset and split into train and test sets\n",
    "DATA_FILEPATH = \"Data_5qubit.csv\"\n",
    "\n",
    "num_train = 25\n",
    "num_test = 15\n",
    "#Train test split\n",
    "df = pd.read_csv(DATA_FILEPATH,header = None)\n",
    "\n",
    "df.loc[df[10] == 2, 10] = -1\n",
    "df = df.sample(frac=1).reset_index(drop=True)\n",
    "\n",
    "data = df.values\n",
    "\n",
    "\n",
    "train = data[:2*num_train, :]\n",
    "test = data[2*num_train:2*(num_train+num_test), :]\n",
    "\n",
    "ind = np.argsort(train[:,-1])\n",
    "X_train = train[ind][:,:-1]\n",
    "y_train = train[ind][:,-1]\n",
    "\n",
    "ind = np.argsort(test[:,-1])\n",
    "X_test = test[ind][:,:-1]\n",
    "y_test = test[ind][:,-1]"
   ]
  },
  {
   "attachments": {},
   "cell_type": "markdown",
   "id": "41a439be",
   "metadata": {},
   "source": [
    "### Define the Quantum Feature Map\n",
    "\n",
    "Next, we set up the quantum feature map, which encodes classical data into the quantum state space. Here, we import the `CovariantFeatureMap` map from the QKT Toolkit. This feature map is tailored to the group structure of this particular dataset. For a deeper look into covariant quantum kernels for data with group structure check out the [background material](https://github.com/qiskit-community/prototype-quantum-kernel-training/blob/main/docs/background/qkernels_and_data_w_group_structure.ipynb). For more information on defining quantum feature maps in Qiskit, check out our guides on [creating custom feature maps](https://github.com/qiskit-community/prototype-quantum-kernel-training/blob/main/docs/how_tos/create_custom_quantum_feature_map.ipynb) and [building trainable feature maps from existing circuits in Qiskit's circuit library](https://github.com/qiskit-community/prototype-quantum-kernel-training/blob/main/docs/how_tos/train_kernels_using_qiskit_feature_maps.ipynb). \n",
    "\n",
    "To instantiate the `CovariantFeatureMap`, we specify:\n",
    "- Feature dimension\n",
    "- Entanglement structure of the quantum circuit\n",
    "- Type of parametrization for the trainable parameters\n",
    "\n",
    "In this example, we set the `feature_dimension` to that of the dataset. In addition, the `entanglement` parameter controls the structure of the [fiducial state of the covariant quantum feature map](https://github.com/qiskit-community/prototype-quantum-kernel-training/blob/main/docs/background/qkernels_and_data_w_group_structure.ipynb). We choose `entanglement` to match the graph used to generate the dataset ([IBMQ Belem Connectivity Graph](https://quantum-computing.ibm.com/services/resources?system=ibmq_belem)). With this selection, we expect our model to perform well on this dataset. However, other entanglement structures can be used if one does not have prior knowledge of what might constitute a good choice."
   ]
  },
  {
   "cell_type": "code",
   "execution_count": 3,
   "id": "60b58ede",
   "metadata": {
    "tags": []
   },
   "outputs": [
    {
     "data": {
      "image/png": "[encoded data removed]",
      "text/plain": [
       "<Figure size 956.385x451.5 with 1 Axes>"
      ]
     },
     "execution_count": 3,
     "metadata": {},
     "output_type": "execute_result"
    }
   ],
   "source": [
    "num_features = np.shape(X_train)[1]\n",
    "entangler_map = [[0,1],[1,2],[1,3],[3,4]]\n",
    "\n",
    "\n",
    "fm = CovariantFeatureMap(\n",
    "    feature_dimension=num_features,\n",
    "    entanglement=entangler_map,\n",
    "    single_training_parameter=True,\n",
    ")\n",
    "circuit_drawer(fm)"
   ]
  },
  {
   "attachments": {},
   "cell_type": "markdown",
   "id": "cd4f5951",
   "metadata": {},
   "source": [
    "The trainable parameters can be extracted from the CovariantFeatureMap class :"
   ]
  },
  {
   "cell_type": "code",
   "execution_count": 4,
   "id": "d8c276cd",
   "metadata": {
    "tags": []
   },
   "outputs": [
    {
     "name": "stdout",
     "output_type": "stream",
     "text": [
      "θ_par, ['θ_par[0]']\n"
     ]
    }
   ],
   "source": [
    "print(fm.user_parameters)"
   ]
  },
  {
   "attachments": {},
   "cell_type": "markdown",
   "id": "54ae41ca",
   "metadata": {},
   "source": [
    "### Set Up the Quantum Kernel and Quantum Kernel Trainer\n",
    "\n",
    "To train the quantum kernel, we need a `QuantumKernel` (holds the feature map and its parameters as well as a backend) and a `QuantumKernelTrainer` (manages the training process).\n",
    "\n",
    "The backend selected for this run is the `statevector_simulator`. This is a good choice for this example since the dataset is small and the feature map is shallow. \n",
    "\n",
    "Since we will train with a Qiskit-supported loss function, `SVCLoss`, we specify the corresponding loss function of the `QuantumKernelTrainer` with the string `\"svc_loss\"`. Note that default settings of the loss function are used when passing it as a string. For custom settings, instantiate the loss explicitly with the desired values. Check out [this guide](https://github.com/qiskit-community/prototype-quantum-kernel-training/blob/main/docs/how_tos/create_custom_kernel_loss_function.ipynb) on how to define and use custom kernel loss functions. \n",
    "\n",
    "Additionally, we select SPSA as the optimizer and initialize the trainable parameter to 0.1 with `initial_point`.\n",
    "\n",
    "*Note: The length of the list passed as the `initial_point` argument must equal the number of trainable parameters in the feature map.*"
   ]
  },
  {
   "cell_type": "code",
   "execution_count": 5,
   "id": "a190efef",
   "metadata": {
    "tags": []
   },
   "outputs": [],
   "source": [
    "# Use the qasm simulator backend\n",
    "backend = BasicAer.get_backend(\"statevector_simulator\")\n",
    "\n",
    "# Instantiate quantum kernel\n",
    "quant_kernel = QuantumKernel(\n",
    "    fm, training_parameters=fm.user_parameters, quantum_instance=backend\n",
    ")\n",
    "\n",
    "# Set up the optimizer\n",
    "cb_qkt = QKTCallback()\n",
    "spsa_opt = SPSA(\n",
    "    maxiter=10, callback=cb_qkt.callback, learning_rate=0.1, perturbation=0.1\n",
    ")\n",
    "\n",
    "# Instantiate a quantum kernel trainer.\n",
    "qkt = QuantumKernelTrainer(\n",
    "    quantum_kernel=quant_kernel,\n",
    "    loss=\"svc_loss\",\n",
    "    optimizer=spsa_opt,\n",
    "    initial_point=[0.1] * len(fm.user_parameters),\n",
    ")"
   ]
  },
  {
   "cell_type": "markdown",
   "id": "b6f4fd48",
   "metadata": {},
   "source": [
    "### Train the Quantum Kernel\n",
    "\n",
    "To train the quantum kernel on the dataset (samples and labels), we call the `fit_kernel` method of `QuantumKernelTrainer`."
   ]
  },
  {
   "cell_type": "code",
   "execution_count": 6,
   "id": "9d26212c",
   "metadata": {
    "tags": []
   },
   "outputs": [],
   "source": [
    "# Train the kernel using QKT directly\n",
    "qka_results = qkt.fit(X_train, y_train)\n",
    "optimized_kernel = qka_results.quantum_kernel"
   ]
  },
  {
   "cell_type": "markdown",
   "id": "5455be3c",
   "metadata": {},
   "source": [
    "### Fit and Test the Model\n",
    "\n",
    "We can pass the trained quantum kernel to a machine learning model, then fit the model and test on new data. Here, we will use Qiskit's `QSVC` for classification."
   ]
  },
  {
   "cell_type": "code",
   "execution_count": 7,
   "id": "e716655f",
   "metadata": {
    "tags": []
   },
   "outputs": [
    {
     "name": "stdout",
     "output_type": "stream",
     "text": [
      "accuracy test: 1.0\n",
      "accuracy train: 1.0\n"
     ]
    }
   ],
   "source": [
    "# Use QSVC for classification\n",
    "qsvc = QSVC(quantum_kernel=optimized_kernel,C = 1)\n",
    "\n",
    "# Fit the QSVC\n",
    "qsvc.fit(X_train, y_train)\n",
    "\n",
    "# Predict the labels\n",
    "labels_test = qsvc.predict(X_test)\n",
    "labels_train = qsvc.predict(X_train)\n",
    "\n",
    "# Evaluate the test accuracy\n",
    "accuracy_test = metrics.balanced_accuracy_score(y_true=y_test, y_pred=labels_test)\n",
    "print(f\"accuracy test: {accuracy_test}\")\n",
    "\n",
    "# Evaluate the train accuracy\n",
    "accuracy_train = metrics.balanced_accuracy_score(y_true=y_train, y_pred=labels_train)\n",
    "print(f\"accuracy train: {accuracy_train}\")"
   ]
  },
  {
   "cell_type": "markdown",
   "id": "9cd4cbf2",
   "metadata": {},
   "source": [
    "### Visualize the Kernel Training Process\n",
    "\n",
    "From the callback data, we can plot how the loss evolves during the training process. We see it converges rapidly and reaches 100% test accuracy on this dataset with our choice of inputs.\n",
    "\n",
    "We can also display the final kernel matrix evaluated on the training data. As expected for this dataset, the matrix has a block-diagonal structure. This reflects the fact that this covariant quantum kernel maps the input data of this learning problem to [approximately two quantum feature states](https://github.com/qiskit-community/prototype-quantum-kernel-training/blob/main/docs/background/qkernels_and_data_w_group_structure.ipynb). The small noise that was added to the data, along with the noise when evaluating on a real quantum device, perturbs these two feature states into two small clusters of feature states that should remain easily separable by the machine learning model when the noise is sufficiently small."
   ]
  },
  {
   "cell_type": "code",
   "execution_count": 8,
   "id": "0cb85c46",
   "metadata": {
    "tags": []
   },
   "outputs": [
    {
     "data": {
      "image/png": "[encoded data removed]",
      "text/plain": [
       "<Figure size 1400x500 with 2 Axes>"
      ]
     },
     "metadata": {},
     "output_type": "display_data"
    }
   ],
   "source": [
    "plot_data = cb_qkt.get_callback_data()  # callback data\n",
    "K = optimized_kernel.evaluate(\n",
    "    X_train\n",
    ")  # kernel matrix evaluated on the training samples\n",
    "\n",
    "plt.rcParams[\"font.size\"] = 20\n",
    "fig, ax = plt.subplots(1, 2, figsize=(14, 5))\n",
    "ax[0].plot(\n",
    "    [i + 1 for i in range(len(plot_data[0]))], np.array(plot_data[2]), c=\"k\", marker=\"o\"\n",
    ")\n",
    "ax[0].set_xlabel(\"Iterations\")\n",
    "ax[0].set_ylabel(\"Loss\")\n",
    "ax[1].imshow(K, cmap=cm.get_cmap(\"bwr\", 20))\n",
    "ax[1].axis(\"off\")\n",
    "fig.tight_layout()\n",
    "plt.show()"
   ]
  },
  {
   "attachments": {},
   "cell_type": "markdown",
   "id": "843427a0",
   "metadata": {},
   "source": [
    "### Classical SVM Classifier\n",
    "\n",
    "In this section we will train our classical SVM. To do so, we will use the `sklearn.svm.SVC` class. In this case we will use two classical kernels: \n",
    "\n",
    "* The polynomial kernel \n",
    "* The RBF kernel or Gaussian kernel\n",
    "\n",
    "In addition to this we will also tune the hyperparameters of the SVM using a grid search. Those hyperparameters are:\n",
    "* C\n",
    "* Gamma\n",
    "* Poly Kernel Degree \n",
    "* Coefficient of the polynomial kernel"
   ]
  },
  {
   "cell_type": "code",
   "execution_count": 9,
   "id": "fef2f1ff-f8e2-4278-b43f-2e0723237fd2",
   "metadata": {},
   "outputs": [
    {
     "name": "stdout",
     "output_type": "stream",
     "text": [
      "Training time: 1.294381856918335s\n",
      "Best model:\n",
      "{'C': 0.1, 'break_ties': False, 'cache_size': 200, 'class_weight': None, 'coef0': 1.0, 'decision_function_shape': 'ovr', 'degree': 1, 'gamma': 1.0, 'kernel': 'poly', 'max_iter': -1, 'probability': True, 'random_state': None, 'shrinking': True, 'tol': 0.001, 'verbose': False}\n",
      "Score in training set = 1.000000\n",
      "Score in test set = 1.000000\n"
     ]
    }
   ],
   "source": [
    "grid = [{'C': [0.1,1,10,150],\n",
    "         'gamma': ['auto','scale',1.0,0.1], \n",
    "         'kernel': ['rbf','poly'],\n",
    "         'degree': [1,2,3,4,5],\n",
    "         'coef0':[1.0]}]\n",
    "\n",
    "clf_gridsearch = GridSearchCV(estimator=SVC(probability=True), param_grid=grid, cv=5)\n",
    "start = time.time()\n",
    "clf_gridsearch.fit(X_train, y_train) \n",
    "stop = time.time()\n",
    "print(f\"Training time: {stop - start}s\") \n",
    "\n",
    "# Imprimimos los resultados para el mejor clasificador:\n",
    "clf = clf_gridsearch.best_estimator_\n",
    "print(\"Best model:\")\n",
    "print(clf.get_params())\n",
    "\n",
    "# Calculamos el acierto en los conjuntos de entrenamiento y test:\n",
    "score_train = clf.score(X_train, y_train)\n",
    "print(\"Score in training set = %f\" % (score_train))\n",
    "\n",
    "score_test = clf.score(X_test, y_test)\n",
    "print(\"Score in test set = %f\" % (score_test))"
   ]
  },
  {
   "attachments": {},
   "cell_type": "markdown",
   "id": "93751cbc",
   "metadata": {},
   "source": [
    "### Version information and Resources"
   ]
  },
  {
   "cell_type": "code",
   "execution_count": 10,
   "id": "aa6e50bc",
   "metadata": {
    "tags": []
   },
   "outputs": [
    {
     "data": {
      "text/html": [
       "<h3>Version Information</h3><table><tr><th>Qiskit Software</th><th>Version</th></tr><tr><td><code>qiskit-terra</code></td><td>0.24.0</td></tr><tr><td><code>qiskit-aer</code></td><td>0.12.0</td></tr><tr><td><code>qiskit-ibmq-provider</code></td><td>0.20.2</td></tr><tr><td><code>qiskit</code></td><td>0.43.0</td></tr><tr><td><code>qiskit-nature</code></td><td>0.5.2</td></tr><tr><td><code>qiskit-finance</code></td><td>0.3.4</td></tr><tr><td><code>qiskit-optimization</code></td><td>0.5.0</td></tr><tr><td><code>qiskit-machine-learning</code></td><td>0.6.0</td></tr><tr><th>System information</th></tr><tr><td>Python version</td><td>3.10.8</td></tr><tr><td>Python compiler</td><td>GCC 10.4.0</td></tr><tr><td>Python build</td><td>main, Nov 22 2022 08:26:04</td></tr><tr><td>OS</td><td>Linux</td></tr><tr><td>CPUs</td><td>8</td></tr><tr><td>Memory (Gb)</td><td>31.211322784423828</td></tr><tr><td colspan='2'>Wed May 17 10:44:47 2023 UTC</td></tr></table>"
      ],
      "text/plain": [
       "<IPython.core.display.HTML object>"
      ]
     },
     "metadata": {},
     "output_type": "display_data"
    },
    {
     "data": {
      "text/html": [
       "<div style='width: 100%; background-color:#d5d9e0;padding-left: 10px; padding-bottom: 10px; padding-right: 10px; padding-top: 5px'><h3>This code is a part of Qiskit</h3><p>&copy; Copyright IBM 2017, 2023.</p><p>This code is licensed under the Apache License, Version 2.0. You may<br>obtain a copy of this license in the LICENSE.txt file in the root directory<br> of this source tree or at http://www.apache.org/licenses/LICENSE-2.0.<p>Any modifications or derivative works of this code must retain this<br>copyright notice, and modified files need to carry a notice indicating<br>that they have been altered from the originals.</p></div>"
      ],
      "text/plain": [
       "<IPython.core.display.HTML object>"
      ]
     },
     "metadata": {},
     "output_type": "display_data"
    }
   ],
   "source": [
    "import qiskit.tools.jupyter\n",
    "\n",
    "%qiskit_version_table\n",
    "%qiskit_copyright"
   ]
  },
  {
   "cell_type": "code",
   "execution_count": null,
   "id": "38c65b1a-311c-4902-92d2-ffa0904a4291",
   "metadata": {},
   "outputs": [],
   "source": []
  }
 ],
 "metadata": {
  "kernelspec": {
   "display_name": "Python 3 (ipykernel)",
   "language": "python",
   "name": "python3"
  },
  "language_info": {
   "codemirror_mode": {
    "name": "ipython",
    "version": 3
   },
   "file_extension": ".py",
   "mimetype": "text/x-python",
   "name": "python",
   "nbconvert_exporter": "python",
   "pygments_lexer": "ipython3",
   "version": "3.10.8"
  },
  "rise": {
   "height": "90%",
   "scroll": true,
   "start_slideshow_at": "beginning",
   "theme": "white",
   "transition": "zoom",
   "width": "90%"
  },
  "widgets": {
   "application/vnd.jupyter.widget-state+json": {
    "state": {
     "2662c0958cd8470ab9b35e2693bff923": {
      "model_module": "@jupyter-widgets/controls",
      "model_module_version": "2.0.0",
      "model_name": "HTMLStyleModel",
      "state": {
       "description_width": "",
       "font_size": null,
       "text_color": null
      }
     },
     "2b5ab94142b846b8845b223a01a5ff64": {
      "model_module": "@jupyter-widgets/controls",
      "model_module_version": "2.0.0",
      "model_name": "HTMLModel",
      "state": {
       "layout": "IPY_MODEL_57a1081abb8c467db9fed93c66105f77",
       "style": "IPY_MODEL_c4bf0cd75c804452a81e76e3dbc64964",
       "value": "<h5>Backend</h5>"
      }
     },
     "384d138a57c445c4bd3980f219da1c86": {
      "model_module": "@jupyter-widgets/controls",
      "model_module_version": "2.0.0",
      "model_name": "HTMLStyleModel",
      "state": {
       "description_width": "",
       "font_size": null,
       "text_color": null
      }
     },
     "39f5df22692f4af6a06eac0f7529dd54": {
      "model_module": "@jupyter-widgets/controls",
      "model_module_version": "2.0.0",
      "model_name": "HTMLStyleModel",
      "state": {
       "description_width": "",
       "font_size": null,
       "text_color": null
      }
     },
     "42325c7f57eb4e22bd4b0e62f98f9c0c": {
      "model_module": "@jupyter-widgets/base",
      "model_module_version": "2.0.0",
      "model_name": "LayoutModel",
      "state": {
       "grid_area": "right",
       "padding": "0px 0px 0px 0px",
       "width": "70px"
      }
     },
     "4be533740ba9409e80195ec4133cde6d": {
      "model_module": "@jupyter-widgets/controls",
      "model_module_version": "2.0.0",
      "model_name": "HBoxModel",
      "state": {
       "children": [
        "IPY_MODEL_74c5c2ac14c047498e6cfbb967e95ac7",
        "IPY_MODEL_2b5ab94142b846b8845b223a01a5ff64",
        "IPY_MODEL_fcb2f61e92744997b0a8ef66870b359c",
        "IPY_MODEL_b30a816489bd43ffba1efad817b8eba8",
        "IPY_MODEL_7e460d2fca9d40afa2b2e647af177946"
       ],
       "layout": "IPY_MODEL_5211cfc7269b4528b5d252e83f51c53b"
      }
     },
     "5211cfc7269b4528b5d252e83f51c53b": {
      "model_module": "@jupyter-widgets/base",
      "model_module_version": "2.0.0",
      "model_name": "LayoutModel",
      "state": {
       "margin": "0px 0px 0px 37px",
       "width": "600px"
      }
     },
     "54dcc8f8e6d943dd896f30379d3ff307": {
      "model_module": "@jupyter-widgets/base",
      "model_module_version": "2.0.0",
      "model_name": "LayoutModel",
      "state": {}
     },
     "57a1081abb8c467db9fed93c66105f77": {
      "model_module": "@jupyter-widgets/base",
      "model_module_version": "2.0.0",
      "model_name": "LayoutModel",
      "state": {
       "width": "145px"
      }
     },
     "74c5c2ac14c047498e6cfbb967e95ac7": {
      "model_module": "@jupyter-widgets/controls",
      "model_module_version": "2.0.0",
      "model_name": "HTMLModel",
      "state": {
       "layout": "IPY_MODEL_818c651fd2174325899db3d9ccd08f74",
       "style": "IPY_MODEL_2662c0958cd8470ab9b35e2693bff923",
       "value": "<h5>Job ID</h5>"
      }
     },
     "7e460d2fca9d40afa2b2e647af177946": {
      "model_module": "@jupyter-widgets/controls",
      "model_module_version": "2.0.0",
      "model_name": "HTMLModel",
      "state": {
       "layout": "IPY_MODEL_54dcc8f8e6d943dd896f30379d3ff307",
       "style": "IPY_MODEL_b32b5581e46c410ba8aca34d8a2bbf55",
       "value": "<h5>Message</h5>"
      }
     },
     "818c651fd2174325899db3d9ccd08f74": {
      "model_module": "@jupyter-widgets/base",
      "model_module_version": "2.0.0",
      "model_name": "LayoutModel",
      "state": {
       "width": "190px"
      }
     },
     "a977b353136243f6a3b86052754bd86f": {
      "model_module": "@jupyter-widgets/controls",
      "model_module_version": "2.0.0",
      "model_name": "HTMLStyleModel",
      "state": {
       "description_width": "",
       "font_size": null,
       "text_color": null
      }
     },
     "b30a816489bd43ffba1efad817b8eba8": {
      "model_module": "@jupyter-widgets/controls",
      "model_module_version": "2.0.0",
      "model_name": "HTMLModel",
      "state": {
       "layout": "IPY_MODEL_dd6587915e0641c1a583c78450a356bc",
       "style": "IPY_MODEL_a977b353136243f6a3b86052754bd86f",
       "value": "<h5>Queue</h5>"
      }
     },
     "b32b5581e46c410ba8aca34d8a2bbf55": {
      "model_module": "@jupyter-widgets/controls",
      "model_module_version": "2.0.0",
      "model_name": "HTMLStyleModel",
      "state": {
       "description_width": "",
       "font_size": null,
       "text_color": null
      }
     },
     "bb771f10ae7a4f82a00e7cf976b75773": {
      "model_module": "@jupyter-widgets/controls",
      "model_module_version": "2.0.0",
      "model_name": "ButtonModel",
      "state": {
       "button_style": "primary",
       "description": "Clear",
       "layout": "IPY_MODEL_42325c7f57eb4e22bd4b0e62f98f9c0c",
       "style": "IPY_MODEL_bfef3f1a3266428eac9f9eb3b969714c",
       "tooltip": null
      }
     },
     "bfef3f1a3266428eac9f9eb3b969714c": {
      "model_module": "@jupyter-widgets/controls",
      "model_module_version": "2.0.0",
      "model_name": "ButtonStyleModel",
      "state": {
       "font_family": null,
       "font_size": null,
       "font_style": null,
       "font_variant": null,
       "font_weight": null,
       "text_color": null,
       "text_decoration": null
      }
     },
     "c4bf0cd75c804452a81e76e3dbc64964": {
      "model_module": "@jupyter-widgets/controls",
      "model_module_version": "2.0.0",
      "model_name": "HTMLStyleModel",
      "state": {
       "description_width": "",
       "font_size": null,
       "text_color": null
      }
     },
     "d244221072f3490c8288f55f7c51b3b3": {
      "model_module": "@jupyter-widgets/base",
      "model_module_version": "2.0.0",
      "model_name": "LayoutModel",
      "state": {
       "margin": "0px 0px 10px 0px"
      }
     },
     "d9c907d31d5f42a7acb6190bbb8043fa": {
      "model_module": "@jupyter-widgets/controls",
      "model_module_version": "2.0.0",
      "model_name": "GridBoxModel",
      "state": {
       "children": [
        "IPY_MODEL_bb771f10ae7a4f82a00e7cf976b75773"
       ],
       "layout": "IPY_MODEL_f8ed0153ca4841a9a2a5f934ba51e687"
      }
     },
     "dd6587915e0641c1a583c78450a356bc": {
      "model_module": "@jupyter-widgets/base",
      "model_module_version": "2.0.0",
      "model_name": "LayoutModel",
      "state": {
       "width": "70px"
      }
     },
     "e35b02d3ec304f308e875fee7e9c4e02": {
      "model_module": "@jupyter-widgets/base",
      "model_module_version": "2.0.0",
      "model_name": "LayoutModel",
      "state": {
       "width": "95px"
      }
     },
     "eb697c28cbd04753997747dbc72008fc": {
      "model_module": "@jupyter-widgets/controls",
      "model_module_version": "2.0.0",
      "model_name": "HTMLModel",
      "state": {
       "layout": "IPY_MODEL_d244221072f3490c8288f55f7c51b3b3",
       "style": "IPY_MODEL_39f5df22692f4af6a06eac0f7529dd54",
       "value": "<p style='font-family: IBM Plex Sans, Arial, Helvetica, sans-serif; font-size: 20px; font-weight: medium;'>Circuit Properties</p>"
      }
     },
     "f8ed0153ca4841a9a2a5f934ba51e687": {
      "model_module": "@jupyter-widgets/base",
      "model_module_version": "2.0.0",
      "model_name": "LayoutModel",
      "state": {
       "grid_template_areas": "\n                                       \". . . . right \"\n                                        ",
       "grid_template_columns": "20% 20% 20% 20% 20%",
       "width": "100%"
      }
     },
     "fcb2f61e92744997b0a8ef66870b359c": {
      "model_module": "@jupyter-widgets/controls",
      "model_module_version": "2.0.0",
      "model_name": "HTMLModel",
      "state": {
       "layout": "IPY_MODEL_e35b02d3ec304f308e875fee7e9c4e02",
       "style": "IPY_MODEL_384d138a57c445c4bd3980f219da1c86",
       "value": "<h5>Status</h5>"
      }
     }
    },
    "version_major": 2,
    "version_minor": 0
   }
  }
 },
 "nbformat": 4,
 "nbformat_minor": 5
}
