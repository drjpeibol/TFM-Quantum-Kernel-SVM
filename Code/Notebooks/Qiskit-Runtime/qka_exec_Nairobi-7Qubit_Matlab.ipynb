{
 "cells": [
  {
   "cell_type": "markdown",
   "metadata": {
    "id": "uyaoDpvQm3-7",
    "tags": []
   },
   "source": [
    "# Load your IBM Quantum account and get the quantum backend\n",
    "\n",
    "We'll be using the 7-qubit device `ibm_nairobi`."
   ]
  },
  {
   "cell_type": "code",
   "execution_count": 1,
   "metadata": {},
   "outputs": [
    {
     "name": "stdout",
     "output_type": "stream",
     "text": [
      "No se clonará el repositorio debido a que ya existe en el sistema\n"
     ]
    }
   ],
   "source": [
    "import os\n",
    "path = 'qiskit-runtime'\n",
    "  # Check whether the specified\n",
    "# path exists or not\n",
    "Exist = os.path.exists(path)\n",
    "\n",
    "#Si no existe el path clonaremos el repositorio en ese path, si ya existe no haremos nada.\n",
    "if Exist == False: \n",
    "    print('Clonando Repositorio...')\n",
    "    !git clone https://github.com/Qiskit-Partners/qiskit-runtime.git\n",
    "    \n",
    "else: \n",
    "    print('No se clonará el repositorio debido a que ya existe en el sistema')"
   ]
  },
  {
   "cell_type": "code",
   "execution_count": 2,
   "metadata": {
    "id": "hyQtkRzvm3-8"
   },
   "outputs": [],
   "source": [
    "import sys\n",
    "sys.path.insert(0, 'qiskit-runtime') # Path al repositorio de RUNTIME desde IBM Quantum Lab"
   ]
  },
  {
   "cell_type": "markdown",
   "metadata": {
    "id": "5usaKTRWm3-9"
   },
   "source": [
    "# Invoke the Quantum Kernel Alignment program\n",
    "\n",
    "Before executing the runtime program for QKA, we need to prepare the dataset and configure the input parameters for the algorithm.\n",
    "\n",
    "### 1. Prepare the dataset\n",
    "\n",
    "First, we load the dataset from the `csv` file and then extract the labeled training and test samples. Here, we'll look at the 7-qubit problem, shown above in subfigure a). A second dataset is also available for the 10-qubit problem in b)."
   ]
  },
  {
   "cell_type": "code",
   "execution_count": 3,
   "metadata": {
    "id": "LhDGm_x8m3--"
   },
   "outputs": [],
   "source": [
    "# Libraries needed for the tutorial\n",
    "\n",
    "import pandas as pd\n",
    "import requests\n",
    "import matplotlib.pyplot as plt\n",
    "\n",
    "import io\n",
    "    \n",
    "# Downloading the csv file from your GitHub account\n",
    "\n",
    "url = path+\"/Data_7qubit.csv\"\n",
    "\n",
    "# Reading the downloaded content and turning it into a pandas dataframe\n",
    "\n",
    "df = pd.read_csv(url,header= None)\n",
    "\n",
    "df.loc[df[14] == 2, 14] = -1\n",
    "df = df.sample(frac=1)\n",
    "\n",
    "#columns = [0, 1, 2, 3, 4, 5, 6, 7, 8, 9,14]\n",
    "\n",
    "#df = df[columns]\n",
    "\n",
    "data = df.values"
   ]
  },
  {
   "cell_type": "markdown",
   "metadata": {
    "id": "HmC4mlORm3--"
   },
   "source": [
    "Let's take a look at the data to see how it's formatted. Each row of the dataset contains a list of Euler angles, followed by the class label $\\pm1$ in the last column. For an $n$-qubit problem, there are $2n$ features corresponding to the first two Euler angles for each qubit (recall discussion above). The rows alternate between class labels."
   ]
  },
  {
   "cell_type": "code",
   "execution_count": 4,
   "metadata": {},
   "outputs": [
    {
     "data": {
      "text/html": [
       "<div>\n",
       "<style scoped>\n",
       "    .dataframe tbody tr th:only-of-type {\n",
       "        vertical-align: middle;\n",
       "    }\n",
       "\n",
       "    .dataframe tbody tr th {\n",
       "        vertical-align: top;\n",
       "    }\n",
       "\n",
       "    .dataframe thead th {\n",
       "        text-align: right;\n",
       "    }\n",
       "</style>\n",
       "<table border=\"1\" class=\"dataframe\">\n",
       "  <thead>\n",
       "    <tr style=\"text-align: right;\">\n",
       "      <th></th>\n",
       "      <th>0</th>\n",
       "      <th>1</th>\n",
       "      <th>2</th>\n",
       "      <th>3</th>\n",
       "      <th>4</th>\n",
       "      <th>5</th>\n",
       "      <th>6</th>\n",
       "      <th>7</th>\n",
       "      <th>8</th>\n",
       "      <th>9</th>\n",
       "      <th>10</th>\n",
       "      <th>11</th>\n",
       "      <th>12</th>\n",
       "      <th>13</th>\n",
       "      <th>14</th>\n",
       "    </tr>\n",
       "  </thead>\n",
       "  <tbody>\n",
       "    <tr>\n",
       "      <th>143</th>\n",
       "      <td>-1.585976</td>\n",
       "      <td>1.184412</td>\n",
       "      <td>-0.116609</td>\n",
       "      <td>-1.177553</td>\n",
       "      <td>1.309363</td>\n",
       "      <td>0.449061</td>\n",
       "      <td>0.781326</td>\n",
       "      <td>0.711248</td>\n",
       "      <td>1.034948</td>\n",
       "      <td>-1.491807</td>\n",
       "      <td>-2.480865</td>\n",
       "      <td>1.532236</td>\n",
       "      <td>0.604614</td>\n",
       "      <td>3.033439</td>\n",
       "      <td>-1</td>\n",
       "    </tr>\n",
       "    <tr>\n",
       "      <th>77</th>\n",
       "      <td>-1.167377</td>\n",
       "      <td>1.233549</td>\n",
       "      <td>-0.427832</td>\n",
       "      <td>-0.626260</td>\n",
       "      <td>-1.579337</td>\n",
       "      <td>-0.735941</td>\n",
       "      <td>-0.974873</td>\n",
       "      <td>0.810598</td>\n",
       "      <td>-0.013507</td>\n",
       "      <td>0.930338</td>\n",
       "      <td>2.118453</td>\n",
       "      <td>-0.333084</td>\n",
       "      <td>-0.093764</td>\n",
       "      <td>-3.466821</td>\n",
       "      <td>1</td>\n",
       "    </tr>\n",
       "    <tr>\n",
       "      <th>101</th>\n",
       "      <td>-1.508859</td>\n",
       "      <td>1.409141</td>\n",
       "      <td>-0.481405</td>\n",
       "      <td>-0.510197</td>\n",
       "      <td>-1.681380</td>\n",
       "      <td>-0.836312</td>\n",
       "      <td>-0.824485</td>\n",
       "      <td>0.744577</td>\n",
       "      <td>-0.011491</td>\n",
       "      <td>0.784117</td>\n",
       "      <td>2.403843</td>\n",
       "      <td>-0.293494</td>\n",
       "      <td>-0.112469</td>\n",
       "      <td>-4.312758</td>\n",
       "      <td>1</td>\n",
       "    </tr>\n",
       "    <tr>\n",
       "      <th>180</th>\n",
       "      <td>1.519413</td>\n",
       "      <td>-1.113557</td>\n",
       "      <td>-0.125229</td>\n",
       "      <td>-4.268843</td>\n",
       "      <td>1.205451</td>\n",
       "      <td>0.460338</td>\n",
       "      <td>0.609069</td>\n",
       "      <td>0.763558</td>\n",
       "      <td>1.015946</td>\n",
       "      <td>-1.299166</td>\n",
       "      <td>0.724297</td>\n",
       "      <td>-1.529140</td>\n",
       "      <td>0.450925</td>\n",
       "      <td>0.001903</td>\n",
       "      <td>-1</td>\n",
       "    </tr>\n",
       "    <tr>\n",
       "      <th>168</th>\n",
       "      <td>1.652897</td>\n",
       "      <td>-1.129118</td>\n",
       "      <td>-0.099439</td>\n",
       "      <td>-4.337699</td>\n",
       "      <td>1.249880</td>\n",
       "      <td>0.457506</td>\n",
       "      <td>0.629124</td>\n",
       "      <td>0.662103</td>\n",
       "      <td>1.117143</td>\n",
       "      <td>-1.108528</td>\n",
       "      <td>0.749982</td>\n",
       "      <td>-1.692492</td>\n",
       "      <td>0.499040</td>\n",
       "      <td>0.003119</td>\n",
       "      <td>-1</td>\n",
       "    </tr>\n",
       "    <tr>\n",
       "      <th>...</th>\n",
       "      <td>...</td>\n",
       "      <td>...</td>\n",
       "      <td>...</td>\n",
       "      <td>...</td>\n",
       "      <td>...</td>\n",
       "      <td>...</td>\n",
       "      <td>...</td>\n",
       "      <td>...</td>\n",
       "      <td>...</td>\n",
       "      <td>...</td>\n",
       "      <td>...</td>\n",
       "      <td>...</td>\n",
       "      <td>...</td>\n",
       "      <td>...</td>\n",
       "      <td>...</td>\n",
       "    </tr>\n",
       "    <tr>\n",
       "      <th>99</th>\n",
       "      <td>-1.175066</td>\n",
       "      <td>1.312919</td>\n",
       "      <td>-0.490980</td>\n",
       "      <td>-0.681529</td>\n",
       "      <td>-1.621792</td>\n",
       "      <td>-0.778576</td>\n",
       "      <td>2.270685</td>\n",
       "      <td>-0.795442</td>\n",
       "      <td>-0.012628</td>\n",
       "      <td>0.973169</td>\n",
       "      <td>-1.358987</td>\n",
       "      <td>-2.940417</td>\n",
       "      <td>-0.113320</td>\n",
       "      <td>-0.797586</td>\n",
       "      <td>1</td>\n",
       "    </tr>\n",
       "    <tr>\n",
       "      <th>11</th>\n",
       "      <td>-1.347841</td>\n",
       "      <td>1.094593</td>\n",
       "      <td>-0.573095</td>\n",
       "      <td>-0.723106</td>\n",
       "      <td>-1.370502</td>\n",
       "      <td>-0.811495</td>\n",
       "      <td>-0.611046</td>\n",
       "      <td>0.708863</td>\n",
       "      <td>-0.013561</td>\n",
       "      <td>0.691218</td>\n",
       "      <td>1.809349</td>\n",
       "      <td>-0.348404</td>\n",
       "      <td>-0.115529</td>\n",
       "      <td>-3.263701</td>\n",
       "      <td>1</td>\n",
       "    </tr>\n",
       "    <tr>\n",
       "      <th>27</th>\n",
       "      <td>-1.263095</td>\n",
       "      <td>1.278471</td>\n",
       "      <td>-0.538796</td>\n",
       "      <td>-0.459384</td>\n",
       "      <td>-1.683021</td>\n",
       "      <td>-0.858615</td>\n",
       "      <td>2.251194</td>\n",
       "      <td>-0.688866</td>\n",
       "      <td>-0.013885</td>\n",
       "      <td>0.787656</td>\n",
       "      <td>-1.156009</td>\n",
       "      <td>-2.562477</td>\n",
       "      <td>-0.107596</td>\n",
       "      <td>-0.734425</td>\n",
       "      <td>1</td>\n",
       "    </tr>\n",
       "    <tr>\n",
       "      <th>136</th>\n",
       "      <td>-1.392365</td>\n",
       "      <td>1.118235</td>\n",
       "      <td>-0.100707</td>\n",
       "      <td>-1.352431</td>\n",
       "      <td>1.565663</td>\n",
       "      <td>0.400334</td>\n",
       "      <td>0.657308</td>\n",
       "      <td>0.833282</td>\n",
       "      <td>-2.599257</td>\n",
       "      <td>1.408522</td>\n",
       "      <td>0.859305</td>\n",
       "      <td>1.424947</td>\n",
       "      <td>0.506583</td>\n",
       "      <td>0.002398</td>\n",
       "      <td>-1</td>\n",
       "    </tr>\n",
       "    <tr>\n",
       "      <th>112</th>\n",
       "      <td>-1.340353</td>\n",
       "      <td>1.295622</td>\n",
       "      <td>-0.466546</td>\n",
       "      <td>-0.591882</td>\n",
       "      <td>-1.612397</td>\n",
       "      <td>-0.753991</td>\n",
       "      <td>-0.778796</td>\n",
       "      <td>0.704185</td>\n",
       "      <td>3.156046</td>\n",
       "      <td>-0.867298</td>\n",
       "      <td>-1.034656</td>\n",
       "      <td>-2.855193</td>\n",
       "      <td>-0.123985</td>\n",
       "      <td>-0.853054</td>\n",
       "      <td>1</td>\n",
       "    </tr>\n",
       "  </tbody>\n",
       "</table>\n",
       "<p>252 rows × 15 columns</p>\n",
       "</div>"
      ],
      "text/plain": [
       "           0         1         2         3         4         5         6   \\\n",
       "143 -1.585976  1.184412 -0.116609 -1.177553  1.309363  0.449061  0.781326   \n",
       "77  -1.167377  1.233549 -0.427832 -0.626260 -1.579337 -0.735941 -0.974873   \n",
       "101 -1.508859  1.409141 -0.481405 -0.510197 -1.681380 -0.836312 -0.824485   \n",
       "180  1.519413 -1.113557 -0.125229 -4.268843  1.205451  0.460338  0.609069   \n",
       "168  1.652897 -1.129118 -0.099439 -4.337699  1.249880  0.457506  0.629124   \n",
       "..        ...       ...       ...       ...       ...       ...       ...   \n",
       "99  -1.175066  1.312919 -0.490980 -0.681529 -1.621792 -0.778576  2.270685   \n",
       "11  -1.347841  1.094593 -0.573095 -0.723106 -1.370502 -0.811495 -0.611046   \n",
       "27  -1.263095  1.278471 -0.538796 -0.459384 -1.683021 -0.858615  2.251194   \n",
       "136 -1.392365  1.118235 -0.100707 -1.352431  1.565663  0.400334  0.657308   \n",
       "112 -1.340353  1.295622 -0.466546 -0.591882 -1.612397 -0.753991 -0.778796   \n",
       "\n",
       "           7         8         9         10        11        12        13  14  \n",
       "143  0.711248  1.034948 -1.491807 -2.480865  1.532236  0.604614  3.033439  -1  \n",
       "77   0.810598 -0.013507  0.930338  2.118453 -0.333084 -0.093764 -3.466821   1  \n",
       "101  0.744577 -0.011491  0.784117  2.403843 -0.293494 -0.112469 -4.312758   1  \n",
       "180  0.763558  1.015946 -1.299166  0.724297 -1.529140  0.450925  0.001903  -1  \n",
       "168  0.662103  1.117143 -1.108528  0.749982 -1.692492  0.499040  0.003119  -1  \n",
       "..        ...       ...       ...       ...       ...       ...       ...  ..  \n",
       "99  -0.795442 -0.012628  0.973169 -1.358987 -2.940417 -0.113320 -0.797586   1  \n",
       "11   0.708863 -0.013561  0.691218  1.809349 -0.348404 -0.115529 -3.263701   1  \n",
       "27  -0.688866 -0.013885  0.787656 -1.156009 -2.562477 -0.107596 -0.734425   1  \n",
       "136  0.833282 -2.599257  1.408522  0.859305  1.424947  0.506583  0.002398  -1  \n",
       "112  0.704185  3.156046 -0.867298 -1.034656 -2.855193 -0.123985 -0.853054   1  \n",
       "\n",
       "[252 rows x 15 columns]"
      ]
     },
     "execution_count": 4,
     "metadata": {},
     "output_type": "execute_result"
    }
   ],
   "source": [
    "df"
   ]
  },
  {
   "cell_type": "code",
   "execution_count": 5,
   "metadata": {},
   "outputs": [
    {
     "data": {
      "image/png": "[encoded data removed]",
      "text/plain": [
       "<Figure size 576x3600 with 14 Axes>"
      ]
     },
     "metadata": {
      "needs_background": "light"
     },
     "output_type": "display_data"
    }
   ],
   "source": [
    "fig, axes = plt.subplots(nrows=14, ncols = 1,figsize = (8,50))\n",
    "for i in range(0,14):\n",
    "    axes[i].hist([df[i],df[i][df[14]==-1],df[i][df[14]==1]],alpha = 0.75, label = ['All','C_', 'C+'], bins = 25)\n",
    "    axes[i].legend(loc='upper right')\n",
    "    axes[i].set_title('Qubit: ' + str(i))\n",
    "plt.show()"
   ]
  },
  {
   "cell_type": "code",
   "execution_count": 6,
   "metadata": {},
   "outputs": [
    {
     "data": {
      "text/plain": [
       "<matplotlib.legend.Legend at 0x7f7b9a72af10>"
      ]
     },
     "execution_count": 6,
     "metadata": {},
     "output_type": "execute_result"
    },
    {
     "data": {
      "image/png": "[encoded data removed]",
      "text/plain": [
       "<Figure size 1296x360 with 2 Axes>"
      ]
     },
     "metadata": {
      "needs_background": "light"
     },
     "output_type": "display_data"
    }
   ],
   "source": [
    "#Pintamos nuestros datos de training por Costet C+ o C-\n",
    "fig, ax = plt.subplots(nrows=1, ncols=2, figsize=(18, 5))\n",
    "\n",
    "ax[0].set_title('Qubit 0')\n",
    "ax[0].scatter(df[0],df[1], c = df[14])\n",
    "legend0 = ax[0].legend(*ax[0].scatter(df[0],df[1], c = df[14]).legend_elements(),\n",
    "                    loc=\"upper left\", title=\"Costet (-1 = C-, 1 = C+)\")\n",
    "ax[0].add_artist(legend0)\n",
    "\n",
    "ax[1].set_title('Qubit 1')\n",
    "ax[1].scatter(df[2],df[3], c = df[14])\n",
    "legend1 = ax[1].legend(*ax[1].scatter(df[2],df[3], c = df[14]).legend_elements(),\n",
    "                    loc=\"upper right\", title=\"Costet (-1 = C-, 1 = C+)\")\n",
    "ax[1].add_artist(legend1)"
   ]
  },
  {
   "cell_type": "markdown",
   "metadata": {
    "id": "Y6bBITPLm3_A"
   },
   "source": [
    "Now, let's explicitly construct the training and test samples (denoted `x`) and their labels (denoted `y`)."
   ]
  },
  {
   "cell_type": "code",
   "execution_count": 7,
   "metadata": {
    "id": "PO5vK_fnm3_A"
   },
   "outputs": [],
   "source": [
    "import numpy as np\n",
    "\n",
    "# choose number of training and test samples per class:\n",
    "num_train = 10\n",
    "num_test = 5\n",
    "\n",
    "# extract training and test sets and sort them by class label\n",
    "train = data[:2*num_train, :]\n",
    "test = data[2*num_train:2*(num_train+num_test), :]\n",
    "\n",
    "ind=np.argsort(train[:,-1])\n",
    "x_train = train[ind][:,:-1]\n",
    "y_train = train[ind][:,-1]\n",
    "\n",
    "ind=np.argsort(test[:,-1])\n",
    "x_test = test[ind][:,:-1]\n",
    "y_test = test[ind][:,-1]\n"
   ]
  },
  {
   "cell_type": "markdown",
   "metadata": {
    "id": "NanBf92km3_A"
   },
   "source": [
    "### 2. Configure the QKA algorithm\n",
    "\n",
    "The first task is to set up the feature map and its entangler map, which specifies the arrangement of $CZ$ gates in the fiducial state. We will choose this to match the connectivity of the problem subgraph, pictured above. We also initialize the fiducial state parameter $\\lambda$ with `initial_point`."
   ]
  },
  {
   "cell_type": "code",
   "execution_count": 8,
   "metadata": {},
   "outputs": [
    {
     "name": "stderr",
     "output_type": "stream",
     "text": [
      "<frozen importlib._bootstrap>:219: RuntimeWarning: scipy._lib.messagestream.MessageStream size changed, may indicate binary incompatibility. Expected 56 from C header, got 64 from PyObject\n"
     ]
    }
   ],
   "source": [
    "import numpy as np\n",
    "import numpy.matlib as matl\n",
    "import matplotlib.pyplot as plt\n",
    "from sklearn.svm import SVC\n",
    "from matplotlib.colors import ListedColormap\n",
    "from IPython.display import display\n",
    "\n",
    "import pandas as pd\n",
    "import sklearn.preprocessing as skpp\n",
    "\n",
    "from sklearn.model_selection import GridSearchCV\n",
    "from sklearn.model_selection import train_test_split\n",
    "from sklearn.model_selection import cross_val_score\n",
    "from sklearn import cluster, datasets, mixture\n",
    "\n",
    "\n",
    "\n",
    "np.random.seed(19)"
   ]
  },
  {
   "cell_type": "code",
   "execution_count": 9,
   "metadata": {},
   "outputs": [
    {
     "name": "stdout",
     "output_type": "stream",
     "text": [
      "Training time: 0.6753714084625244s\n",
      "Best model:\n",
      "{'C': 0.1, 'break_ties': False, 'cache_size': 200, 'class_weight': None, 'coef0': 1.0, 'decision_function_shape': 'ovr', 'degree': 1, 'gamma': 'auto', 'kernel': 'rbf', 'max_iter': -1, 'probability': True, 'random_state': None, 'shrinking': True, 'tol': 0.001, 'verbose': False}\n",
      "Score in training set = 1.000000\n",
      "Score in test set = 0.800000\n"
     ]
    }
   ],
   "source": [
    "import time\n",
    "\n",
    "grid = [{'C': [0.1,1.0,10],\n",
    "         'gamma': ['auto',1.0,0.1], \n",
    "         'kernel': ['rbf','poly'],\n",
    "         'degree': [1,2,3,4,5],\n",
    "         'coef0':[1.0]}]\n",
    "\n",
    "clf_gridsearch = GridSearchCV(estimator=SVC(probability=True), param_grid=grid, cv=5)\n",
    "start = time.time()\n",
    "clf_gridsearch.fit(x_train, y_train) \n",
    "stop = time.time()\n",
    "print(f\"Training time: {stop - start}s\") \n",
    "\n",
    "# Imprimimos los resultados para el mejor clasificador:\n",
    "clf = clf_gridsearch.best_estimator_\n",
    "print(\"Best model:\")\n",
    "print(clf.get_params())\n",
    "\n",
    "# Calculamos el acierto en los conjuntos de entrenamiento y test:\n",
    "score_train = clf.score(x_train, y_train)\n",
    "print(\"Score in training set = %f\" % (score_train))\n",
    "\n",
    "score_test = clf.score(x_test, y_test)\n",
    "print(\"Score in test set = %f\" % (score_test))"
   ]
  },
  {
   "cell_type": "code",
   "execution_count": 10,
   "metadata": {
    "colab": {
     "base_uri": "https://localhost:8080/",
     "height": 368
    },
    "id": "nuuOQW3hm3_B",
    "outputId": "1b7e862d-a781-41f1-8831-003fc5d67537"
   },
   "outputs": [],
   "source": [
    "from qiskit_runtime.qka import FeatureMap\n",
    "\n",
    "d = np.shape(data)[1]-1                                         # feature dimension is twice the qubit number\n",
    "\n",
    "em = [[0, 1],\n",
    "    [1, 2],\n",
    "    [1, 3],\n",
    "    [3, 5],\n",
    "    [4, 5],\n",
    "    [5, 6],\n",
    "] # we'll match this to the 7-qubit graph              \n",
    "# em = [[0,1],[2,3],[4,5],[6,7],[8,9],[1,2],[3,4],[5,6],[7,8]]  # we'll match this to the 10-qubit graph\n",
    "\n",
    "fm = FeatureMap(feature_dimension=d, entangler_map=em)          # define the feature map\n",
    "initial_point = [0.1]                                           # set the initial parameter for the feature map"
   ]
  },
  {
   "cell_type": "markdown",
   "metadata": {
    "id": "Sh61Y1MRm3_B"
   },
   "source": [
    "Let's print out the circuit for the feature map (the circuit for the kernel will be a feature map for one data sample composed with an inverse feature map for a second sample). The first part of the feature map is the fiducial state, which is prepared with a layer of $y$ rotations followed by $CZ$s. Then, the last two layers of $z$ and $x$ rotations in the circuit denote the group representation $D(\\theta)$ for a data sample $\\theta$. Note that a single-qubit rotation is defined as $RP(\\phi) = \\exp(- i [\\phi/2] P)$ for $P \\in {X, Y, Z}$."
   ]
  },
  {
   "cell_type": "code",
   "execution_count": 11,
   "metadata": {
    "id": "oQjR_870m3_B",
    "outputId": "9952dfdc-3654-4b18-a0fa-26ee8a827d68"
   },
   "outputs": [
    {
     "data": {
      "text/html": [
       "<pre style=\"word-wrap: normal;white-space: pre;background: #fff0;line-height: 1.1;font-family: &quot;Courier New&quot;,Courier,monospace\">     ┌──────────┐   ┌─────────────┐┌───────────┐                                                                            \n",
       "q_0: ┤ Ry(-0.1) ├─■─┤ Rz(-2.3688) ├┤ Rx(3.172) ├────────────────────────────────────────────────────────────────────────────\n",
       "     ├──────────┤ │ └─────────────┘└───────────┘ ┌────────────┐ ┌─────────────┐                                             \n",
       "q_1: ┤ Ry(-0.1) ├─■────────■─────────────■───────┤ Rz(2.3551) ├─┤ Rx(0.23322) ├─────────────────────────────────────────────\n",
       "     ├──────────┤          │             │      ┌┴────────────┴┐├─────────────┤                                             \n",
       "q_2: ┤ Ry(-0.1) ├──────────■─────────────┼──────┤ Rz(-0.89812) ├┤ Rx(-2.6187) ├─────────────────────────────────────────────\n",
       "     ├──────────┤                        │      └──────────────┘├─────────────┤┌─────────────┐                              \n",
       "q_3: ┤ Ry(-0.1) ├────────────────────────■─────────────■────────┤ Rz(-1.4225) ├┤ Rx(-1.5627) ├──────────────────────────────\n",
       "     ├──────────┤                                      │        └─────────────┘└┬────────────┤┌─────────────┐               \n",
       "q_4: ┤ Ry(-0.1) ├──────────────────────────────────────┼───────────────■────────┤ Rz(2.9836) ├┤ Rx(-2.0699) ├───────────────\n",
       "     ├──────────┤                                      │               │        └────────────┘├─────────────┤ ┌────────────┐\n",
       "q_5: ┤ Ry(-0.1) ├──────────────────────────────────────■───────────────■──────────────■───────┤ Rz(-3.0645) ├─┤ Rx(4.9617) ├\n",
       "     ├──────────┤                                                                     │       ├─────────────┤┌┴────────────┤\n",
       "q_6: ┤ Ry(-0.1) ├─────────────────────────────────────────────────────────────────────■───────┤ Rz(-6.0669) ├┤ Rx(-1.2092) ├\n",
       "     └──────────┘                                                                             └─────────────┘└─────────────┘</pre>"
      ],
      "text/plain": [
       "     ┌──────────┐   ┌─────────────┐┌───────────┐                                                                            \n",
       "q_0: ┤ Ry(-0.1) ├─■─┤ Rz(-2.3688) ├┤ Rx(3.172) ├────────────────────────────────────────────────────────────────────────────\n",
       "     ├──────────┤ │ └─────────────┘└───────────┘ ┌────────────┐ ┌─────────────┐                                             \n",
       "q_1: ┤ Ry(-0.1) ├─■────────■─────────────■───────┤ Rz(2.3551) ├─┤ Rx(0.23322) ├─────────────────────────────────────────────\n",
       "     ├──────────┤          │             │      ┌┴────────────┴┐├─────────────┤                                             \n",
       "q_2: ┤ Ry(-0.1) ├──────────■─────────────┼──────┤ Rz(-0.89812) ├┤ Rx(-2.6187) ├─────────────────────────────────────────────\n",
       "     ├──────────┤                        │      └──────────────┘├─────────────┤┌─────────────┐                              \n",
       "q_3: ┤ Ry(-0.1) ├────────────────────────■─────────────■────────┤ Rz(-1.4225) ├┤ Rx(-1.5627) ├──────────────────────────────\n",
       "     ├──────────┤                                      │        └─────────────┘└┬────────────┤┌─────────────┐               \n",
       "q_4: ┤ Ry(-0.1) ├──────────────────────────────────────┼───────────────■────────┤ Rz(2.9836) ├┤ Rx(-2.0699) ├───────────────\n",
       "     ├──────────┤                                      │               │        └────────────┘├─────────────┤ ┌────────────┐\n",
       "q_5: ┤ Ry(-0.1) ├──────────────────────────────────────■───────────────■──────────────■───────┤ Rz(-3.0645) ├─┤ Rx(4.9617) ├\n",
       "     ├──────────┤                                                                     │       ├─────────────┤┌┴────────────┤\n",
       "q_6: ┤ Ry(-0.1) ├─────────────────────────────────────────────────────────────────────■───────┤ Rz(-6.0669) ├┤ Rx(-1.2092) ├\n",
       "     └──────────┘                                                                             └─────────────┘└─────────────┘"
      ]
     },
     "execution_count": 11,
     "metadata": {},
     "output_type": "execute_result"
    }
   ],
   "source": [
    "from qiskit.tools.visualization import circuit_drawer\n",
    "circuit_drawer(fm.construct_circuit(x=x_train[0], parameters=initial_point), \n",
    "               output='text', fold=200)"
   ]
  },
  {
   "cell_type": "markdown",
   "metadata": {
    "id": "8A-bjyh3m3_C"
   },
   "source": [
    "Next, we set the values for the SVM soft-margin penalty `C` and the number of SPSA iterations `maxiters` we use to align the quantum kernel."
   ]
  },
  {
   "cell_type": "code",
   "execution_count": 12,
   "metadata": {
    "id": "fPs6nBzmm3_D"
   },
   "outputs": [],
   "source": [
    "C = 1                                                           # SVM soft-margin penalty\n",
    "maxiters = 10                                                   # number of SPSA iterations"
   ]
  },
  {
   "cell_type": "markdown",
   "metadata": {
    "id": "cilEJuigm3_D"
   },
   "source": [
    "Finally, we decide how to map the virtual qubits of our problem graph to the physical qubits of the hardware. For example, in the 7-qubit problem, we can directly map the virtual qubits `[0, 1, 2, 3, 4, 5, 6]` to the physical qubits `[10, 11, 12, 13, 14, 15, 16]` of the device. This allows us to avoid introducing SWAP gates for qubits that are not connected, which can increase the circuit depth. "
   ]
  },
  {
   "cell_type": "code",
   "execution_count": 13,
   "metadata": {
    "id": "a5Eo-u66m3_E"
   },
   "outputs": [],
   "source": [
    "initial_layout = [0, 1, 2, 3, 4, 5, 6]                   # see figure above for the 7-qubit graph\n",
    "# initial_layout = [9, 8, 11, 14, 16, 19, 22, 25, 24, 23]       # see figure above for the 10-qubit graph"
   ]
  },
  {
   "cell_type": "markdown",
   "metadata": {
    "id": "MefJnZHUm3_E"
   },
   "source": [
    "### 3. Set up and run the program\n",
    "\n",
    "We're almost ready to run the program. First, let's take a look at the program metadata, which includes a description of the input parameters and their default values."
   ]
  },
  {
   "cell_type": "markdown",
   "metadata": {
    "id": "xl2xIn-Wm3_F"
   },
   "source": [
    "We see that this program has several input parameters, which we'll configure below. To run the program, we'll set up its two main components: `inputs` (the input parameters from the program metadata) and `options` (the quantum backend). We'll also define a callback function so that the intermediate results of the algorithm will be printed as the program runs. Note that each step of the algorithm for the settings we've selected here takes approximately 11 minutes."
   ]
  },
  {
   "cell_type": "code",
   "execution_count": 14,
   "metadata": {
    "id": "NSg6xkB-m3_F"
   },
   "outputs": [],
   "source": [
    "def interim_result_callback(job_id, interim_result):\n",
    "    print(f\"interim result: {interim_result}\\n\")"
   ]
  },
  {
   "cell_type": "code",
   "execution_count": 15,
   "metadata": {
    "id": "kER-9S-7m3_F",
    "outputId": "6d90dde7-1f76-4e7c-c485-68b079512e49"
   },
   "outputs": [
    {
     "name": "stdout",
     "output_type": "stream",
     "text": [
      "ce7lp8phhlcqqmo750m0\n",
      "interim result: {'cost': 2.091767727319332, 'kernel_parameters': array([0.07582415])}\n",
      "\n",
      "interim result: {'cost': 2.065379864439186, 'kernel_parameters': array([0.05869777])}\n",
      "\n",
      "interim result: {'cost': 2.0477976356974623, 'kernel_parameters': array([0.04439392])}\n",
      "\n",
      "interim result: {'cost': 2.037181358788019, 'kernel_parameters': array([0.03452693])}\n",
      "\n",
      "interim result: {'cost': 2.031773596874479, 'kernel_parameters': array([0.02605265])}\n",
      "\n",
      "interim result: {'cost': 2.032897478696773, 'kernel_parameters': array([0.01872189])}\n",
      "\n",
      "interim result: {'cost': 2.0154674758205147, 'kernel_parameters': array([0.01274014])}\n",
      "\n",
      "interim result: {'cost': 2.006900747022468, 'kernel_parameters': array([0.00843472])}\n",
      "\n",
      "interim result: {'cost': 1.993006522391743, 'kernel_parameters': array([0.00244774])}\n",
      "\n",
      "interim result: {'cost': 1.9859617280315656, 'kernel_parameters': array([-0.00206807])}\n",
      "\n",
      "interim result: {'aligned_kernel_parameters': array([-0.00206807]), 'aligned_kernel_matrix': array([[1.        , 0.57995605, 0.54553223, 0.44787598, 0.34606934,\n",
      "        0.00524902, 0.00866699, 0.00378418, 0.00646973, 0.00598145],\n",
      "       [0.57995605, 1.        , 0.48999023, 0.4152832 , 0.29260254,\n",
      "        0.00537109, 0.00927734, 0.00512695, 0.00854492, 0.00561523],\n",
      "       [0.54553223, 0.48999023, 1.        , 0.40270996, 0.32043457,\n",
      "        0.00402832, 0.00646973, 0.00488281, 0.00622559, 0.00439453],\n",
      "       [0.44787598, 0.4152832 , 0.40270996, 1.        , 0.33789062,\n",
      "        0.01159668, 0.01403809, 0.01635742, 0.01757812, 0.01696777],\n",
      "       [0.34606934, 0.29260254, 0.32043457, 0.33789062, 1.        ,\n",
      "        0.01342773, 0.01049805, 0.0135498 , 0.01696777, 0.01196289],\n",
      "       [0.00524902, 0.00537109, 0.00402832, 0.01159668, 0.01342773,\n",
      "        1.        , 0.41967773, 0.46850586, 0.40905762, 0.38049316],\n",
      "       [0.00866699, 0.00927734, 0.00646973, 0.01403809, 0.01049805,\n",
      "        0.41967773, 1.        , 0.39453125, 0.25585938, 0.32666016],\n",
      "       [0.00378418, 0.00512695, 0.00488281, 0.01635742, 0.0135498 ,\n",
      "        0.46850586, 0.39453125, 1.        , 0.43261719, 0.44384766],\n",
      "       [0.00646973, 0.00854492, 0.00622559, 0.01757812, 0.01696777,\n",
      "        0.40905762, 0.25585938, 0.43261719, 1.        , 0.46899414],\n",
      "       [0.00598145, 0.00561523, 0.00439453, 0.01696777, 0.01196289,\n",
      "        0.38049316, 0.32666016, 0.44384766, 0.46899414, 1.        ]])}\n",
      "\n"
     ]
    }
   ],
   "source": [
    "from qiskit import IBMQ\n",
    "\n",
    "IBMQ.load_account()\n",
    "provider = IBMQ.get_provider(\n",
    "\thub='ibm-q',\n",
    "\tgroup='open',\n",
    "\tproject='main'\n",
    ")\n",
    "\n",
    "program_inputs = {\n",
    "    'feature_map': fm,\n",
    "    'data': x_train,\n",
    "    'labels': y_train,\n",
    "    'initial_kernel_parameters': initial_point,\n",
    "    'maxiters': maxiters,\n",
    "    'C': C,\n",
    "    'initial_layout': initial_layout\n",
    "}\n",
    "\n",
    "options = {'backend_name': 'ibm_nairobi'}\n",
    "\n",
    "job = provider.runtime.run(program_id=\"quantum-kernel-alignment\",\n",
    "                              options=options,\n",
    "                              inputs=program_inputs,\n",
    "                              callback=interim_result_callback,\n",
    "                              )\n",
    "\n",
    "print(job.job_id())\n",
    "result = job.result()"
   ]
  },
  {
   "cell_type": "code",
   "execution_count": 16,
   "metadata": {},
   "outputs": [],
   "source": [
    "ejecucion = provider.runtime.job(job.job_id())"
   ]
  },
  {
   "cell_type": "markdown",
   "metadata": {
    "id": "FpESCBbBm3_G"
   },
   "source": [
    "### 4. Retrieve the results of the program\n",
    "\n",
    "Now that we've run the program, we can retrieve the output, which is the aligned kernel parameter and the aligned kernel matrix. Let's also plot this kernel matrix (we'll subtract off the diagonal to show the contrast between the remaining entries). The kernel matrix is expected to have a block-diagonal structure. This reflects the fact that the kernel maps the input data effectively to just two states (modulo the small noise we added to the data; recall the discussion above). That is, data in the same coset (same class label) have a larger overlap than do data from different cosets."
   ]
  },
  {
   "cell_type": "code",
   "execution_count": 17,
   "metadata": {
    "id": "IdwciJo-m3_G",
    "outputId": "ccf2bbe4-1e12-41b9-cb55-805e86a7f16f",
    "scrolled": true
   },
   "outputs": [
    {
     "name": "stdout",
     "output_type": "stream",
     "text": [
      "aligned_kernel_parameters: [-0.00206807]\n"
     ]
    },
    {
     "data": {
      "image/png": "[encoded data removed]",
      "text/plain": [
       "<Figure size 432x288 with 1 Axes>"
      ]
     },
     "metadata": {
      "needs_background": "light"
     },
     "output_type": "display_data"
    }
   ],
   "source": [
    "print(f\"aligned_kernel_parameters: {result['aligned_kernel_parameters']}\")\n",
    "\n",
    "from matplotlib import pyplot as plt\n",
    "from pylab import cm\n",
    "plt.rcParams['font.size'] = 20\n",
    "plt.imshow(result['aligned_kernel_matrix']-np.identity(2*num_train), cmap=cm.get_cmap('bwr', 20))\n",
    "plt.show()"
   ]
  },
  {
   "cell_type": "markdown",
   "metadata": {
    "id": "9YqFW1cOm3_G"
   },
   "source": [
    "# Use the results of the program to test an SVM on new data\n",
    "\n",
    "Equipped with the aligned kernel and its optimized parameter, we can use the `sklearn` package to train an SVM and then evaluate its classification accuracy on new test points. Note that a second kernel matrix built from the test points is needed for the SVM decision function."
   ]
  },
  {
   "cell_type": "code",
   "execution_count": 18,
   "metadata": {
    "id": "YwEKcZ7jm3_G",
    "outputId": "bb0da715-773a-4e1c-c79f-1ccc40f29076",
    "scrolled": true
   },
   "outputs": [
    {
     "name": "stdout",
     "output_type": "stream",
     "text": [
      "accuracy test: 1.0\n"
     ]
    }
   ],
   "source": [
    "from qiskit_runtime.qka import KernelMatrix\n",
    "from qiskit.providers.aer import QasmSimulator\n",
    "from sklearn.svm import SVC\n",
    "from sklearn import metrics\n",
    "\n",
    "# train the SVM with the aligned kernel matrix:\n",
    "\n",
    "kernel_aligned = result['aligned_kernel_matrix']\n",
    "model = SVC(C=C, kernel='precomputed')\n",
    "model.fit(X=kernel_aligned, y=y_train)\n",
    "\n",
    "# test the SVM on new data:\n",
    "backend = provider.get_backend('ibm_nairobi')\n",
    "km = KernelMatrix(feature_map=fm, backend=backend, initial_layout=initial_layout)\n",
    "kernel_test = km.construct_kernel_matrix(x1_vec=x_test, x2_vec=x_train, parameters=result['aligned_kernel_parameters'])\n",
    "labels_test = model.predict(X=kernel_test)\n",
    "accuracy_test = metrics.balanced_accuracy_score(y_true=y_test, y_pred=labels_test)\n",
    "print(f\"accuracy test: {accuracy_test}\")\n"
   ]
  },
  {
   "cell_type": "code",
   "execution_count": 19,
   "metadata": {
    "id": "3NEbfGUbm3_H",
    "outputId": "47ed69ae-ecd4-4dea-a67f-2fba2d11d4e5"
   },
   "outputs": [
    {
     "data": {
      "text/html": [
       "<h3>Version Information</h3><table><tr><th>Qiskit Software</th><th>Version</th></tr><tr><td><code>qiskit-terra</code></td><td>0.22.2</td></tr><tr><td><code>qiskit-aer</code></td><td>0.11.1</td></tr><tr><td><code>qiskit-ibmq-provider</code></td><td>0.19.2</td></tr><tr><td><code>qiskit</code></td><td>0.39.2</td></tr><tr><td><code>qiskit-nature</code></td><td>0.5.0</td></tr><tr><td><code>qiskit-finance</code></td><td>0.3.4</td></tr><tr><td><code>qiskit-optimization</code></td><td>0.4.0</td></tr><tr><td><code>qiskit-machine-learning</code></td><td>0.5.0</td></tr><tr><th>System information</th></tr><tr><td>Python version</td><td>3.8.13</td></tr><tr><td>Python compiler</td><td>GCC 10.3.0</td></tr><tr><td>Python build</td><td>default, Mar 25 2022 06:04:10</td></tr><tr><td>OS</td><td>Linux</td></tr><tr><td>CPUs</td><td>8</td></tr><tr><td>Memory (Gb)</td><td>31.211326599121094</td></tr><tr><td colspan='2'>Tue Dec 06 16:42:17 2022 UTC</td></tr></table>"
      ],
      "text/plain": [
       "<IPython.core.display.HTML object>"
      ]
     },
     "metadata": {},
     "output_type": "display_data"
    },
    {
     "data": {
      "text/html": [
       "<div style='width: 100%; background-color:#d5d9e0;padding-left: 10px; padding-bottom: 10px; padding-right: 10px; padding-top: 5px'><h3>This code is a part of Qiskit</h3><p>&copy; Copyright IBM 2017, 2022.</p><p>This code is licensed under the Apache License, Version 2.0. You may<br>obtain a copy of this license in the LICENSE.txt file in the root directory<br> of this source tree or at http://www.apache.org/licenses/LICENSE-2.0.<p>Any modifications or derivative works of this code must retain this<br>copyright notice, and modified files need to carry a notice indicating<br>that they have been altered from the originals.</p></div>"
      ],
      "text/plain": [
       "<IPython.core.display.HTML object>"
      ]
     },
     "metadata": {},
     "output_type": "display_data"
    }
   ],
   "source": [
    "import qiskit.tools.jupyter\n",
    "%qiskit_version_table\n",
    "%qiskit_copyright"
   ]
  },
  {
   "cell_type": "code",
   "execution_count": null,
   "metadata": {},
   "outputs": [],
   "source": []
  }
 ],
 "metadata": {
  "colab": {
   "name": "qka.ipynb",
   "provenance": []
  },
  "kernelspec": {
   "display_name": "Python 3 (ipykernel)",
   "language": "python",
   "name": "python3"
  },
  "language_info": {
   "codemirror_mode": {
    "name": "ipython",
    "version": 3
   },
   "file_extension": ".py",
   "mimetype": "text/x-python",
   "name": "python",
   "nbconvert_exporter": "python",
   "pygments_lexer": "ipython3",
   "version": "3.10.8"
  },
  "widgets": {
   "application/vnd.jupyter.widget-state+json": {
    "state": {},
    "version_major": 2,
    "version_minor": 0
   }
  }
 },
 "nbformat": 4,
 "nbformat_minor": 4
}
