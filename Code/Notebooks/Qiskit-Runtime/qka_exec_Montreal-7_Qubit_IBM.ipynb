{
 "cells": [
  {
   "cell_type": "markdown",
   "metadata": {
    "id": "yDuV4gW5m3-3",
    "tags": []
   },
   "source": [
    "# Quantum Kernel Alignment with Qiskit Runtime\n",
    "\n",
    "<br>\n",
    "\n",
    "**Classification with Support Vector Machines**<br>\n",
    "Classification problems are widespread in machine learning applications. Examples include credit card risk, handwriting recognition, and medical diagnosis. One approach to tackling classification problems is the support vector machine (SVM) [1,2]. This supervised learning algorithm uses labeled data samples to train a model that can predict to which class a test sample belongs. It does this by finding a separating hyperplane maximizing the margin between data classes. Often, data is not linearly separable in the original space. In these cases, the kernel trick is used to implicitly encode a transformation of the data into a higher-dimensional feature space, through the inner product between pairs of data points, where the data may become separable.\n",
    "\n",
    "**Quantum Kernels**<br>\n",
    "Quantum computers can be used to encode classical data in a quantum-enhanced feature space. In 2019, IBM introduced an algorithm called the quantum kernel estimator (QKE) for computing quantum kernels [3]. This algorithm uses quantum circuits with data provided classically and offers an efficient way to evaluate inner products between data in a quantum feature space. For two data samples $\\theta$ and $\\theta'$, the kernel matrix is given as\n",
    "\n",
    "$$\n",
    "    K(\\theta, \\theta') = \\lvert\\langle 0^n \\rvert U^\\dagger(\\theta) U(\\theta') \\lvert 0^n \\rangle \\rvert^2,\n",
    "$$\n",
    "\n",
    "where $U(\\theta)$ prepares the quantum feature state. Quantum kernels used in a classification framework inherit the convex optimization program of the SVM and avoid common limitations of variational quantum classifiers. A key observation of this paper was that a necessary condition for a computational advantage requires quantum circuits for the kernel that are hard to simulate classically. More recently, IBM proved that quantum kernels can offer superpolynomial speedups over any classical learner on a learning problem based on the hardness of the discrete logarithm problem [4]. This means that quantum kernels can someday offer quantum advantage on suitable problems. \n",
    "\n",
    "\n",
    "**Quantum Kernels that Exploit Structure in Data**<br>\n",
    "An important approach in the search for practical quantum advantage in machine learning is to identify quantum kernels for learning problems that have underlying structure in the data. We've taken a step in this direction in our recent paper [5], where we introduced a broad class of quantum kernels that exploit group structure in data. Examples of learning problems for data with group structure could include learning permutations or classifying translations. We call this new class of kernels _covariant quantum kernels_ as they are related to covariant quantum measurements. The quantum feature map is defined by a unitary representation $D(\\theta)$ of a group $G$ for some element $\\theta \\in G$, and a fiducial reference state $\\lvert\\psi\\rangle = V\\lvert0^n\\rangle$ prepared by a unitary circuit $V$. The kernel matrix is given as\n",
    "\n",
    "$$\n",
    "    K(\\theta, \\theta') = \\vert\\langle 0^n \\rvert V^\\dagger D^\\dagger(\\theta) D(\\theta') V \\lvert 0^n \\rangle \\rvert^2. \\qquad (1)\n",
    "$$\n",
    "\n",
    "In general, the choice of the fiducial state is not known _a priori_ and can significantly impact the performance of the classifier. Here, we use a method called quantum kernel alignment (QKA) to find a good fiducial state for a given group.\n",
    "\n",
    "**Aligning Quantum Kernels on a Dataset**<br>\n",
    "In practice, SVMs require a choice of the kernel function. Sometimes, symmetries in the data can inform this selection, other times it is chosen in an ad hoc manner. Kernel alignment is one approach to learning a kernel on a given dataset by iteratively adapting it to have high similarity to a target kernel informed from the underlying data distribution [6]. As a result, the SVM with an aligned kernel will likely generalize better to new data than with an unaligned kernel. Using this concept, we introduced in [5] an algorithm for quantum kernel alignment, which provides a way to learn a quantum kernel from a family of kernels. Specifically, the algorithm optimizes the parameters in a quantum circuit to maximize the alignment of a kernel while converging to the maximum SVM margin. In the context of covariant quantum kernels, we extend Eq. $(1)$ to\n",
    "\n",
    "$$\n",
    "    K_\\lambda(\\theta,\\theta') = \\lvert\\langle 0^n \\rvert V^\\dagger_\\lambda D^\\dagger(\\theta) D(\\theta') V_\\lambda \\lvert 0^n \\rangle \\rvert^2, \\qquad (2)\n",
    "$$\n",
    "\n",
    "and use QKA to learn a good fiducial state parametrized by $\\lambda$ for a given group. \n",
    "\n",
    "\n",
    "**Covariant Quantum Kernels on a Specific Learning Problem**<br>\n",
    "Let's try out QKA on a learning problem. In the following, we'll consider a binary classification problem we call _labeling cosets with error_ [5]. In this problem, we will use a group and a subgroup to form two cosets, which will represent our data classes. We take the group $G = SU(2)^{\\otimes n}$ for $n$ qubits, which is the special unitary group of $2\\times2$ matrices and has wide applicability in nature, for example, the Standard Model of particle physics and in many condensed matter systems. We take the graph-stabilizer subgroup $S_{\\mathrm{graph}} \\in G$ with $S_{\\mathrm{graph}} = \\langle \\{ X_i \\otimes_{k:(k,i) \\in \\mathcal{E}} Z_k \\}_{i \\in \\mathcal{V}} \\rangle$ for a graph $(\\mathcal{E},\\mathcal{V})$ with edges $\\mathcal{E}$ and vertices $\\mathcal{V}$. Note that the stabilizers fix a stabilizer state such that $D_s \\lvert \\psi\\rangle = \\lvert \\psi\\rangle$. This observation will be useful a bit later. \n",
    "\n",
    "To generate the dataset, we write the rotations of the group as $D(\\theta_1, \\theta_2, 0)=\\exp(i \\theta_1 X) \\exp(i \\theta_2 Z) \\in SU(2)$, so that each qubit is parametrized by the first two Euler angles (the third we set to zero). Then, we draw randomly two sets of angles $\\mathbf{\\theta}_\\pm \\in [-\\pi/4, \\pi/4]^{2n}$ for the $n$-qubit problem. From these two sets, we construct a binary classification problem by forming two left-cosets (representing the two classes) with those angles, $C_\\pm = D(\\mathbf{\\theta}_\\pm) S_{\\mathrm{graph}}$ where $D(\\mathbf{\\theta}_\\pm) = \\otimes_{k=1}^n D(\\theta_\\pm^{2k-1}, \\theta_\\pm^{2k}, 0)$. Note that the elements of the cosets can again be written in terms of Euler angles. We build training and testing sets by randomly drawing elements from $C_\\pm$ such that the dataset has samples $i=1,...,m$ containing the first two Euler angles for each qubit $\\mathbf{\\theta}_{y_i} = (\\theta_{y_i}^{1}, \\theta_{y_i}^{2}, \\theta_{y_i}^{3}, \\theta_{y_i}^{4}, ..., \\theta_{y_i}^{2n-1}, \\theta_{y_i}^{2n})$ and labels $y_i \\in \\{-1,1\\}$ that indicate to which coset a sample belongs.\n",
    "\n",
    "Next, we select a fiducial state. A natural candidate is the stabilizer state we encountered above. Why? Because this is a subgroup invariant state, $D_s\\lvert\\psi\\rangle = \\lvert\\psi\\rangle$, which causes the data for a given coset to be mapped to a unique state: $D(\\mathbf{\\theta}_\\pm)D_s \\lvert\\psi\\rangle = D(\\mathbf{\\theta}_\\pm) \\lvert\\psi\\rangle$. This means the classifier only needs to distinguish the _two_ states $D(\\mathbf{\\theta}_\\pm) \\lvert\\psi\\rangle \\langle \\psi\\rvert D^\\dagger(\\mathbf{\\theta}_\\pm)$ for every element of the coset. In this tutorial, we will add a small Gaussian error with variance $0.01$ to the Euler angles of the dataset. This noise will perturb these two states, but if the variance is sufficiently small, we expect the states will still be classified correctly. Let's consider a parametrized version of the stabilizer state, associated with the coupling graph $(\\mathcal{E},\\mathcal{V})$ given by the device connectivity, as our fiducial state and then use kernel alignment to find its optimal parameters. Specifically, we'll replace the initial layers of Hadamards in the graph state with $y$-rotations by an angle $\\lambda$,\n",
    "\n",
    "$$\n",
    "\\lvert \\psi_\\lambda\\rangle = V_\\lambda \\lvert 0^n\\rangle = \\prod_{(k,t) \\in \\mathcal{E}} CZ_{k,t} \\prod_{k \\in \\mathcal{V}} \\exp\\left(i \\frac{\\lambda}{2} Y_k\\right)\\lvert 0^n\\rangle,\n",
    "$$\n",
    "\n",
    "where $CZ=\\mathrm{diag}(1,1,1,-1)$. Then, given two samples from our dataset, $\\mathbf{\\theta}$ and $\\mathbf{\\theta}'$, the kernel matrix is evaluated as in Eq. $(2)$. If we initialize the kernel with $\\lambda \\approx 0$, we expect the quantum kernel alignment algorithm to converge towards the optimal $\\lambda = \\pi/2$ and the classifier to yield 100\\% test accuracy.\n",
    "\n",
    "Let's define two specific problem instances to test these ideas out. We'll be using the quantum device `ibmq_montreal`, with coupling map shown below:\n",
    "\n",
    "<br>\n",
    "<img src=\"images/chip.png\" width=\"500\">\n",
    "<br>\n",
    "\n",
    "We'll pick two different subgraphs, one for 7 qubits and one for 10, to define our problem instances. Using these subgraphs, we'll generate the corresponding datasets as described above, and then align the quantum kernel with QKA to learn a good fiducial state.\n",
    "\n",
    "<br>\n",
    "<img src=\"images/subgraphs.png\" width=\"550\">\n",
    "<br>\n",
    "\n",
    "**Speeding up Algorithms with Qiskit Runtime**<br>\n",
    "QKA is an iterative quantum-classical algorithm, in which quantum hardware is used to execute parametrized quantum circuits for evaluating the quantum kernel matrices with QKE, while a classical optimizer tunes the parameters of those circuits to maximize the alignment. Iterative algorithms of this type can be slow due to latency between the quantum and classical calculations. Qiskit Runtime is a new architecture that can speed up iterative algorithms like QKA by co-locating classical computations with the quantum hardware executions. In this tutorial, we'll use QKA with Qiskit Runtime to learn a good quantum kernel for the _labeling cosets with error_ problem defined above.\n",
    "\n",
    "<br>\n",
    "\n",
    "**References**<br>\n",
    "[1] B. E. Boser, I. M. Guyon,  and V. N. Vapnik, Proceedings of the Fifth Annual Workshop on Computational Learning Theory, COLT ’92 (Association for Computing Machinery, New York, NY, USA, 1992) pp. 144-152 [link](https://doi.org/10.1145/130385.130401) <br>\n",
    "[2] V. Vapnik, The Nature of Statistical Learning Theory, Information Science and Statistics (Springer New York, 2013) [link](https://books.google.com/books?id=EqgACAAAQBAJ) <br>\n",
    "[3] V. Havlíček, A. D. Córcoles, K. Temme, A. W. Harrow, A. Kandala, J. M. Chow, and J. M. Gambetta, Nature 567, 209-212 (2019) [link](https://doi.org/10.1038/s41586-019-0980-2) <br>\n",
    "[4] Y. Liu, S. Arunachalam, and K. Temme, arXiv:2010.02174 (2020) [link](https://arxiv.org/abs/2010.02174) <br>\n",
    "[5] J. R. Glick, T. P. Gujarati, A. D. Córcoles, Y. Kim, A. Kandala, J. M. Gambetta, K. Temme, arXiv:2105.03406 (2021) [link](https://arxiv.org/abs/2105.03406)<br>\n",
    "[6] N. Cristianini, J. Shawe-taylor, A. Elisseeff, and J. Kandola, Advances in Neural Information Processing Systems 14 (2001) [link](https://proceedings.neurips.cc/paper/2001/file/1f71e393b3809197ed66df836fe833e5-Paper.pdf) <br>\n"
   ]
  },
  {
   "cell_type": "markdown",
   "metadata": {
    "id": "uyaoDpvQm3-7",
    "tags": []
   },
   "source": [
    "# Load your IBM Quantum account and get the quantum backend\n",
    "\n",
    "We'll be using the 27-qubit device `ibmq_montreal` for this tutorial."
   ]
  },
  {
   "cell_type": "code",
   "execution_count": 1,
   "metadata": {},
   "outputs": [
    {
     "name": "stderr",
     "output_type": "stream",
     "text": [
      "<frozen importlib._bootstrap>:219: RuntimeWarning: scipy._lib.messagestream.MessageStream size changed, may indicate binary incompatibility. Expected 56 from C header, got 64 from PyObject\n",
      "ibmqfactory.load_account:WARNING:2022-03-08 12:53:22,865: Credentials are already in use. The existing account in the session will be replaced.\n"
     ]
    },
    {
     "name": "stdout",
     "output_type": "stream",
     "text": [
      "CSIC\n",
      "ibmq_montreal\n"
     ]
    }
   ],
   "source": [
    "import numpy as np# Importing standard Qiskit libraries\n",
    "from qiskit import QuantumCircuit, transpile, Aer, IBMQ\n",
    "from qiskit.tools.jupyter import *\n",
    "from qiskit.visualization import *\n",
    "from ibm_quantum_widgets import *\n",
    "from qiskit.providers.aer import QasmSimulator\n",
    "import qiskit\n",
    "import matplotlib.pyplot as plt\n",
    "%matplotlib inline\n",
    "import numpy as np\n",
    "from typing import Optional, List, Union, Tuple\n",
    "import numpy as np\n",
    "from qiskit.circuit import QuantumCircuit\n",
    "from qiskit.circuit.library.arithmetic.piecewise_linear_pauli_rotations import PiecewiseLinearPauliRotations\n",
    "from qiskit import Aer\n",
    "from qiskit.utils import QuantumInstance\n",
    "from qiskit.algorithms import IterativeAmplitudeEstimation\n",
    "from qiskit_finance.circuit.library import LogNormalDistribution\n",
    "from numpy import random\n",
    "from qiskit.converters.circuit_to_dag import circuit_to_dag\n",
    "from qiskit.converters.dag_to_circuit import dag_to_circuit\n",
    "from qiskit.compiler import transpile\n",
    "from qiskit.exceptions import QiskitError\n",
    "import matplotlib.pyplot as plt\n",
    "from qiskit.utils import QuantumInstance\n",
    "from qiskit import QuantumCircuit, QuantumRegister, ClassicalRegister, Aer, execute# Loading your IBM Quantum account(s)\n",
    "acceso = 'CSIC' # CSIC\n",
    "#acceso = 'EXTERNO' # Pablo\n",
    "Backend_qubits = 10# Loading your IBM Quantum account(s)\n",
    "IBMQ.load_account()\n",
    "print (acceso)\n",
    "if acceso == 'CSIC' :\n",
    "# number of qubits to represent the uncertainty ***********************************************************************************************************\n",
    "    numero_de_qbits_de_incertidumbre = 3\n",
    "#**********************************************************************************************************************************************************\n",
    "    IBMQ.load_account()\n",
    "    provider = IBMQ.get_provider(hub='ibm-q-csic')\n",
    "    provider.backends()\n",
    "    from qiskit.providers.ibmq import least_busy\n",
    "    #backend = least_busy(provider.backends(filters=lambda b: b.configuration().n_qubits >= Backend_qubits and not b.configuration().simulator and b.status().operational==True))\n",
    "    #print (backend)\n",
    "    sistema_cuantico = 'ibmq_montreal'\n",
    "    print (sistema_cuantico)\n",
    "    backend = provider.get_backend(sistema_cuantico)\n",
    "else :\n",
    "# number of qubits to represent the uncertainty ***********************************************************************************************************\n",
    "    numero_de_qbits_de_incertidumbre = 3\n",
    "#**********************************************************************************************************************************************************\n",
    "# Loading your IBM Quantum account(s)\n",
    "    provider = IBMQ.load_account()\n",
    "    sistema_cuantico = 'ibmq_belem'\n",
    "    backend = provider.get_backend(sistema_cuantico)\n",
    "    print (sistema_cuantico)#provider = IBMQ.load_account()"
   ]
  },
  {
   "cell_type": "code",
   "execution_count": 2,
   "metadata": {
    "id": "hyQtkRzvm3-8"
   },
   "outputs": [],
   "source": [
    "import sys\n",
    "sys.path.insert(0, 'qiskit-runtime') # Path al repositorio de RUNTIME desde IBM Quantum Lab\n"
   ]
  },
  {
   "cell_type": "code",
   "execution_count": 3,
   "metadata": {},
   "outputs": [],
   "source": [
    "#   !git clone https://github.com/Qiskit-Partners/qiskit-runtime.git"
   ]
  },
  {
   "cell_type": "markdown",
   "metadata": {
    "id": "5usaKTRWm3-9",
    "tags": []
   },
   "source": [
    "# Invoke the Quantum Kernel Alignment program\n",
    "\n",
    "Before executing the runtime program for QKA, we need to prepare the dataset and configure the input parameters for the algorithm.\n",
    "\n",
    "### 1. Prepare the dataset\n",
    "\n",
    "First, we load the dataset from the `csv` file and then extract the labeled training and test samples. Here, we'll look at the 7-qubit problem, shown above in subfigure a). A second dataset is also available for the 10-qubit problem in b)."
   ]
  },
  {
   "cell_type": "code",
   "execution_count": 4,
   "metadata": {
    "id": "LhDGm_x8m3--"
   },
   "outputs": [],
   "source": [
    "# Libraries needed for the tutorial\n",
    "\n",
    "import pandas as pd\n",
    "import requests\n",
    "import io\n",
    "    \n",
    "# Downloading the csv file from your GitHub account\n",
    "\n",
    "url = \"https://raw.githubusercontent.com/Qiskit-Partners/qiskit-runtime/main/qiskit_runtime/qka/aux_file/dataset_graph7.csv\" # Make sure the url is the raw version of the file on GitHub\n",
    "\n",
    "# Reading the downloaded content and turning it into a pandas dataframe\n",
    "\n",
    "df = pd.read_csv(url,header= None)\n",
    "\n",
    "data = df.values"
   ]
  },
  {
   "cell_type": "markdown",
   "metadata": {
    "id": "HmC4mlORm3--"
   },
   "source": [
    "Let's take a look at the data to see how it's formatted. Each row of the dataset contains a list of Euler angles, followed by the class label $\\pm1$ in the last column. For an $n$-qubit problem, there are $2n$ features corresponding to the first two Euler angles for each qubit (recall discussion above). The rows alternate between class labels."
   ]
  },
  {
   "cell_type": "code",
   "execution_count": 5,
   "metadata": {
    "colab": {
     "base_uri": "https://localhost:8080/",
     "height": 419
    },
    "id": "aBWMEJfbm3--",
    "outputId": "dc0c6263-19a7-4b19-b669-9e9e6f155a66"
   },
   "outputs": [
    {
     "data": {
      "text/html": [
       "<div>\n",
       "<style scoped>\n",
       "    .dataframe tbody tr th:only-of-type {\n",
       "        vertical-align: middle;\n",
       "    }\n",
       "\n",
       "    .dataframe tbody tr th {\n",
       "        vertical-align: top;\n",
       "    }\n",
       "\n",
       "    .dataframe thead th {\n",
       "        text-align: right;\n",
       "    }\n",
       "</style>\n",
       "<table border=\"1\" class=\"dataframe\">\n",
       "  <thead>\n",
       "    <tr style=\"text-align: right;\">\n",
       "      <th></th>\n",
       "      <th>0</th>\n",
       "      <th>1</th>\n",
       "      <th>2</th>\n",
       "      <th>3</th>\n",
       "      <th>4</th>\n",
       "      <th>5</th>\n",
       "      <th>6</th>\n",
       "      <th>7</th>\n",
       "      <th>8</th>\n",
       "      <th>9</th>\n",
       "      <th>10</th>\n",
       "      <th>11</th>\n",
       "      <th>12</th>\n",
       "      <th>13</th>\n",
       "      <th>14</th>\n",
       "    </tr>\n",
       "  </thead>\n",
       "  <tbody>\n",
       "    <tr>\n",
       "      <th>0</th>\n",
       "      <td>-0.193574</td>\n",
       "      <td>0.113979</td>\n",
       "      <td>-0.005927</td>\n",
       "      <td>0.300957</td>\n",
       "      <td>-0.358603</td>\n",
       "      <td>-0.087866</td>\n",
       "      <td>-0.156226</td>\n",
       "      <td>0.342442</td>\n",
       "      <td>-0.016003</td>\n",
       "      <td>0.143113</td>\n",
       "      <td>0.256422</td>\n",
       "      <td>-0.164125</td>\n",
       "      <td>-0.136743</td>\n",
       "      <td>0.014674</td>\n",
       "      <td>1.0</td>\n",
       "    </tr>\n",
       "    <tr>\n",
       "      <th>1</th>\n",
       "      <td>-0.100006</td>\n",
       "      <td>0.002431</td>\n",
       "      <td>0.244218</td>\n",
       "      <td>0.126870</td>\n",
       "      <td>-0.063891</td>\n",
       "      <td>-0.085588</td>\n",
       "      <td>0.072490</td>\n",
       "      <td>0.042986</td>\n",
       "      <td>-0.052714</td>\n",
       "      <td>0.019754</td>\n",
       "      <td>-0.159314</td>\n",
       "      <td>-0.409991</td>\n",
       "      <td>-0.199615</td>\n",
       "      <td>0.053845</td>\n",
       "      <td>-1.0</td>\n",
       "    </tr>\n",
       "    <tr>\n",
       "      <th>2</th>\n",
       "      <td>-1.774448</td>\n",
       "      <td>-0.047642</td>\n",
       "      <td>-0.025880</td>\n",
       "      <td>0.252708</td>\n",
       "      <td>-0.350689</td>\n",
       "      <td>-1.604509</td>\n",
       "      <td>-0.114874</td>\n",
       "      <td>0.347631</td>\n",
       "      <td>0.059501</td>\n",
       "      <td>-0.168956</td>\n",
       "      <td>0.351014</td>\n",
       "      <td>-0.128586</td>\n",
       "      <td>0.098897</td>\n",
       "      <td>-0.047799</td>\n",
       "      <td>1.0</td>\n",
       "    </tr>\n",
       "    <tr>\n",
       "      <th>3</th>\n",
       "      <td>-0.211585</td>\n",
       "      <td>-0.043782</td>\n",
       "      <td>-1.560226</td>\n",
       "      <td>0.018510</td>\n",
       "      <td>-0.051867</td>\n",
       "      <td>-0.128508</td>\n",
       "      <td>0.218609</td>\n",
       "      <td>-0.075632</td>\n",
       "      <td>-0.183656</td>\n",
       "      <td>-1.715292</td>\n",
       "      <td>-0.105361</td>\n",
       "      <td>-0.300758</td>\n",
       "      <td>-0.566431</td>\n",
       "      <td>0.046542</td>\n",
       "      <td>-1.0</td>\n",
       "    </tr>\n",
       "    <tr>\n",
       "      <th>4</th>\n",
       "      <td>-0.105965</td>\n",
       "      <td>0.208387</td>\n",
       "      <td>-0.003896</td>\n",
       "      <td>0.163816</td>\n",
       "      <td>-0.332541</td>\n",
       "      <td>-1.594675</td>\n",
       "      <td>-1.889321</td>\n",
       "      <td>-0.251937</td>\n",
       "      <td>0.374445</td>\n",
       "      <td>-1.431062</td>\n",
       "      <td>0.290588</td>\n",
       "      <td>0.118851</td>\n",
       "      <td>0.048799</td>\n",
       "      <td>-0.073023</td>\n",
       "      <td>1.0</td>\n",
       "    </tr>\n",
       "    <tr>\n",
       "      <th>...</th>\n",
       "      <td>...</td>\n",
       "      <td>...</td>\n",
       "      <td>...</td>\n",
       "      <td>...</td>\n",
       "      <td>...</td>\n",
       "      <td>...</td>\n",
       "      <td>...</td>\n",
       "      <td>...</td>\n",
       "      <td>...</td>\n",
       "      <td>...</td>\n",
       "      <td>...</td>\n",
       "      <td>...</td>\n",
       "      <td>...</td>\n",
       "      <td>...</td>\n",
       "      <td>...</td>\n",
       "    </tr>\n",
       "    <tr>\n",
       "      <th>123</th>\n",
       "      <td>-1.860920</td>\n",
       "      <td>-0.030419</td>\n",
       "      <td>-1.688612</td>\n",
       "      <td>0.007305</td>\n",
       "      <td>0.066572</td>\n",
       "      <td>-1.711844</td>\n",
       "      <td>-1.393033</td>\n",
       "      <td>-0.083453</td>\n",
       "      <td>0.055720</td>\n",
       "      <td>-1.518301</td>\n",
       "      <td>-1.576734</td>\n",
       "      <td>0.208194</td>\n",
       "      <td>-1.813403</td>\n",
       "      <td>-0.106302</td>\n",
       "      <td>-1.0</td>\n",
       "    </tr>\n",
       "    <tr>\n",
       "      <th>124</th>\n",
       "      <td>-0.316567</td>\n",
       "      <td>-1.599647</td>\n",
       "      <td>0.113329</td>\n",
       "      <td>-1.413006</td>\n",
       "      <td>-1.761544</td>\n",
       "      <td>-0.044818</td>\n",
       "      <td>-1.810205</td>\n",
       "      <td>-0.289997</td>\n",
       "      <td>-1.566337</td>\n",
       "      <td>-0.277979</td>\n",
       "      <td>-1.298275</td>\n",
       "      <td>-1.490769</td>\n",
       "      <td>-1.663696</td>\n",
       "      <td>-1.562536</td>\n",
       "      <td>1.0</td>\n",
       "    </tr>\n",
       "    <tr>\n",
       "      <th>125</th>\n",
       "      <td>-1.489406</td>\n",
       "      <td>-1.564369</td>\n",
       "      <td>-0.012539</td>\n",
       "      <td>0.023483</td>\n",
       "      <td>-1.559397</td>\n",
       "      <td>-1.477378</td>\n",
       "      <td>-1.423428</td>\n",
       "      <td>-1.385349</td>\n",
       "      <td>-0.111253</td>\n",
       "      <td>0.088187</td>\n",
       "      <td>-1.501800</td>\n",
       "      <td>-1.270020</td>\n",
       "      <td>-1.645927</td>\n",
       "      <td>-0.106986</td>\n",
       "      <td>-1.0</td>\n",
       "    </tr>\n",
       "    <tr>\n",
       "      <th>126</th>\n",
       "      <td>-1.744036</td>\n",
       "      <td>-1.852529</td>\n",
       "      <td>-0.048826</td>\n",
       "      <td>-1.300941</td>\n",
       "      <td>-1.853251</td>\n",
       "      <td>-1.660622</td>\n",
       "      <td>-1.767232</td>\n",
       "      <td>-0.162640</td>\n",
       "      <td>-1.314748</td>\n",
       "      <td>-0.055515</td>\n",
       "      <td>-1.308294</td>\n",
       "      <td>-1.485198</td>\n",
       "      <td>-1.535383</td>\n",
       "      <td>-1.519175</td>\n",
       "      <td>1.0</td>\n",
       "    </tr>\n",
       "    <tr>\n",
       "      <th>127</th>\n",
       "      <td>-1.722786</td>\n",
       "      <td>-1.501960</td>\n",
       "      <td>-1.365953</td>\n",
       "      <td>-0.079926</td>\n",
       "      <td>-1.527680</td>\n",
       "      <td>-1.344128</td>\n",
       "      <td>-1.358803</td>\n",
       "      <td>-1.409152</td>\n",
       "      <td>-0.308980</td>\n",
       "      <td>-1.561450</td>\n",
       "      <td>-1.702210</td>\n",
       "      <td>-1.354104</td>\n",
       "      <td>-1.798914</td>\n",
       "      <td>-0.375672</td>\n",
       "      <td>-1.0</td>\n",
       "    </tr>\n",
       "  </tbody>\n",
       "</table>\n",
       "<p>128 rows × 15 columns</p>\n",
       "</div>"
      ],
      "text/plain": [
       "           0         1         2         3         4         5         6   \\\n",
       "0   -0.193574  0.113979 -0.005927  0.300957 -0.358603 -0.087866 -0.156226   \n",
       "1   -0.100006  0.002431  0.244218  0.126870 -0.063891 -0.085588  0.072490   \n",
       "2   -1.774448 -0.047642 -0.025880  0.252708 -0.350689 -1.604509 -0.114874   \n",
       "3   -0.211585 -0.043782 -1.560226  0.018510 -0.051867 -0.128508  0.218609   \n",
       "4   -0.105965  0.208387 -0.003896  0.163816 -0.332541 -1.594675 -1.889321   \n",
       "..        ...       ...       ...       ...       ...       ...       ...   \n",
       "123 -1.860920 -0.030419 -1.688612  0.007305  0.066572 -1.711844 -1.393033   \n",
       "124 -0.316567 -1.599647  0.113329 -1.413006 -1.761544 -0.044818 -1.810205   \n",
       "125 -1.489406 -1.564369 -0.012539  0.023483 -1.559397 -1.477378 -1.423428   \n",
       "126 -1.744036 -1.852529 -0.048826 -1.300941 -1.853251 -1.660622 -1.767232   \n",
       "127 -1.722786 -1.501960 -1.365953 -0.079926 -1.527680 -1.344128 -1.358803   \n",
       "\n",
       "           7         8         9         10        11        12        13   14  \n",
       "0    0.342442 -0.016003  0.143113  0.256422 -0.164125 -0.136743  0.014674  1.0  \n",
       "1    0.042986 -0.052714  0.019754 -0.159314 -0.409991 -0.199615  0.053845 -1.0  \n",
       "2    0.347631  0.059501 -0.168956  0.351014 -0.128586  0.098897 -0.047799  1.0  \n",
       "3   -0.075632 -0.183656 -1.715292 -0.105361 -0.300758 -0.566431  0.046542 -1.0  \n",
       "4   -0.251937  0.374445 -1.431062  0.290588  0.118851  0.048799 -0.073023  1.0  \n",
       "..        ...       ...       ...       ...       ...       ...       ...  ...  \n",
       "123 -0.083453  0.055720 -1.518301 -1.576734  0.208194 -1.813403 -0.106302 -1.0  \n",
       "124 -0.289997 -1.566337 -0.277979 -1.298275 -1.490769 -1.663696 -1.562536  1.0  \n",
       "125 -1.385349 -0.111253  0.088187 -1.501800 -1.270020 -1.645927 -0.106986 -1.0  \n",
       "126 -0.162640 -1.314748 -0.055515 -1.308294 -1.485198 -1.535383 -1.519175  1.0  \n",
       "127 -1.409152 -0.308980 -1.561450 -1.702210 -1.354104 -1.798914 -0.375672 -1.0  \n",
       "\n",
       "[128 rows x 15 columns]"
      ]
     },
     "execution_count": 5,
     "metadata": {},
     "output_type": "execute_result"
    }
   ],
   "source": [
    "df"
   ]
  },
  {
   "cell_type": "markdown",
   "metadata": {
    "id": "Y6bBITPLm3_A"
   },
   "source": [
    "Now, let's explicitly construct the training and test samples (denoted `x`) and their labels (denoted `y`)."
   ]
  },
  {
   "cell_type": "code",
   "execution_count": 6,
   "metadata": {
    "id": "PO5vK_fnm3_A"
   },
   "outputs": [],
   "source": [
    "import numpy as np\n",
    "\n",
    "# choose number of training and test samples per class:\n",
    "num_train = 10\n",
    "num_test = 10\n",
    "\n",
    "# extract training and test sets and sort them by class label\n",
    "train = data[:2*num_train, :]\n",
    "test = data[2*num_train:2*(num_train+num_test), :]\n",
    "\n",
    "ind=np.argsort(train[:,-1])\n",
    "x_train = train[ind][:,:-1]\n",
    "y_train = train[ind][:,-1]\n",
    "\n",
    "ind=np.argsort(test[:,-1])\n",
    "x_test = test[ind][:,:-1]\n",
    "y_test = test[ind][:,-1]\n"
   ]
  },
  {
   "cell_type": "markdown",
   "metadata": {
    "id": "NanBf92km3_A",
    "jp-MarkdownHeadingCollapsed": true,
    "tags": []
   },
   "source": [
    "### 2. Configure the QKA algorithm\n",
    "\n",
    "The first task is to set up the feature map and its entangler map, which specifies the arrangement of $CZ$ gates in the fiducial state. We will choose this to match the connectivity of the problem subgraph, pictured above. We also initialize the fiducial state parameter $\\lambda$ with `initial_point`."
   ]
  },
  {
   "cell_type": "code",
   "execution_count": 7,
   "metadata": {
    "colab": {
     "base_uri": "https://localhost:8080/",
     "height": 368
    },
    "id": "nuuOQW3hm3_B",
    "outputId": "1b7e862d-a781-41f1-8831-003fc5d67537"
   },
   "outputs": [],
   "source": [
    "from qiskit_runtime.qka import FeatureMap\n",
    "\n",
    "\n",
    "d = np.shape(data)[1]-1                                         # feature dimension is twice the qubit number\n",
    "\n",
    "em = [[0,2],[3,4],[2,5],[1,4],[2,3],[4,6]]                      # we'll match this to the 7-qubit graph              \n",
    "# em = [[0,1],[2,3],[4,5],[6,7],[8,9],[1,2],[3,4],[5,6],[7,8]]  # we'll match this to the 10-qubit graph\n",
    "\n",
    "fm = FeatureMap(feature_dimension=d, entangler_map=em)          # define the feature map\n",
    "initial_point = [0.1]                                           # set the initial parameter for the feature map"
   ]
  },
  {
   "cell_type": "markdown",
   "metadata": {
    "id": "Sh61Y1MRm3_B"
   },
   "source": [
    "Let's print out the circuit for the feature map (the circuit for the kernel will be a feature map for one data sample composed with an inverse feature map for a second sample). The first part of the feature map is the fiducial state, which is prepared with a layer of $y$ rotations followed by $CZ$s. Then, the last two layers of $z$ and $x$ rotations in the circuit denote the group representation $D(\\theta)$ for a data sample $\\theta$. Note that a single-qubit rotation is defined as $RP(\\phi) = \\exp(- i [\\phi/2] P)$ for $P \\in {X, Y, Z}$."
   ]
  },
  {
   "cell_type": "code",
   "execution_count": 8,
   "metadata": {
    "id": "oQjR_870m3_B",
    "outputId": "9952dfdc-3654-4b18-a0fa-26ee8a827d68"
   },
   "outputs": [
    {
     "data": {
      "text/html": [
       "<pre style=\"word-wrap: normal;white-space: pre;background: #fff0;line-height: 1.1;font-family: &quot;Courier New&quot;,Courier,monospace\">     ┌──────────┐   ┌──────────────┐ ┌────────────┐                                                 \n",
       "q_0: ┤ Ry(-0.1) ├─■─┤ Rz(-0.38383) ├─┤ Rx(3.3378) ├─────────────────────────────────────────────────\n",
       "     ├──────────┤ │ └──────────────┘ └────────────┘┌──────────────┐ ┌──────────────┐                \n",
       "q_1: ┤ Ry(-0.1) ├─┼────────────────────────■───────┤ Rz(-0.11811) ├─┤ Rx(-0.20449) ├────────────────\n",
       "     ├──────────┤ │                        │       └──────────────┘ └┬────────────┬┘┌─────────────┐ \n",
       "q_2: ┤ Ry(-0.1) ├─■────────■───────────────┼──────────────■──────────┤ Rz(3.4802) ├─┤ Rx(0.15495) ├─\n",
       "     ├──────────┤          │               │              │         ┌┴────────────┤ ├─────────────┴┐\n",
       "q_3: ┤ Ry(-0.1) ├─■────────┼───────────────┼──────────────■─────────┤ Rz(0.34764) ├─┤ Rx(-0.54085) ├\n",
       "     ├──────────┤ │        │               │                        ├─────────────┤ ├──────────────┤\n",
       "q_4: ┤ Ry(-0.1) ├─■────────┼───────────────■──────────────■─────────┤ Rz(0.34312) ├─┤ Rx(-0.14015) ├\n",
       "     ├──────────┤          │        ┌─────────────┐       │        ┌┴─────────────┴┐└──────────────┘\n",
       "q_5: ┤ Ry(-0.1) ├──────────■────────┤ Rz(0.51497) ├───────┼────────┤ Rx(-0.029293) ├────────────────\n",
       "     ├──────────┤                   └─────────────┘       │        └┬──────────────┤┌─────────────┐ \n",
       "q_6: ┤ Ry(-0.1) ├─────────────────────────────────────────■─────────┤ Rz(-0.42725) ├┤ Rx(0.44115) ├─\n",
       "     └──────────┘                                                   └──────────────┘└─────────────┘ </pre>"
      ],
      "text/plain": [
       "     ┌──────────┐   ┌──────────────┐ ┌────────────┐                                                 \n",
       "q_0: ┤ Ry(-0.1) ├─■─┤ Rz(-0.38383) ├─┤ Rx(3.3378) ├─────────────────────────────────────────────────\n",
       "     ├──────────┤ │ └──────────────┘ └────────────┘┌──────────────┐ ┌──────────────┐                \n",
       "q_1: ┤ Ry(-0.1) ├─┼────────────────────────■───────┤ Rz(-0.11811) ├─┤ Rx(-0.20449) ├────────────────\n",
       "     ├──────────┤ │                        │       └──────────────┘ └┬────────────┬┘┌─────────────┐ \n",
       "q_2: ┤ Ry(-0.1) ├─■────────■───────────────┼──────────────■──────────┤ Rz(3.4802) ├─┤ Rx(0.15495) ├─\n",
       "     ├──────────┤          │               │              │         ┌┴────────────┤ ├─────────────┴┐\n",
       "q_3: ┤ Ry(-0.1) ├─■────────┼───────────────┼──────────────■─────────┤ Rz(0.34764) ├─┤ Rx(-0.54085) ├\n",
       "     ├──────────┤ │        │               │                        ├─────────────┤ ├──────────────┤\n",
       "q_4: ┤ Ry(-0.1) ├─■────────┼───────────────■──────────────■─────────┤ Rz(0.34312) ├─┤ Rx(-0.14015) ├\n",
       "     ├──────────┤          │        ┌─────────────┐       │        ┌┴─────────────┴┐└──────────────┘\n",
       "q_5: ┤ Ry(-0.1) ├──────────■────────┤ Rz(0.51497) ├───────┼────────┤ Rx(-0.029293) ├────────────────\n",
       "     ├──────────┤                   └─────────────┘       │        └┬──────────────┤┌─────────────┐ \n",
       "q_6: ┤ Ry(-0.1) ├─────────────────────────────────────────■─────────┤ Rz(-0.42725) ├┤ Rx(0.44115) ├─\n",
       "     └──────────┘                                                   └──────────────┘└─────────────┘ "
      ]
     },
     "execution_count": 8,
     "metadata": {},
     "output_type": "execute_result"
    }
   ],
   "source": [
    "from qiskit.tools.visualization import circuit_drawer\n",
    "circuit_drawer(fm.construct_circuit(x=x_train[0], parameters=initial_point), \n",
    "               output='text', fold=200)"
   ]
  },
  {
   "cell_type": "markdown",
   "metadata": {
    "id": "8A-bjyh3m3_C"
   },
   "source": [
    "Next, we set the values for the SVM soft-margin penalty `C` and the number of SPSA iterations `maxiters` we use to align the quantum kernel."
   ]
  },
  {
   "cell_type": "code",
   "execution_count": 9,
   "metadata": {
    "id": "fPs6nBzmm3_D"
   },
   "outputs": [],
   "source": [
    "C = 1                                                           # SVM soft-margin penalty\n",
    "maxiters = 10                                                   # number of SPSA iterations"
   ]
  },
  {
   "cell_type": "markdown",
   "metadata": {
    "id": "cilEJuigm3_D"
   },
   "source": [
    "Finally, we decide how to map the virtual qubits of our problem graph to the physical qubits of the hardware. For example, in the 7-qubit problem, we can directly map the virtual qubits `[0, 1, 2, 3, 4, 5, 6]` to the physical qubits `[10, 11, 12, 13, 14, 15, 16]` of the device. This allows us to avoid introducing SWAP gates for qubits that are not connected, which can increase the circuit depth. "
   ]
  },
  {
   "cell_type": "code",
   "execution_count": 10,
   "metadata": {
    "id": "a5Eo-u66m3_E"
   },
   "outputs": [],
   "source": [
    "initial_layout = [10, 11, 12, 13, 14, 15, 16]                   # see figure above for the 7-qubit graph\n",
    "# initial_layout = [9, 8, 11, 14, 16, 19, 22, 25, 24, 23]       # see figure above for the 10-qubit graph"
   ]
  },
  {
   "cell_type": "markdown",
   "metadata": {
    "id": "MefJnZHUm3_E",
    "jp-MarkdownHeadingCollapsed": true,
    "tags": []
   },
   "source": [
    "### 3. Set up and run the program\n",
    "\n",
    "We're almost ready to run the program. First, let's take a look at the program metadata, which includes a description of the input parameters and their default values."
   ]
  },
  {
   "cell_type": "code",
   "execution_count": 11,
   "metadata": {
    "id": "8zKcmC9Tm3_E",
    "outputId": "14fde541-c315-413d-b134-ba494f8f994d"
   },
   "outputs": [
    {
     "name": "stdout",
     "output_type": "stream",
     "text": [
      "quantum-kernel-alignment:\n",
      "  Name: quantum-kernel-alignment\n",
      "  Description: Quantum kernel alignment algorithm that learns, on a given dataset, a quantum kernel maximizing the SVM classification margin.\n",
      "  Creation date: 2021-05-06T14:56:53Z\n",
      "  Update date: 2021-11-10T17:10:19.159734Z\n",
      "  Max execution time: 28800\n",
      "  Input parameters:\n",
      "    Properties:\n",
      "        - C:\n",
      "            Type: number\n",
      "            Default: 1\n",
      "            Description: Penalty parameter for the soft-margin support vector machine. Default is 1.\n",
      "            Required: False\n",
      "        - data:\n",
      "            Type: array\n",
      "            Description: NxD array of training data, where N is the number of samples and D is the feature dimension. This is a numpy array.\n",
      "            Required: True\n",
      "        - labels:\n",
      "            Type: array\n",
      "            Description: Nx1 array of +/-1 labels of the N training samples. This is a numpy array.\n",
      "            Required: True\n",
      "        - maxiters:\n",
      "            Type: integer\n",
      "            Default: 1\n",
      "            Description: Number of SPSA optimization steps. Default is 1.\n",
      "            Required: False\n",
      "        - feature_map:\n",
      "            Type: object\n",
      "            Description: An instance of FeatureMap in dictionary format used to map classical data into a quantum state space.\n",
      "            Required: True\n",
      "        - initial_layout:\n",
      "            Type: ['null', 'array', 'object']\n",
      "            Default: null\n",
      "            Description: Initial position of virtual qubits on the physical qubits of the quantum device. Default is None.\n",
      "            Required: False\n",
      "        - initial_kernel_parameters:\n",
      "            Type: array\n",
      "            Description: Initial parameters of the quantum kernel. If not specified, an array of randomly generated numbers is used. This is a numpy array.\n",
      "            Required: False\n",
      "  Interim results:\n",
      "    none\n",
      "  Returns:\n",
      "    Properties:\n",
      "        - aligned_kernel_matrix:\n",
      "            Type: array\n",
      "            Description: The aligned quantum kernel matrix evaluated with the optimized kernel parameters on the training data. This is a numpy array.\n",
      "            Required: False\n",
      "        - aligned_kernel_parameters:\n",
      "            Type: array\n",
      "            Description: The optimized kernel parameters found from quantum kernel alignment. This is a numpy array.\n",
      "            Required: False\n"
     ]
    }
   ],
   "source": [
    "print(provider.runtime.program('quantum-kernel-alignment'))"
   ]
  },
  {
   "cell_type": "markdown",
   "metadata": {
    "id": "xl2xIn-Wm3_F"
   },
   "source": [
    "We see that this program has several input parameters, which we'll configure below. To run the program, we'll set up its two main components: `inputs` (the input parameters from the program metadata) and `options` (the quantum backend). We'll also define a callback function so that the intermediate results of the algorithm will be printed as the program runs. Note that each step of the algorithm for the settings we've selected here takes approximately 11 minutes."
   ]
  },
  {
   "cell_type": "code",
   "execution_count": 12,
   "metadata": {
    "id": "NSg6xkB-m3_F"
   },
   "outputs": [],
   "source": [
    "def interim_result_callback(job_id, interim_result):\n",
    "    print(f\"interim result: {interim_result}\\n\")"
   ]
  },
  {
   "cell_type": "code",
   "execution_count": 13,
   "metadata": {
    "id": "kER-9S-7m3_F",
    "outputId": "6d90dde7-1f76-4e7c-c485-68b079512e49"
   },
   "outputs": [
    {
     "name": "stdout",
     "output_type": "stream",
     "text": [
      "c8jl3klp1qlipf745pdg\n",
      "interim result: {'cost': 10.86710432306609, 'kernel_parameters': array([0.18782357])}\n",
      "\n",
      "interim result: {'cost': 10.72979108399653, 'kernel_parameters': array([0.33684051])}\n",
      "\n",
      "interim result: {'cost': 9.939370663494906, 'kernel_parameters': array([0.50135521])}\n",
      "\n",
      "interim result: {'cost': 8.797571619277, 'kernel_parameters': array([0.66472119])}\n",
      "\n",
      "interim result: {'cost': 7.548858006063455, 'kernel_parameters': array([0.80805455])}\n",
      "\n",
      "interim result: {'cost': 6.559251149722632, 'kernel_parameters': array([0.91656584])}\n",
      "\n",
      "interim result: {'cost': 5.85799065791344, 'kernel_parameters': array([1.00340584])}\n",
      "\n",
      "interim result: {'cost': 5.5114025311687636, 'kernel_parameters': array([1.07039414])}\n",
      "\n",
      "interim result: {'cost': 5.195612026815285, 'kernel_parameters': array([1.12548827])}\n",
      "\n",
      "interim result: {'cost': 4.997232268907078, 'kernel_parameters': array([1.17163723])}\n",
      "\n",
      "interim result: {'aligned_kernel_parameters': array([1.17163723]), 'aligned_kernel_matrix': array([[1.        , 0.30212402, 0.31530762, 0.51196289, 0.51904297,\n",
      "        0.30737305, 0.32788086, 0.30310059, 0.33984375, 0.50292969,\n",
      "        0.27331543, 0.20495605, 0.34680176, 0.16955566, 0.17980957,\n",
      "        0.203125  , 0.34082031, 0.30859375, 0.32788086, 0.3013916 ],\n",
      "       [0.30212402, 1.        , 0.19262695, 0.31628418, 0.35339355,\n",
      "        0.32714844, 0.53466797, 0.27075195, 0.40625   , 0.39672852,\n",
      "        0.28845215, 0.11096191, 0.21447754, 0.24243164, 0.28723145,\n",
      "        0.2142334 , 0.18823242, 0.28979492, 0.21252441, 0.26672363],\n",
      "       [0.31530762, 0.19262695, 1.        , 0.49072266, 0.57556152,\n",
      "        0.48840332, 0.27990723, 0.43518066, 0.29748535, 0.36645508,\n",
      "        0.19494629, 0.18664551, 0.22070312, 0.13586426, 0.0994873 ,\n",
      "        0.19592285, 0.26123047, 0.18579102, 0.17175293, 0.18481445],\n",
      "       [0.51196289, 0.31628418, 0.49072266, 1.        , 0.37011719,\n",
      "        0.41125488, 0.25195312, 0.39648438, 0.36804199, 0.29492188,\n",
      "        0.23034668, 0.09924316, 0.19152832, 0.10717773, 0.17163086,\n",
      "        0.11462402, 0.27648926, 0.19152832, 0.1439209 , 0.2166748 ],\n",
      "       [0.51904297, 0.35339355, 0.57556152, 0.37011719, 1.        ,\n",
      "        0.35534668, 0.41040039, 0.34594727, 0.51794434, 0.43566895,\n",
      "        0.25744629, 0.11889648, 0.26708984, 0.1340332 , 0.13598633,\n",
      "        0.18847656, 0.32519531, 0.28967285, 0.19787598, 0.19140625],\n",
      "       [0.30737305, 0.32714844, 0.48840332, 0.41125488, 0.35534668,\n",
      "        1.        , 0.41845703, 0.45605469, 0.55810547, 0.31665039,\n",
      "        0.1895752 , 0.09338379, 0.13098145, 0.09069824, 0.1619873 ,\n",
      "        0.10241699, 0.1887207 , 0.18786621, 0.13378906, 0.25549316],\n",
      "       [0.32788086, 0.53466797, 0.27990723, 0.25195312, 0.41040039,\n",
      "        0.41845703, 1.        , 0.24768066, 0.52380371, 0.40942383,\n",
      "        0.26379395, 0.10595703, 0.21337891, 0.18493652, 0.30615234,\n",
      "        0.20117188, 0.1817627 , 0.25927734, 0.18774414, 0.26501465],\n",
      "       [0.30310059, 0.27075195, 0.43518066, 0.39648438, 0.34594727,\n",
      "        0.45605469, 0.24768066, 1.        , 0.29919434, 0.39489746,\n",
      "        0.22497559, 0.15612793, 0.17797852, 0.11425781, 0.10412598,\n",
      "        0.12219238, 0.18127441, 0.20324707, 0.14599609, 0.1529541 ],\n",
      "       [0.33984375, 0.40625   , 0.29748535, 0.36804199, 0.51794434,\n",
      "        0.55810547, 0.52380371, 0.29919434, 1.        , 0.43688965,\n",
      "        0.22814941, 0.1217041 , 0.25097656, 0.14257812, 0.22094727,\n",
      "        0.13879395, 0.17358398, 0.21606445, 0.17480469, 0.22460938],\n",
      "       [0.50292969, 0.39672852, 0.36645508, 0.29492188, 0.43566895,\n",
      "        0.31665039, 0.40942383, 0.39489746, 0.43688965, 1.        ,\n",
      "        0.32531738, 0.16052246, 0.31384277, 0.21972656, 0.21398926,\n",
      "        0.2121582 , 0.34741211, 0.41748047, 0.27172852, 0.27111816],\n",
      "       [0.27331543, 0.28845215, 0.19494629, 0.23034668, 0.25744629,\n",
      "        0.1895752 , 0.26379395, 0.22497559, 0.22814941, 0.32531738,\n",
      "        1.        , 0.31286621, 0.37475586, 0.32885742, 0.47888184,\n",
      "        0.38684082, 0.39489746, 0.44958496, 0.25695801, 0.3927002 ],\n",
      "       [0.20495605, 0.11096191, 0.18664551, 0.09924316, 0.11889648,\n",
      "        0.09338379, 0.10595703, 0.15612793, 0.1217041 , 0.16052246,\n",
      "        0.31286621, 1.        , 0.33178711, 0.32189941, 0.23474121,\n",
      "        0.41125488, 0.50561523, 0.35290527, 0.42785645, 0.36474609],\n",
      "       [0.34680176, 0.21447754, 0.22070312, 0.19152832, 0.26708984,\n",
      "        0.13098145, 0.21337891, 0.17797852, 0.25097656, 0.31384277,\n",
      "        0.37475586, 0.33178711, 1.        , 0.29455566, 0.38928223,\n",
      "        0.43029785, 0.38769531, 0.34399414, 0.38964844, 0.38659668],\n",
      "       [0.16955566, 0.24243164, 0.13586426, 0.10717773, 0.1340332 ,\n",
      "        0.09069824, 0.18493652, 0.11425781, 0.14257812, 0.21972656,\n",
      "        0.32885742, 0.32189941, 0.29455566, 1.        , 0.49853516,\n",
      "        0.45825195, 0.33837891, 0.34594727, 0.34838867, 0.48950195],\n",
      "       [0.17980957, 0.28723145, 0.0994873 , 0.17163086, 0.13598633,\n",
      "        0.1619873 , 0.30615234, 0.10412598, 0.22094727, 0.21398926,\n",
      "        0.47888184, 0.23474121, 0.38928223, 0.49853516, 1.        ,\n",
      "        0.40991211, 0.21911621, 0.33178711, 0.28637695, 0.40209961],\n",
      "       [0.203125  , 0.2142334 , 0.19592285, 0.11462402, 0.18847656,\n",
      "        0.10241699, 0.20117188, 0.12219238, 0.13879395, 0.2121582 ,\n",
      "        0.38684082, 0.41125488, 0.43029785, 0.45825195, 0.40991211,\n",
      "        1.        , 0.3894043 , 0.32495117, 0.52319336, 0.34326172],\n",
      "       [0.34082031, 0.18823242, 0.26123047, 0.27648926, 0.32519531,\n",
      "        0.1887207 , 0.1817627 , 0.18127441, 0.17358398, 0.34741211,\n",
      "        0.39489746, 0.50561523, 0.38769531, 0.33837891, 0.21911621,\n",
      "        0.3894043 , 1.        , 0.45324707, 0.56359863, 0.50134277],\n",
      "       [0.30859375, 0.28979492, 0.18579102, 0.19152832, 0.28967285,\n",
      "        0.18786621, 0.25927734, 0.20324707, 0.21606445, 0.41748047,\n",
      "        0.44958496, 0.35290527, 0.34399414, 0.34594727, 0.33178711,\n",
      "        0.32495117, 0.45324707, 1.        , 0.29467773, 0.33532715],\n",
      "       [0.32788086, 0.21252441, 0.17175293, 0.1439209 , 0.19787598,\n",
      "        0.13378906, 0.18774414, 0.14599609, 0.17480469, 0.27172852,\n",
      "        0.25695801, 0.42785645, 0.38964844, 0.34838867, 0.28637695,\n",
      "        0.52319336, 0.56359863, 0.29467773, 1.        , 0.3314209 ],\n",
      "       [0.3013916 , 0.26672363, 0.18481445, 0.2166748 , 0.19140625,\n",
      "        0.25549316, 0.26501465, 0.1529541 , 0.22460938, 0.27111816,\n",
      "        0.3927002 , 0.36474609, 0.38659668, 0.48950195, 0.40209961,\n",
      "        0.34326172, 0.50134277, 0.33532715, 0.3314209 , 1.        ]])}\n",
      "\n"
     ]
    }
   ],
   "source": [
    "program_inputs = {\n",
    "    'feature_map': fm,\n",
    "    'data': x_train,\n",
    "    'labels': y_train,\n",
    "    'initial_kernel_parameters': initial_point,\n",
    "    'maxiters': maxiters,\n",
    "    'C': C,\n",
    "    'initial_layout': initial_layout\n",
    "}\n",
    "\n",
    "options = {'backend_name': backend.name()}\n",
    "\n",
    "job = provider.runtime.run(program_id=\"quantum-kernel-alignment\",\n",
    "                              options=options,\n",
    "                              inputs=program_inputs,\n",
    "                              callback=interim_result_callback,\n",
    "                              )\n",
    "\n",
    "print(job.job_id())\n",
    "result = job.result()"
   ]
  },
  {
   "cell_type": "markdown",
   "metadata": {
    "id": "FpESCBbBm3_G",
    "tags": []
   },
   "source": [
    "### 4. Retrieve the results of the program\n",
    "\n",
    "Now that we've run the program, we can retrieve the output, which is the aligned kernel parameter and the aligned kernel matrix. Let's also plot this kernel matrix (we'll subtract off the diagonal to show the contrast between the remaining entries). The kernel matrix is expected to have a block-diagonal structure. This reflects the fact that the kernel maps the input data effectively to just two states (modulo the small noise we added to the data; recall the discussion above). That is, data in the same coset (same class label) have a larger overlap than do data from different cosets."
   ]
  },
  {
   "cell_type": "code",
   "execution_count": 14,
   "metadata": {
    "id": "IdwciJo-m3_G",
    "outputId": "ccf2bbe4-1e12-41b9-cb55-805e86a7f16f",
    "scrolled": true
   },
   "outputs": [
    {
     "name": "stdout",
     "output_type": "stream",
     "text": [
      "aligned_kernel_parameters: [1.17163723]\n"
     ]
    },
    {
     "data": {
      "image/png": "[encoded data removed]",
      "text/plain": [
       "<Figure size 432x288 with 1 Axes>"
      ]
     },
     "metadata": {
      "needs_background": "light"
     },
     "output_type": "display_data"
    }
   ],
   "source": [
    "print(f\"aligned_kernel_parameters: {result['aligned_kernel_parameters']}\")\n",
    "\n",
    "from matplotlib import pyplot as plt\n",
    "from pylab import cm\n",
    "plt.rcParams['font.size'] = 20\n",
    "plt.imshow(result['aligned_kernel_matrix']-np.identity(2*num_train), cmap=cm.get_cmap('bwr', 20))\n",
    "plt.show()"
   ]
  },
  {
   "cell_type": "markdown",
   "metadata": {
    "id": "9YqFW1cOm3_G",
    "tags": []
   },
   "source": [
    "# Use the results of the program to test an SVM on new data\n",
    "\n",
    "Equipped with the aligned kernel and its optimized parameter, we can use the `sklearn` package to train an SVM and then evaluate its classification accuracy on new test points. Note that a second kernel matrix built from the test points is needed for the SVM decision function."
   ]
  },
  {
   "cell_type": "code",
   "execution_count": 15,
   "metadata": {
    "id": "YwEKcZ7jm3_G",
    "outputId": "bb0da715-773a-4e1c-c79f-1ccc40f29076",
    "scrolled": true
   },
   "outputs": [
    {
     "name": "stdout",
     "output_type": "stream",
     "text": [
      "accuracy test: 1.0\n"
     ]
    }
   ],
   "source": [
    "from qiskit_runtime.qka import KernelMatrix\n",
    "from sklearn.svm import SVC\n",
    "from sklearn import metrics\n",
    "\n",
    "# train the SVM with the aligned kernel matrix:\n",
    "\n",
    "kernel_aligned = result['aligned_kernel_matrix']\n",
    "model = SVC(C=C, kernel='precomputed')\n",
    "model.fit(X=kernel_aligned, y=y_train)\n",
    "\n",
    "# test the SVM on new data:\n",
    "\n",
    "km = KernelMatrix(feature_map=fm, backend=backend, initial_layout=initial_layout)\n",
    "kernel_test = km.construct_kernel_matrix(x1_vec=x_test, x2_vec=x_train, parameters=result['aligned_kernel_parameters'])\n",
    "labels_test = model.predict(X=kernel_test)\n",
    "accuracy_test = metrics.balanced_accuracy_score(y_true=y_test, y_pred=labels_test)\n",
    "print(f\"accuracy test: {accuracy_test}\")\n"
   ]
  },
  {
   "cell_type": "markdown",
   "metadata": {
    "id": "3NEbfGUbm3_H",
    "outputId": "47ed69ae-ecd4-4dea-a67f-2fba2d11d4e5"
   },
   "source": [
    "import qiskit.tools.jupyter\n",
    "%qiskit_version_table\n",
    "%qiskit_copyright"
   ]
  }
 ],
 "metadata": {
  "colab": {
   "name": "qka.ipynb",
   "provenance": []
  },
  "kernelspec": {
   "display_name": "Qiskit v0.34.2 (ipykernel)",
   "language": "python",
   "name": "python3"
  },
  "language_info": {
   "codemirror_mode": {
    "name": "ipython",
    "version": 3
   },
   "file_extension": ".py",
   "mimetype": "text/x-python",
   "name": "python",
   "nbconvert_exporter": "python",
   "pygments_lexer": "ipython3",
   "version": "3.8.12"
  },
  "widgets": {
   "application/vnd.jupyter.widget-state+json": {
    "state": {
     "050733b110f344fc90bc2f74216c7fb6": {
      "model_module": "@jupyter-widgets/controls",
      "model_module_version": "1.5.0",
      "model_name": "DescriptionStyleModel",
      "state": {
       "description_width": ""
      }
     },
     "0c8151e9c66c4cad9b39ec3bf815a224": {
      "model_module": "@jupyter-widgets/controls",
      "model_module_version": "1.5.0",
      "model_name": "HTMLModel",
      "state": {
       "layout": "IPY_MODEL_5f1cbbba2c9046a082b6db6913675551",
       "style": "IPY_MODEL_3e7b5fe38b87437792b11eabd9e858b5",
       "value": "<h5>Status</h5>"
      }
     },
     "1216eb154bbb4b1c9ddadc7ae6a5f347": {
      "model_module": "@jupyter-widgets/base",
      "model_module_version": "1.2.0",
      "model_name": "LayoutModel",
      "state": {}
     },
     "16162983afaa4182a31b212782b1bda4": {
      "model_module": "@jupyter-widgets/controls",
      "model_module_version": "1.5.0",
      "model_name": "DescriptionStyleModel",
      "state": {
       "description_width": ""
      }
     },
     "1b8b158523484b02945e6987140979c0": {
      "model_module": "@jupyter-widgets/controls",
      "model_module_version": "1.5.0",
      "model_name": "HTMLModel",
      "state": {
       "layout": "IPY_MODEL_1216eb154bbb4b1c9ddadc7ae6a5f347",
       "style": "IPY_MODEL_7ce016e45def42cba958b54f7917feaa",
       "value": "<h5>Message</h5>"
      }
     },
     "1f88ddfb5622443aa4c6d514e422a178": {
      "model_module": "@jupyter-widgets/controls",
      "model_module_version": "1.5.0",
      "model_name": "HTMLModel",
      "state": {
       "layout": "IPY_MODEL_5a3fdb9a69664d659679964e5ce26523",
       "style": "IPY_MODEL_ca21ef1fc8bf4dff9c5aa7916c7e1a44",
       "value": "<font style='color:#34BC6E'>DONE</font>"
      }
     },
     "2397301d35b0439fb24a9bc29c17163f": {
      "model_module": "@jupyter-widgets/base",
      "model_module_version": "1.2.0",
      "model_name": "LayoutModel",
      "state": {
       "width": "190px"
      }
     },
     "248fd3424924401e8051e9a133b7179d": {
      "model_module": "@jupyter-widgets/controls",
      "model_module_version": "1.5.0",
      "model_name": "DescriptionStyleModel",
      "state": {
       "description_width": ""
      }
     },
     "39bb18e250604994a4ba49f1d36e0822": {
      "model_module": "@jupyter-widgets/controls",
      "model_module_version": "1.5.0",
      "model_name": "HBoxModel",
      "state": {
       "children": [
        "IPY_MODEL_5fac2ce9fca54216b5285daf239b99f1",
        "IPY_MODEL_fc860651d4a14bfb9f76a0dc2d242a74",
        "IPY_MODEL_8d7cc6f8d9974c9db7a8ccfa4230f74b",
        "IPY_MODEL_1f88ddfb5622443aa4c6d514e422a178",
        "IPY_MODEL_b30b9d3b241b444089a832d4628c5f9e",
        "IPY_MODEL_7bb9264b6791454dab5b1cd6c555beb6"
       ],
       "layout": "IPY_MODEL_854815caa62a469b97cf1c4364b32af5"
      }
     },
     "3e7b5fe38b87437792b11eabd9e858b5": {
      "model_module": "@jupyter-widgets/controls",
      "model_module_version": "1.5.0",
      "model_name": "DescriptionStyleModel",
      "state": {
       "description_width": ""
      }
     },
     "4a7416e926184c1f94d5bcd6266a4e7c": {
      "model_module": "@jupyter-widgets/base",
      "model_module_version": "1.2.0",
      "model_name": "LayoutModel",
      "state": {
       "width": "70px"
      }
     },
     "5a3fdb9a69664d659679964e5ce26523": {
      "model_module": "@jupyter-widgets/base",
      "model_module_version": "1.2.0",
      "model_name": "LayoutModel",
      "state": {
       "width": "95px"
      }
     },
     "5f1cbbba2c9046a082b6db6913675551": {
      "model_module": "@jupyter-widgets/base",
      "model_module_version": "1.2.0",
      "model_name": "LayoutModel",
      "state": {
       "width": "95px"
      }
     },
     "5fac2ce9fca54216b5285daf239b99f1": {
      "model_module": "@jupyter-widgets/controls",
      "model_module_version": "1.5.0",
      "model_name": "ButtonModel",
      "state": {
       "icon": "close",
       "layout": "IPY_MODEL_a2cee6f4f89b404fb8c05be39e72189a",
       "style": "IPY_MODEL_b89d7c067fa04c9186ededfa162fe552"
      }
     },
     "68492f418f464d5c9e94298bedadaa24": {
      "model_module": "@jupyter-widgets/controls",
      "model_module_version": "1.5.0",
      "model_name": "HBoxModel",
      "state": {
       "children": [
        "IPY_MODEL_e21765a583e5431daae49d8cb377d1b8",
        "IPY_MODEL_c33b1e055d8f4a84a3524f72c3373024",
        "IPY_MODEL_0c8151e9c66c4cad9b39ec3bf815a224",
        "IPY_MODEL_b29e6e517e4e4fe5ab9fb3b4b7ba3429",
        "IPY_MODEL_1b8b158523484b02945e6987140979c0"
       ],
       "layout": "IPY_MODEL_c2ffb235c901405da65de1d07722897e"
      }
     },
     "7bb9264b6791454dab5b1cd6c555beb6": {
      "model_module": "@jupyter-widgets/controls",
      "model_module_version": "1.5.0",
      "model_name": "HTMLModel",
      "state": {
       "layout": "IPY_MODEL_9f450d0b6736470bbff4dadf865edd2a",
       "style": "IPY_MODEL_972e305819c14d41acdd208b39fea8be",
       "value": "job has successfully run"
      }
     },
     "7ce016e45def42cba958b54f7917feaa": {
      "model_module": "@jupyter-widgets/controls",
      "model_module_version": "1.5.0",
      "model_name": "DescriptionStyleModel",
      "state": {
       "description_width": ""
      }
     },
     "7e6d0ff482504531ae1c331245dfce43": {
      "model_module": "@jupyter-widgets/base",
      "model_module_version": "1.2.0",
      "model_name": "LayoutModel",
      "state": {
       "width": "145px"
      }
     },
     "8294dae02c0c48fca96a403f1fc61629": {
      "model_module": "@jupyter-widgets/base",
      "model_module_version": "1.2.0",
      "model_name": "LayoutModel",
      "state": {
       "grid_area": "right",
       "padding": "0px 0px 0px 0px",
       "width": "70px"
      }
     },
     "854815caa62a469b97cf1c4364b32af5": {
      "model_module": "@jupyter-widgets/base",
      "model_module_version": "1.2.0",
      "model_name": "LayoutModel",
      "state": {
       "max_width": "700px",
       "min_width": "700px"
      }
     },
     "8d7cc6f8d9974c9db7a8ccfa4230f74b": {
      "model_module": "@jupyter-widgets/controls",
      "model_module_version": "1.5.0",
      "model_name": "HTMLModel",
      "state": {
       "layout": "IPY_MODEL_91d2310f1aef43f79c69110e0bbbd8d8",
       "style": "IPY_MODEL_caf93cbb90e14c9bbc96392028178423",
       "value": "ibmq_montreal"
      }
     },
     "91d2310f1aef43f79c69110e0bbbd8d8": {
      "model_module": "@jupyter-widgets/base",
      "model_module_version": "1.2.0",
      "model_name": "LayoutModel",
      "state": {
       "width": "145px"
      }
     },
     "9381996fba0c437dac163286b4bd45d4": {
      "model_module": "@jupyter-widgets/controls",
      "model_module_version": "1.5.0",
      "model_name": "DescriptionStyleModel",
      "state": {
       "description_width": ""
      }
     },
     "972e305819c14d41acdd208b39fea8be": {
      "model_module": "@jupyter-widgets/controls",
      "model_module_version": "1.5.0",
      "model_name": "DescriptionStyleModel",
      "state": {
       "description_width": ""
      }
     },
     "9bc6ef02e97a48c79c82999852110cd0": {
      "model_module": "@jupyter-widgets/controls",
      "model_module_version": "1.5.0",
      "model_name": "ButtonStyleModel",
      "state": {}
     },
     "9f2459e7612340d9a463e06267595e6f": {
      "model_module": "@jupyter-widgets/controls",
      "model_module_version": "1.5.0",
      "model_name": "HTMLModel",
      "state": {
       "layout": "IPY_MODEL_eb753ab5333745afbdfe630740587b30",
       "style": "IPY_MODEL_a1deee5620364e6cb194ae6a971d1224",
       "value": "<p style='font-family: IBM Plex Sans, Arial, Helvetica, sans-serif; font-size: 20px; font-weight: medium;'>Circuit Properties</p>"
      }
     },
     "9f450d0b6736470bbff4dadf865edd2a": {
      "model_module": "@jupyter-widgets/base",
      "model_module_version": "1.2.0",
      "model_name": "LayoutModel",
      "state": {
       "overflow_x": "scroll"
      }
     },
     "a1deee5620364e6cb194ae6a971d1224": {
      "model_module": "@jupyter-widgets/controls",
      "model_module_version": "1.5.0",
      "model_name": "DescriptionStyleModel",
      "state": {
       "description_width": ""
      }
     },
     "a2cee6f4f89b404fb8c05be39e72189a": {
      "model_module": "@jupyter-widgets/base",
      "model_module_version": "1.2.0",
      "model_name": "LayoutModel",
      "state": {
       "margin": "0px 5px 0px 0px",
       "width": "32px"
      }
     },
     "a6ad063433534432a6da5ee6d3f0461e": {
      "model_module": "@jupyter-widgets/base",
      "model_module_version": "1.2.0",
      "model_name": "LayoutModel",
      "state": {
       "width": "190px"
      }
     },
     "addd5d4395c2479ebd3c129ed28ad353": {
      "model_module": "@jupyter-widgets/base",
      "model_module_version": "1.2.0",
      "model_name": "LayoutModel",
      "state": {
       "width": "70px"
      }
     },
     "b29e6e517e4e4fe5ab9fb3b4b7ba3429": {
      "model_module": "@jupyter-widgets/controls",
      "model_module_version": "1.5.0",
      "model_name": "HTMLModel",
      "state": {
       "layout": "IPY_MODEL_addd5d4395c2479ebd3c129ed28ad353",
       "style": "IPY_MODEL_050733b110f344fc90bc2f74216c7fb6",
       "value": "<h5>Queue</h5>"
      }
     },
     "b30b9d3b241b444089a832d4628c5f9e": {
      "model_module": "@jupyter-widgets/controls",
      "model_module_version": "1.5.0",
      "model_name": "HTMLModel",
      "state": {
       "layout": "IPY_MODEL_4a7416e926184c1f94d5bcd6266a4e7c",
       "style": "IPY_MODEL_9381996fba0c437dac163286b4bd45d4",
       "value": "-"
      }
     },
     "b7fbf9245a4b4422ba47f0e11253c656": {
      "model_module": "@jupyter-widgets/controls",
      "model_module_version": "1.5.0",
      "model_name": "DescriptionStyleModel",
      "state": {
       "description_width": ""
      }
     },
     "b80286ed42064a1994ca633751e7afd1": {
      "model_module": "@jupyter-widgets/base",
      "model_module_version": "1.2.0",
      "model_name": "LayoutModel",
      "state": {
       "grid_template_areas": "\n                                       \". . . . right \"\n                                        ",
       "grid_template_columns": "20% 20% 20% 20% 20%",
       "width": "100%"
      }
     },
     "b89d7c067fa04c9186ededfa162fe552": {
      "model_module": "@jupyter-widgets/controls",
      "model_module_version": "1.5.0",
      "model_name": "ButtonStyleModel",
      "state": {
       "button_color": "white"
      }
     },
     "c174340d16754f3994a7d181989280b7": {
      "model_module": "@jupyter-widgets/controls",
      "model_module_version": "1.5.0",
      "model_name": "GridBoxModel",
      "state": {
       "children": [
        "IPY_MODEL_ddbdf727a36548339021cb4f90a4b2b2"
       ],
       "layout": "IPY_MODEL_b80286ed42064a1994ca633751e7afd1"
      }
     },
     "c2ffb235c901405da65de1d07722897e": {
      "model_module": "@jupyter-widgets/base",
      "model_module_version": "1.2.0",
      "model_name": "LayoutModel",
      "state": {
       "margin": "0px 0px 0px 37px",
       "width": "600px"
      }
     },
     "c33b1e055d8f4a84a3524f72c3373024": {
      "model_module": "@jupyter-widgets/controls",
      "model_module_version": "1.5.0",
      "model_name": "HTMLModel",
      "state": {
       "layout": "IPY_MODEL_7e6d0ff482504531ae1c331245dfce43",
       "style": "IPY_MODEL_248fd3424924401e8051e9a133b7179d",
       "value": "<h5>Backend</h5>"
      }
     },
     "ca21ef1fc8bf4dff9c5aa7916c7e1a44": {
      "model_module": "@jupyter-widgets/controls",
      "model_module_version": "1.5.0",
      "model_name": "DescriptionStyleModel",
      "state": {
       "description_width": ""
      }
     },
     "caf93cbb90e14c9bbc96392028178423": {
      "model_module": "@jupyter-widgets/controls",
      "model_module_version": "1.5.0",
      "model_name": "DescriptionStyleModel",
      "state": {
       "description_width": ""
      }
     },
     "ddbdf727a36548339021cb4f90a4b2b2": {
      "model_module": "@jupyter-widgets/controls",
      "model_module_version": "1.5.0",
      "model_name": "ButtonModel",
      "state": {
       "button_style": "primary",
       "description": "Clear",
       "layout": "IPY_MODEL_8294dae02c0c48fca96a403f1fc61629",
       "style": "IPY_MODEL_9bc6ef02e97a48c79c82999852110cd0"
      }
     },
     "e21765a583e5431daae49d8cb377d1b8": {
      "model_module": "@jupyter-widgets/controls",
      "model_module_version": "1.5.0",
      "model_name": "HTMLModel",
      "state": {
       "layout": "IPY_MODEL_2397301d35b0439fb24a9bc29c17163f",
       "style": "IPY_MODEL_16162983afaa4182a31b212782b1bda4",
       "value": "<h5>Job ID</h5>"
      }
     },
     "eb753ab5333745afbdfe630740587b30": {
      "model_module": "@jupyter-widgets/base",
      "model_module_version": "1.2.0",
      "model_name": "LayoutModel",
      "state": {
       "margin": "0px 0px 10px 0px"
      }
     },
     "fc860651d4a14bfb9f76a0dc2d242a74": {
      "model_module": "@jupyter-widgets/controls",
      "model_module_version": "1.5.0",
      "model_name": "HTMLModel",
      "state": {
       "layout": "IPY_MODEL_a6ad063433534432a6da5ee6d3f0461e",
       "style": "IPY_MODEL_b7fbf9245a4b4422ba47f0e11253c656",
       "value": "622762c3827b3756978039f1"
      }
     }
    },
    "version_major": 2,
    "version_minor": 0
   }
  }
 },
 "nbformat": 4,
 "nbformat_minor": 4
}
