{
 "cells": [
  {
   "cell_type": "markdown",
   "id": "measured-liabilities",
   "metadata": {},
   "source": [
    "# Saving, Loading Qiskit Machine Learning Models and Continuous Training\n",
    "\n",
    "In this tutorial we will show how to save and load Qiskit machine learning models. Ability to save a model is very important, especially when a significant amount of time is invested in training a model on a real hardware. Also, we will show how to resume training of the previously saved model.\n",
    "\n",
    "In this tutorial we will cover how to:\n",
    "\n",
    "* Generate a simple dataset, split it into training/test datasets and plot them\n",
    "* Train and save a model\n",
    "* Load a saved model and resume training\n",
    "* Evaluate performance of models\n",
    "* PyTorch hybrid models"
   ]
  },
  {
   "cell_type": "markdown",
   "id": "speaking-glance",
   "metadata": {},
   "source": [
    "First off, we start from the required imports. We'll heavily use SciKit-Learn on the data preparation step. In the next cell we also fix a random seed for reproducibility purposes."
   ]
  },
  {
   "cell_type": "code",
   "execution_count": 1,
   "id": "exposed-cholesterol",
   "metadata": {},
   "outputs": [
    {
     "name": "stderr",
     "output_type": "stream",
     "text": [
      "<frozen importlib._bootstrap>:219: RuntimeWarning: scipy._lib.messagestream.MessageStream size changed, may indicate binary incompatibility. Expected 56 from C header, got 64 from PyObject\n"
     ]
    },
    {
     "name": "stdout",
     "output_type": "stream",
     "text": [
      "No se clonará el repositorio debido a que ya existe en el sistema\n"
     ]
    }
   ],
   "source": [
    "import matplotlib.pyplot as plt\n",
    "import numpy as np\n",
    "import pandas as pd\n",
    "import os\n",
    "import sys\n",
    "from qiskit import Aer\n",
    "from qiskit.algorithms.optimizers import COBYLA\n",
    "from qiskit.circuit.library import RealAmplitudes\n",
    "from qiskit.utils import QuantumInstance, algorithm_globals\n",
    "from sklearn.model_selection import train_test_split\n",
    "from sklearn.preprocessing import OneHotEncoder, MinMaxScaler\n",
    "\n",
    "from qiskit_machine_learning.algorithms.classifiers import VQC\n",
    "\n",
    "from IPython.display import clear_output\n",
    "\n",
    "algorithm_globals.random_seed = 42\n",
    "\n",
    "path = 'qiskit-runtime'\n",
    "# Check whether the specified\n",
    "# path exists or not\n",
    "Exist = os.path.exists(path)\n",
    "\n",
    "\n",
    "#Si no existe el path clonaremos el repositorio en ese path, si ya existe no haremos nada.\n",
    "if Exist == False: \n",
    "    print('Clonando Repositorio...')\n",
    "    !git clone https://github.com/Qiskit-Partners/qiskit-runtime.git\n",
    "    \n",
    "else: \n",
    "    print('No se clonará el repositorio debido a que ya existe en el sistema')"
   ]
  },
  {
   "cell_type": "code",
   "execution_count": 2,
   "id": "f8b5e078-f51e-42c3-9827-be790340ac0e",
   "metadata": {},
   "outputs": [],
   "source": [
    "sys.path.insert(0, 'qiskit-runtime')"
   ]
  },
  {
   "cell_type": "markdown",
   "id": "rural-mileage",
   "metadata": {},
   "source": [
    "We will be using two quantum simulators. We'll start training on the QASM simulator then will resume training on the statevector simulator. The approach shown in this tutorial can be used to train a model on a real hardware available on the cloud and then re-use the model for inference on a local simulator."
   ]
  },
  {
   "cell_type": "code",
   "execution_count": 3,
   "id": "charming-seating",
   "metadata": {},
   "outputs": [],
   "source": [
    "qi_qasm = QuantumInstance(\n",
    "    Aer.get_backend(\"aer_simulator\"),\n",
    "    shots=1024,\n",
    "    seed_simulator=algorithm_globals.random_seed,\n",
    "    seed_transpiler=algorithm_globals.random_seed,\n",
    ")\n",
    "\n",
    "qi_sv = QuantumInstance(\n",
    "    Aer.get_backend(\"aer_simulator_statevector\"),\n",
    "    seed_simulator=algorithm_globals.random_seed,\n",
    "    seed_transpiler=algorithm_globals.random_seed,\n",
    ")"
   ]
  },
  {
   "cell_type": "markdown",
   "id": "careful-allowance",
   "metadata": {},
   "source": [
    "## 1. Prepare a dataset\n",
    "\n",
    "Next step is to prepare a dataset. Here, we generate some data in the same way as in other tutorials. The difference is that we apply some transformations to the generated data. We generates `40` samples, each sample has `2` features, so our features is an array of shape `(40, 2)`. Labels are obtained by summing up features by columns and if the sum is more than `1` then this sample is labeled as `1` and `0` otherwise."
   ]
  },
  {
   "cell_type": "code",
   "execution_count": 4,
   "id": "ceramic-florida",
   "metadata": {},
   "outputs": [],
   "source": [
    "# Load CSV File\n",
    "\n",
    "url = \"https://raw.githubusercontent.com/Qiskit-Partners/qiskit-runtime/main/qiskit_runtime/qka/aux_file/dataset_graph7.csv\" # Make sure the url is the raw version of the file on GitHub\n",
    "\n",
    "# Reading the downloaded content and turning it into a pandas dataframe\n",
    "\n",
    "df = pd.read_csv(url,header= None)\n",
    "\n",
    "#df.loc[df[10] == 2, 10] = 0\n",
    "\n",
    "df = df.sample(frac=1)\n",
    "\n",
    "#columns = [0, 1, 2, 3, 4, 5, 6, 7, 8, 9,14]\n",
    "\n",
    "#df = df[columns]\n",
    "\n",
    "data = df.values\n",
    "\n",
    "features = data[:,:-1]\n",
    "\n",
    "labels = data[:,-1]"
   ]
  },
  {
   "cell_type": "code",
   "execution_count": 5,
   "id": "fbbe0f5e-5dc3-425f-9deb-f3218bb76fb6",
   "metadata": {},
   "outputs": [
    {
     "data": {
      "text/html": [
       "<div>\n",
       "<style scoped>\n",
       "    .dataframe tbody tr th:only-of-type {\n",
       "        vertical-align: middle;\n",
       "    }\n",
       "\n",
       "    .dataframe tbody tr th {\n",
       "        vertical-align: top;\n",
       "    }\n",
       "\n",
       "    .dataframe thead th {\n",
       "        text-align: right;\n",
       "    }\n",
       "</style>\n",
       "<table border=\"1\" class=\"dataframe\">\n",
       "  <thead>\n",
       "    <tr style=\"text-align: right;\">\n",
       "      <th></th>\n",
       "      <th>0</th>\n",
       "      <th>1</th>\n",
       "      <th>2</th>\n",
       "      <th>3</th>\n",
       "      <th>4</th>\n",
       "      <th>5</th>\n",
       "      <th>6</th>\n",
       "      <th>7</th>\n",
       "      <th>8</th>\n",
       "      <th>9</th>\n",
       "      <th>10</th>\n",
       "      <th>11</th>\n",
       "      <th>12</th>\n",
       "      <th>13</th>\n",
       "      <th>14</th>\n",
       "    </tr>\n",
       "  </thead>\n",
       "  <tbody>\n",
       "    <tr>\n",
       "      <th>1</th>\n",
       "      <td>-0.100006</td>\n",
       "      <td>0.002431</td>\n",
       "      <td>0.244218</td>\n",
       "      <td>0.126870</td>\n",
       "      <td>-0.063891</td>\n",
       "      <td>-0.085588</td>\n",
       "      <td>0.072490</td>\n",
       "      <td>0.042986</td>\n",
       "      <td>-0.052714</td>\n",
       "      <td>0.019754</td>\n",
       "      <td>-0.159314</td>\n",
       "      <td>-0.409991</td>\n",
       "      <td>-0.199615</td>\n",
       "      <td>0.053845</td>\n",
       "      <td>-1.0</td>\n",
       "    </tr>\n",
       "    <tr>\n",
       "      <th>87</th>\n",
       "      <td>-0.028166</td>\n",
       "      <td>-1.490271</td>\n",
       "      <td>-1.697566</td>\n",
       "      <td>0.106625</td>\n",
       "      <td>-1.536164</td>\n",
       "      <td>-1.538329</td>\n",
       "      <td>-1.356331</td>\n",
       "      <td>-1.514472</td>\n",
       "      <td>-0.109491</td>\n",
       "      <td>-1.800178</td>\n",
       "      <td>-0.121627</td>\n",
       "      <td>-1.651143</td>\n",
       "      <td>-1.955366</td>\n",
       "      <td>-0.123157</td>\n",
       "      <td>-1.0</td>\n",
       "    </tr>\n",
       "    <tr>\n",
       "      <th>8</th>\n",
       "      <td>-0.085208</td>\n",
       "      <td>-0.026512</td>\n",
       "      <td>-0.026404</td>\n",
       "      <td>-0.003274</td>\n",
       "      <td>-0.281643</td>\n",
       "      <td>0.035630</td>\n",
       "      <td>-0.304897</td>\n",
       "      <td>0.240393</td>\n",
       "      <td>0.057127</td>\n",
       "      <td>-1.551001</td>\n",
       "      <td>0.396600</td>\n",
       "      <td>-0.150969</td>\n",
       "      <td>-1.420543</td>\n",
       "      <td>-0.039464</td>\n",
       "      <td>1.0</td>\n",
       "    </tr>\n",
       "    <tr>\n",
       "      <th>20</th>\n",
       "      <td>-0.236777</td>\n",
       "      <td>0.238615</td>\n",
       "      <td>-0.173778</td>\n",
       "      <td>-1.355794</td>\n",
       "      <td>-0.267929</td>\n",
       "      <td>-1.644752</td>\n",
       "      <td>-1.939455</td>\n",
       "      <td>-1.868695</td>\n",
       "      <td>-1.400942</td>\n",
       "      <td>-1.688003</td>\n",
       "      <td>0.360651</td>\n",
       "      <td>-0.007626</td>\n",
       "      <td>-0.043301</td>\n",
       "      <td>-1.553362</td>\n",
       "      <td>1.0</td>\n",
       "    </tr>\n",
       "    <tr>\n",
       "      <th>33</th>\n",
       "      <td>-0.097343</td>\n",
       "      <td>-0.004679</td>\n",
       "      <td>-0.023547</td>\n",
       "      <td>0.005101</td>\n",
       "      <td>-0.133145</td>\n",
       "      <td>-1.598626</td>\n",
       "      <td>0.277875</td>\n",
       "      <td>0.048134</td>\n",
       "      <td>-0.162593</td>\n",
       "      <td>-0.066978</td>\n",
       "      <td>-1.749605</td>\n",
       "      <td>0.262330</td>\n",
       "      <td>-0.263479</td>\n",
       "      <td>0.166594</td>\n",
       "      <td>-1.0</td>\n",
       "    </tr>\n",
       "    <tr>\n",
       "      <th>...</th>\n",
       "      <td>...</td>\n",
       "      <td>...</td>\n",
       "      <td>...</td>\n",
       "      <td>...</td>\n",
       "      <td>...</td>\n",
       "      <td>...</td>\n",
       "      <td>...</td>\n",
       "      <td>...</td>\n",
       "      <td>...</td>\n",
       "      <td>...</td>\n",
       "      <td>...</td>\n",
       "      <td>...</td>\n",
       "      <td>...</td>\n",
       "      <td>...</td>\n",
       "      <td>...</td>\n",
       "    </tr>\n",
       "    <tr>\n",
       "      <th>95</th>\n",
       "      <td>-1.413746</td>\n",
       "      <td>-1.439224</td>\n",
       "      <td>-1.606212</td>\n",
       "      <td>0.246367</td>\n",
       "      <td>-1.672731</td>\n",
       "      <td>0.002269</td>\n",
       "      <td>-1.316527</td>\n",
       "      <td>-1.262398</td>\n",
       "      <td>-0.177720</td>\n",
       "      <td>-1.813590</td>\n",
       "      <td>0.013138</td>\n",
       "      <td>-1.618524</td>\n",
       "      <td>-1.859687</td>\n",
       "      <td>-0.249520</td>\n",
       "      <td>-1.0</td>\n",
       "    </tr>\n",
       "    <tr>\n",
       "      <th>11</th>\n",
       "      <td>-1.703818</td>\n",
       "      <td>0.132671</td>\n",
       "      <td>-1.517564</td>\n",
       "      <td>0.106002</td>\n",
       "      <td>-0.025376</td>\n",
       "      <td>-1.625499</td>\n",
       "      <td>0.141323</td>\n",
       "      <td>-0.187485</td>\n",
       "      <td>-0.137023</td>\n",
       "      <td>-1.640929</td>\n",
       "      <td>-0.048722</td>\n",
       "      <td>-0.351289</td>\n",
       "      <td>-0.133078</td>\n",
       "      <td>0.188405</td>\n",
       "      <td>-1.0</td>\n",
       "    </tr>\n",
       "    <tr>\n",
       "      <th>32</th>\n",
       "      <td>-0.210908</td>\n",
       "      <td>-1.555893</td>\n",
       "      <td>0.110789</td>\n",
       "      <td>0.117722</td>\n",
       "      <td>-1.903635</td>\n",
       "      <td>0.061494</td>\n",
       "      <td>-0.379975</td>\n",
       "      <td>-1.353484</td>\n",
       "      <td>-0.049300</td>\n",
       "      <td>0.153115</td>\n",
       "      <td>0.274087</td>\n",
       "      <td>-1.725856</td>\n",
       "      <td>0.181325</td>\n",
       "      <td>-0.070543</td>\n",
       "      <td>1.0</td>\n",
       "    </tr>\n",
       "    <tr>\n",
       "      <th>55</th>\n",
       "      <td>-0.046122</td>\n",
       "      <td>-1.491968</td>\n",
       "      <td>-1.557514</td>\n",
       "      <td>-0.053209</td>\n",
       "      <td>-1.565675</td>\n",
       "      <td>-0.006934</td>\n",
       "      <td>-1.436743</td>\n",
       "      <td>-1.483034</td>\n",
       "      <td>-0.195879</td>\n",
       "      <td>-0.058220</td>\n",
       "      <td>-1.749475</td>\n",
       "      <td>-1.367204</td>\n",
       "      <td>-0.033779</td>\n",
       "      <td>0.119220</td>\n",
       "      <td>-1.0</td>\n",
       "    </tr>\n",
       "    <tr>\n",
       "      <th>101</th>\n",
       "      <td>-0.212283</td>\n",
       "      <td>-1.742457</td>\n",
       "      <td>-0.005995</td>\n",
       "      <td>-0.074290</td>\n",
       "      <td>-1.573848</td>\n",
       "      <td>-1.427766</td>\n",
       "      <td>-0.002178</td>\n",
       "      <td>-1.848091</td>\n",
       "      <td>-0.246298</td>\n",
       "      <td>-1.507496</td>\n",
       "      <td>-1.694487</td>\n",
       "      <td>-1.084090</td>\n",
       "      <td>-1.881102</td>\n",
       "      <td>-0.404571</td>\n",
       "      <td>-1.0</td>\n",
       "    </tr>\n",
       "  </tbody>\n",
       "</table>\n",
       "<p>128 rows × 15 columns</p>\n",
       "</div>"
      ],
      "text/plain": [
       "           0         1         2         3         4         5         6   \\\n",
       "1   -0.100006  0.002431  0.244218  0.126870 -0.063891 -0.085588  0.072490   \n",
       "87  -0.028166 -1.490271 -1.697566  0.106625 -1.536164 -1.538329 -1.356331   \n",
       "8   -0.085208 -0.026512 -0.026404 -0.003274 -0.281643  0.035630 -0.304897   \n",
       "20  -0.236777  0.238615 -0.173778 -1.355794 -0.267929 -1.644752 -1.939455   \n",
       "33  -0.097343 -0.004679 -0.023547  0.005101 -0.133145 -1.598626  0.277875   \n",
       "..        ...       ...       ...       ...       ...       ...       ...   \n",
       "95  -1.413746 -1.439224 -1.606212  0.246367 -1.672731  0.002269 -1.316527   \n",
       "11  -1.703818  0.132671 -1.517564  0.106002 -0.025376 -1.625499  0.141323   \n",
       "32  -0.210908 -1.555893  0.110789  0.117722 -1.903635  0.061494 -0.379975   \n",
       "55  -0.046122 -1.491968 -1.557514 -0.053209 -1.565675 -0.006934 -1.436743   \n",
       "101 -0.212283 -1.742457 -0.005995 -0.074290 -1.573848 -1.427766 -0.002178   \n",
       "\n",
       "           7         8         9         10        11        12        13   14  \n",
       "1    0.042986 -0.052714  0.019754 -0.159314 -0.409991 -0.199615  0.053845 -1.0  \n",
       "87  -1.514472 -0.109491 -1.800178 -0.121627 -1.651143 -1.955366 -0.123157 -1.0  \n",
       "8    0.240393  0.057127 -1.551001  0.396600 -0.150969 -1.420543 -0.039464  1.0  \n",
       "20  -1.868695 -1.400942 -1.688003  0.360651 -0.007626 -0.043301 -1.553362  1.0  \n",
       "33   0.048134 -0.162593 -0.066978 -1.749605  0.262330 -0.263479  0.166594 -1.0  \n",
       "..        ...       ...       ...       ...       ...       ...       ...  ...  \n",
       "95  -1.262398 -0.177720 -1.813590  0.013138 -1.618524 -1.859687 -0.249520 -1.0  \n",
       "11  -0.187485 -0.137023 -1.640929 -0.048722 -0.351289 -0.133078  0.188405 -1.0  \n",
       "32  -1.353484 -0.049300  0.153115  0.274087 -1.725856  0.181325 -0.070543  1.0  \n",
       "55  -1.483034 -0.195879 -0.058220 -1.749475 -1.367204 -0.033779  0.119220 -1.0  \n",
       "101 -1.848091 -0.246298 -1.507496 -1.694487 -1.084090 -1.881102 -0.404571 -1.0  \n",
       "\n",
       "[128 rows x 15 columns]"
      ]
     },
     "execution_count": 5,
     "metadata": {},
     "output_type": "execute_result"
    }
   ],
   "source": [
    "df"
   ]
  },
  {
   "cell_type": "markdown",
   "id": "reduced-injury",
   "metadata": {},
   "source": [
    "Then, we scale down our features into a range of `[0, 1]` by applying `MinMaxScaler` from SciKit-Learn. Model training convergence is better when this  transformation is applied."
   ]
  },
  {
   "cell_type": "code",
   "execution_count": 6,
   "id": "dirty-director",
   "metadata": {},
   "outputs": [
    {
     "data": {
      "text/plain": [
       "(128, 14)"
      ]
     },
     "execution_count": 6,
     "metadata": {},
     "output_type": "execute_result"
    }
   ],
   "source": [
    "features = MinMaxScaler().fit_transform(features)\n",
    "features.shape"
   ]
  },
  {
   "cell_type": "markdown",
   "id": "julian-amount",
   "metadata": {},
   "source": [
    "Let's take a look at the features of the first `5` samples of our dataset after the transformation."
   ]
  },
  {
   "cell_type": "code",
   "execution_count": 7,
   "id": "thorough-script",
   "metadata": {},
   "outputs": [
    {
     "data": {
      "text/plain": [
       "array([[0.89237106, 0.85378575, 1.        , 0.86837599, 0.87451888,\n",
       "        0.8359086 , 0.84953655, 0.84966713, 0.7900492 , 0.90548646,\n",
       "        0.70728287, 0.63135759, 0.82171471, 0.86201386],\n",
       "       [0.92688524, 0.18425306, 0.03329686, 0.85819733, 0.18764222,\n",
       "        0.15080209, 0.26579656, 0.19830586, 0.76214331, 0.01556676,\n",
       "        0.72283955, 0.17515698, 0.        , 0.77736638],\n",
       "       [0.89948032, 0.84080382, 0.86527315, 0.80294369, 0.77292847,\n",
       "        0.89307445, 0.69535623, 0.93222675, 0.84403693, 0.13741039,\n",
       "        0.93675415, 0.72656441, 0.25030436, 0.81739081],\n",
       "       [0.8266625 , 0.95972311, 0.79190392, 0.12293992, 0.77932674,\n",
       "        0.10061317, 0.027563  , 0.05016239, 0.1273882 , 0.07041871,\n",
       "        0.921915  , 0.77925174, 0.89487172, 0.09340039],\n",
       "       [0.89365062, 0.85059677, 0.86669552, 0.80715434, 0.84220912,\n",
       "        0.12236626, 0.93344567, 0.85182019, 0.736043  , 0.86307573,\n",
       "        0.05083923, 0.87847746, 0.79182551, 0.91593339]])"
      ]
     },
     "execution_count": 7,
     "metadata": {},
     "output_type": "execute_result"
    }
   ],
   "source": [
    "features[0:5, :]"
   ]
  },
  {
   "cell_type": "markdown",
   "id": "racial-aluminum",
   "metadata": {},
   "source": [
    "We choose `VQC` or Variational Quantum Classifier as a model we will train. This model, by default, takes one-hot encoded labels, so we have to transform the labels that are in the set of `{0, 1}` into one-hot representation. We employ SciKit-Learn for this transformation as well. Please note that the input array must be reshaped to `(num_samples, 1)` first. The `OneHotEncoder` encoder does not work with 1D arrays and our labels is a 1D array. In this case a user must decide either an array has only one feature(our case!) or has one sample. Also, by default the encoder returns sparse arrays, but for dataset plotting it is easier to have dense arrays, so we set `sparse` to `False`. "
   ]
  },
  {
   "cell_type": "code",
   "execution_count": 8,
   "id": "understood-ukraine",
   "metadata": {},
   "outputs": [
    {
     "data": {
      "text/plain": [
       "(128, 2)"
      ]
     },
     "execution_count": 8,
     "metadata": {},
     "output_type": "execute_result"
    }
   ],
   "source": [
    "labels = OneHotEncoder(sparse=False).fit_transform(labels.reshape(-1, 1))\n",
    "labels.shape"
   ]
  },
  {
   "cell_type": "markdown",
   "id": "statewide-symbol",
   "metadata": {},
   "source": [
    "Let's take a look at the labels of the first `5` labels of the dataset. The labels should be one-hot encoded."
   ]
  },
  {
   "cell_type": "code",
   "execution_count": 9,
   "id": "german-agreement",
   "metadata": {},
   "outputs": [
    {
     "data": {
      "text/plain": [
       "array([[1., 0.],\n",
       "       [1., 0.],\n",
       "       [0., 1.],\n",
       "       [0., 1.],\n",
       "       [1., 0.]])"
      ]
     },
     "execution_count": 9,
     "metadata": {},
     "output_type": "execute_result"
    }
   ],
   "source": [
    "labels[0:5, :]"
   ]
  },
  {
   "cell_type": "markdown",
   "id": "aquatic-toner",
   "metadata": {},
   "source": [
    "Now we split our dataset into two parts: a training dataset and a test one. As a rule of thumb, 80% of a full dataset should go into a training part and 20% into a test one. Our training dataset has `30` samples. The test dataset should be used only once, when a model is trained to verify how well the model behaves on unseen data. We employ `train_test_split` from SciKit-Learn."
   ]
  },
  {
   "cell_type": "code",
   "execution_count": 10,
   "id": "about-ordinary",
   "metadata": {},
   "outputs": [
    {
     "data": {
      "text/plain": [
       "(45, 14)"
      ]
     },
     "execution_count": 10,
     "metadata": {},
     "output_type": "execute_result"
    }
   ],
   "source": [
    "train_features, test_features, train_labels, test_labels = train_test_split(\n",
    "    features, labels, train_size=0.8, random_state=algorithm_globals.random_seed\n",
    ")\n",
    "train_features.shape"
   ]
  },
  {
   "cell_type": "markdown",
   "id": "critical-angel",
   "metadata": {},
   "source": [
    "Now it is time to see how our dataset looks like. Let's plot it."
   ]
  },
  {
   "cell_type": "code",
   "execution_count": 11,
   "id": "fifty-scottish",
   "metadata": {},
   "outputs": [
    {
     "data": {
      "image/png": "[encoded data removed]",
      "text/plain": [
       "<Figure size 432x288 with 1 Axes>"
      ]
     },
     "metadata": {
      "needs_background": "light"
     },
     "output_type": "display_data"
    }
   ],
   "source": [
    "def plot_dataset():\n",
    "    plt.scatter(\n",
    "        train_features[np.where(train_labels[:, 0] == 0), 0],\n",
    "        train_features[np.where(train_labels[:, 0] == 0), 1],\n",
    "        marker=\"o\",\n",
    "        color=\"b\",\n",
    "        label=\"Label 0 train\",\n",
    "    )\n",
    "    plt.scatter(\n",
    "        train_features[np.where(train_labels[:, 0] == 1), 0],\n",
    "        train_features[np.where(train_labels[:, 0] == 1), 1],\n",
    "        marker=\"o\",\n",
    "        color=\"g\",\n",
    "        label=\"Label 1 train\",\n",
    "    )\n",
    "\n",
    "    plt.scatter(\n",
    "        test_features[np.where(test_labels[:, 0] == 0), 0],\n",
    "        test_features[np.where(test_labels[:, 0] == 0), 1],\n",
    "        marker=\"o\",\n",
    "        facecolors=\"w\",\n",
    "        edgecolors=\"b\",\n",
    "        label=\"Label 0 test\",\n",
    "    )\n",
    "    plt.scatter(\n",
    "        test_features[np.where(test_labels[:, 0] == 1), 0],\n",
    "        test_features[np.where(test_labels[:, 0] == 1), 1],\n",
    "        marker=\"o\",\n",
    "        facecolors=\"w\",\n",
    "        edgecolors=\"g\",\n",
    "        label=\"Label 1 test\",\n",
    "    )\n",
    "\n",
    "    plt.legend(bbox_to_anchor=(1.05, 1), loc=\"upper left\", borderaxespad=0.0)\n",
    "\n",
    "plot_dataset()\n",
    "plt.show()"
   ]
  },
  {
   "cell_type": "markdown",
   "id": "regulation-depression",
   "metadata": {},
   "source": [
    "On the plot above we see:\n",
    "\n",
    "* Solid <span style=\"color:blue\">blue</span> dots are the samples from the training dataset labeled as `0`\n",
    "* Empty <span style=\"color:blue\">blue</span> dots are the samples from the test dataset labeled as `0`\n",
    "* Solid <span style=\"color:green\">green</span> dots are the samples from the training dataset labeled as `1`\n",
    "* Empty <span style=\"color:green\">green</span> dots are the samples from the test dataset labeled as `1`\n",
    "\n",
    "We'll train our model using solid dots and verify it using empty dots."
   ]
  },
  {
   "cell_type": "markdown",
   "id": "egyptian-campaign",
   "metadata": {},
   "source": [
    "## 2. Train a model and save it\n",
    "\n",
    "We'll train our model in two steps. On the first step we train our model in `20` iterations."
   ]
  },
  {
   "cell_type": "code",
   "execution_count": 12,
   "id": "brief-lending",
   "metadata": {},
   "outputs": [],
   "source": [
    "maxiter = 20"
   ]
  },
  {
   "cell_type": "markdown",
   "id": "crude-franklin",
   "metadata": {},
   "source": [
    "Create an empty array for callback to store values of the objective function."
   ]
  },
  {
   "cell_type": "code",
   "execution_count": 13,
   "id": "integrated-palestinian",
   "metadata": {},
   "outputs": [],
   "source": [
    "objective_values = []"
   ]
  },
  {
   "cell_type": "markdown",
   "id": "legendary-sherman",
   "metadata": {},
   "source": [
    "We re-use a callback function from the Neural Network Classifier & Regressor tutorial to plot iteration versus objective function value with some minor tweaks to plot objective values at each step."
   ]
  },
  {
   "cell_type": "code",
   "execution_count": 14,
   "id": "periodic-apparel",
   "metadata": {},
   "outputs": [],
   "source": [
    "# callback function that draws a live plot when the .fit() method is called\n",
    "def callback_graph(_, objective_value):\n",
    "    clear_output(wait=True)\n",
    "    objective_values.append(objective_value)\n",
    "\n",
    "    plt.title(\"Objective function value against iteration\")\n",
    "    plt.xlabel(\"Iteration\")\n",
    "    plt.ylabel(\"Objective function value\")\n",
    "\n",
    "    stage1_len = np.min((len(objective_values), maxiter))\n",
    "    stage1_x = np.linspace(1, stage1_len, stage1_len)\n",
    "    stage1_y = objective_values[:stage1_len]\n",
    "\n",
    "    stage2_len = np.max((0, len(objective_values) - maxiter))\n",
    "    stage2_x = np.linspace(maxiter, maxiter + stage2_len - 1, stage2_len)\n",
    "    stage2_y = objective_values[maxiter : maxiter + stage2_len]\n",
    "\n",
    "    plt.plot(stage1_x, stage1_y, color=\"orange\")\n",
    "    plt.plot(stage2_x, stage2_y, color=\"purple\")\n",
    "    plt.show()\n",
    "\n",
    "\n",
    "plt.rcParams[\"figure.figsize\"] = (12, 6)"
   ]
  },
  {
   "cell_type": "markdown",
   "id": "institutional-cyprus",
   "metadata": {},
   "source": [
    "As mentioned above we train a `VQC` model and set `COBYLA` as an optimizer with a chosen value of the `maxiter` parameter. Then we evaluate performance of the model to see how well it was trained. Then we save this model for a file. On the second step we load this model and will continue to work with it.\n",
    "\n",
    "Here, we manually construct an ansatz to fix an initial point where to start optimization from."
   ]
  },
  {
   "cell_type": "code",
   "execution_count": 15,
   "id": "electronic-impact",
   "metadata": {},
   "outputs": [],
   "source": [
    "original_optimizer = COBYLA(maxiter=maxiter)\n",
    "\n",
    "num_features = features.shape[1]\n",
    "ansatz = RealAmplitudes(num_features)\n",
    "#initial_point = np.asarray([0.5] * ansatz.num_parameters)"
   ]
  },
  {
   "cell_type": "markdown",
   "id": "separated-classroom",
   "metadata": {},
   "source": [
    "We create a model and set a quantum instance to the QASM simulator we created earlier."
   ]
  },
  {
   "cell_type": "code",
   "execution_count": 16,
   "id": "revolutionary-freeze",
   "metadata": {},
   "outputs": [],
   "source": [
    "\n",
    "original_classifier = VQC(\n",
    "    optimizer=original_optimizer, callback=callback_graph, quantum_instance=qi_qasm,\n",
    "    ansatz = ansatz,\n",
    "    num_qubits = 14)"
   ]
  },
  {
   "cell_type": "code",
   "execution_count": 17,
   "id": "a8666317-80cf-4b88-a8e7-8db7cb6a70dc",
   "metadata": {},
   "outputs": [
    {
     "name": "stdout",
     "output_type": "stream",
     "text": [
      "None\n"
     ]
    }
   ],
   "source": [
    "print(ansatz.initial_state)"
   ]
  },
  {
   "cell_type": "markdown",
   "id": "minute-mexican",
   "metadata": {},
   "source": [
    "Now it is time to train the model."
   ]
  },
  {
   "cell_type": "code",
   "execution_count": 18,
   "id": "suited-appointment",
   "metadata": {},
   "outputs": [
    {
     "data": {
      "image/png": "[encoded data removed]",
      "text/plain": [
       "<Figure size 864x432 with 1 Axes>"
      ]
     },
     "metadata": {
      "needs_background": "light"
     },
     "output_type": "display_data"
    },
    {
     "data": {
      "text/plain": [
       "<qiskit_machine_learning.algorithms.classifiers.vqc.VQC at 0x7faf563cb640>"
      ]
     },
     "execution_count": 18,
     "metadata": {},
     "output_type": "execute_result"
    }
   ],
   "source": [
    "original_classifier.fit(train_features, train_labels)"
   ]
  },
  {
   "cell_type": "markdown",
   "id": "revised-torture",
   "metadata": {},
   "source": [
    "Let's see how well our model performs after the first step of training."
   ]
  },
  {
   "cell_type": "code",
   "execution_count": 19,
   "id": "greek-memphis",
   "metadata": {},
   "outputs": [
    {
     "name": "stdout",
     "output_type": "stream",
     "text": [
      "Train score 0.5777777777777777\n",
      "Test score  0.4457831325301205\n"
     ]
    }
   ],
   "source": [
    "print(\"Train score\", original_classifier.score(train_features, train_labels))\n",
    "print(\"Test score \", original_classifier.score(test_features, test_labels))"
   ]
  },
  {
   "cell_type": "markdown",
   "id": "rental-moses",
   "metadata": {},
   "source": [
    "Next, we save the model. You may choose any file name you want. Please note that the `save` method does not append an extension if it is not specified in the file name."
   ]
  },
  {
   "cell_type": "code",
   "execution_count": 20,
   "id": "broadband-interview",
   "metadata": {},
   "outputs": [],
   "source": [
    "original_classifier.save(\"vqc_classifier.model\")"
   ]
  },
  {
   "cell_type": "markdown",
   "id": "sitting-thread",
   "metadata": {},
   "source": [
    "## 3. Load a model and continue training\n",
    "\n",
    "To load a model a user have to call a class method `load` of the corresponding model class. In our case it is `VQC`. We pass the same file name we used in the previous section where we saved our model."
   ]
  },
  {
   "cell_type": "code",
   "execution_count": 21,
   "id": "steady-europe",
   "metadata": {},
   "outputs": [],
   "source": [
    "loaded_classifier = VQC.load(\"vqc_classifier.model\")"
   ]
  },
  {
   "cell_type": "markdown",
   "id": "reverse-shaft",
   "metadata": {},
   "source": [
    "Next, we want to alter the model in a way it can be trained further and on another simulator. To do so, we set the `warm_start` property. When it is set to `True` and `fit()` is called again the model uses weights from previous fit to start a new fit. We also set quantum instance of the underlying network to the statevector simulator we created in the beginning of the tutorial. Finally, we create and set a new optimizer with `maxiter` is set to `80`, so the total number of iterations is `100`."
   ]
  },
  {
   "cell_type": "code",
   "execution_count": 22,
   "id": "accessible-cowboy",
   "metadata": {},
   "outputs": [],
   "source": [
    "loaded_classifier.warm_start = True\n",
    "loaded_classifier.neural_network.quantum_instance = qi_sv\n",
    "loaded_classifier.optimizer = COBYLA(maxiter=80)"
   ]
  },
  {
   "cell_type": "markdown",
   "id": "revised-bruce",
   "metadata": {},
   "source": [
    "Now we continue training our model from the state we finished in the previous section."
   ]
  },
  {
   "cell_type": "code",
   "execution_count": 23,
   "id": "metric-cyprus",
   "metadata": {
    "nbsphinx-thumbnail": {
     "output-index": 0
    }
   },
   "outputs": [
    {
     "data": {
      "image/png": "[encoded data removed]",
      "text/plain": [
       "<Figure size 864x432 with 1 Axes>"
      ]
     },
     "metadata": {
      "needs_background": "light"
     },
     "output_type": "display_data"
    },
    {
     "data": {
      "text/plain": [
       "<qiskit_machine_learning.algorithms.classifiers.vqc.VQC at 0x7faf5149ebe0>"
      ]
     },
     "execution_count": 23,
     "metadata": {},
     "output_type": "execute_result"
    }
   ],
   "source": [
    "loaded_classifier.fit(train_features, train_labels)"
   ]
  },
  {
   "cell_type": "code",
   "execution_count": 24,
   "id": "bronze-spread",
   "metadata": {},
   "outputs": [
    {
     "name": "stdout",
     "output_type": "stream",
     "text": [
      "Train score 0.5777777777777777\n",
      "Test score 0.4457831325301205\n"
     ]
    }
   ],
   "source": [
    "print(\"Train score\", loaded_classifier.score(train_features, train_labels))\n",
    "print(\"Test score\", loaded_classifier.score(test_features, test_labels))"
   ]
  },
  {
   "cell_type": "markdown",
   "id": "apparent-bloom",
   "metadata": {},
   "source": [
    "Let's see which data points were misclassified. First, we call `predict` to infer predicted values from the training and test features."
   ]
  },
  {
   "cell_type": "code",
   "execution_count": 25,
   "id": "catholic-norway",
   "metadata": {},
   "outputs": [],
   "source": [
    "train_predicts = loaded_classifier.predict(train_features)\n",
    "test_predicts = loaded_classifier.predict(test_features)"
   ]
  },
  {
   "cell_type": "markdown",
   "id": "guided-croatia",
   "metadata": {},
   "source": [
    "Plot the whole dataset and the highlight the points that were classified incorrectly."
   ]
  },
  {
   "cell_type": "code",
   "execution_count": 26,
   "id": "tested-handling",
   "metadata": {},
   "outputs": [
    {
     "data": {
      "text/plain": [
       "<matplotlib.collections.PathCollection at 0x7fafcf9d1c70>"
      ]
     },
     "execution_count": 26,
     "metadata": {},
     "output_type": "execute_result"
    },
    {
     "data": {
      "image/png": "[encoded data removed]",
      "text/plain": [
       "<Figure size 432x288 with 1 Axes>"
      ]
     },
     "metadata": {
      "needs_background": "light"
     },
     "output_type": "display_data"
    }
   ],
   "source": [
    "# return plot to default figsize\n",
    "plt.rcParams[\"figure.figsize\"] = (6, 4)\n",
    "\n",
    "plot_dataset()\n",
    "\n",
    "# plot misclassified data points\n",
    "plt.scatter(\n",
    "    train_features[np.all(train_labels != train_predicts, axis=1), 0],\n",
    "    train_features[np.all(train_labels != train_predicts, axis=1), 1],\n",
    "    s=200,\n",
    "    facecolors=\"none\",\n",
    "    edgecolors=\"r\",\n",
    "    linewidths=2,\n",
    ")\n",
    "plt.scatter(\n",
    "    test_features[np.all(test_labels != test_predicts, axis=1), 0],\n",
    "    test_features[np.all(test_labels != test_predicts, axis=1), 1],\n",
    "    s=200,\n",
    "    facecolors=\"none\",\n",
    "    edgecolors=\"r\",\n",
    "    linewidths=2,\n",
    ")"
   ]
  },
  {
   "cell_type": "markdown",
   "id": "genuine-preference",
   "metadata": {},
   "source": [
    "So, if you have a large dataset or a large model you can train it in multiple steps as shown in this tutorial."
   ]
  },
  {
   "cell_type": "markdown",
   "id": "acknowledged-freight",
   "metadata": {},
   "source": [
    "## 4. PyTorch hybrid models\n",
    "\n",
    "To save and load hybrid models, when using the TorchConnector, follow the PyTorch recommendations of saving and loading the models. For more details please refer to the PyTorch Connector tutorial [here](https://qiskit.org/documentation/machine-learning/tutorials/05_torch_connector.html) where a short snippet shows how to do it.\n",
    "\n",
    "Take a look at this pseudo-like code to get the idea:\n",
    "```python\n",
    "# create a QNN and a hybrid model\n",
    "qnn = create_qnn()\n",
    "model = Net(qnn)\n",
    "# ... train the model ...\n",
    "\n",
    "# save the model\n",
    "torch.save(model.state_dict(), \"model.pt\")\n",
    "\n",
    "# create a new model\n",
    "new_qnn = create_qnn()\n",
    "loaded_model = Net(new_qnn)\n",
    "loaded_model.load_state_dict(torch.load(\"model.pt\"))\n",
    "```"
   ]
  },
  {
   "cell_type": "code",
   "execution_count": 27,
   "id": "persistent-combine",
   "metadata": {},
   "outputs": [
    {
     "data": {
      "text/html": [
       "<h3>Version Information</h3><table><tr><th>Qiskit Software</th><th>Version</th></tr><tr><td><code>qiskit-terra</code></td><td>0.22.2</td></tr><tr><td><code>qiskit-aer</code></td><td>0.11.1</td></tr><tr><td><code>qiskit-ibmq-provider</code></td><td>0.19.2</td></tr><tr><td><code>qiskit</code></td><td>0.39.2</td></tr><tr><td><code>qiskit-nature</code></td><td>0.4.2</td></tr><tr><td><code>qiskit-finance</code></td><td>0.3.3</td></tr><tr><td><code>qiskit-optimization</code></td><td>0.4.0</td></tr><tr><td><code>qiskit-machine-learning</code></td><td>0.4.0</td></tr><tr><th>System information</th></tr><tr><td>Python version</td><td>3.8.13</td></tr><tr><td>Python compiler</td><td>GCC 10.3.0</td></tr><tr><td>Python build</td><td>default, Mar 25 2022 06:04:10</td></tr><tr><td>OS</td><td>Linux</td></tr><tr><td>CPUs</td><td>8</td></tr><tr><td>Memory (Gb)</td><td>31.211326599121094</td></tr><tr><td colspan='2'>Wed Nov 09 15:18:31 2022 UTC</td></tr></table>"
      ],
      "text/plain": [
       "<IPython.core.display.HTML object>"
      ]
     },
     "metadata": {},
     "output_type": "display_data"
    },
    {
     "data": {
      "text/html": [
       "<div style='width: 100%; background-color:#d5d9e0;padding-left: 10px; padding-bottom: 10px; padding-right: 10px; padding-top: 5px'><h3>This code is a part of Qiskit</h3><p>&copy; Copyright IBM 2017, 2022.</p><p>This code is licensed under the Apache License, Version 2.0. You may<br>obtain a copy of this license in the LICENSE.txt file in the root directory<br> of this source tree or at http://www.apache.org/licenses/LICENSE-2.0.<p>Any modifications or derivative works of this code must retain this<br>copyright notice, and modified files need to carry a notice indicating<br>that they have been altered from the originals.</p></div>"
      ],
      "text/plain": [
       "<IPython.core.display.HTML object>"
      ]
     },
     "metadata": {},
     "output_type": "display_data"
    }
   ],
   "source": [
    "import qiskit.tools.jupyter\n",
    "\n",
    "%qiskit_version_table\n",
    "%qiskit_copyright"
   ]
  },
  {
   "cell_type": "code",
   "execution_count": null,
   "id": "425ae124-2790-4068-a2ee-a0d5bfc15482",
   "metadata": {},
   "outputs": [],
   "source": []
  },
  {
   "cell_type": "code",
   "execution_count": null,
   "id": "54ac1d79-42ad-489e-9a06-c7ac73645a25",
   "metadata": {},
   "outputs": [],
   "source": []
  }
 ],
 "metadata": {
  "celltoolbar": "Tags",
  "kernelspec": {
   "display_name": "Python 3 (ipykernel)",
   "language": "python",
   "name": "python3"
  },
  "language_info": {
   "codemirror_mode": {
    "name": "ipython",
    "version": 3
   },
   "file_extension": ".py",
   "mimetype": "text/x-python",
   "name": "python",
   "nbconvert_exporter": "python",
   "pygments_lexer": "ipython3",
   "version": "3.8.13"
  },
  "widgets": {
   "application/vnd.jupyter.widget-state+json": {
    "state": {},
    "version_major": 2,
    "version_minor": 0
   }
  }
 },
 "nbformat": 4,
 "nbformat_minor": 5
}
