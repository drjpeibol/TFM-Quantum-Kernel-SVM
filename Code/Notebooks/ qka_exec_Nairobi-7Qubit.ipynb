{
 "cells": [
  {
   "cell_type": "markdown",
   "metadata": {
    "id": "uyaoDpvQm3-7",
    "tags": []
   },
   "source": [
    "# Load your IBM Quantum account and get the quantum backend\n",
    "\n",
    "We'll be using the 27-qubit device `ibmq_nairobi` for this tutorial."
   ]
  },
  {
   "cell_type": "code",
   "execution_count": 6,
   "metadata": {},
   "outputs": [
    {
     "name": "stdout",
     "output_type": "stream",
     "text": [
      "No se clonará el repositorio debido a que ya existe en el sistema\n"
     ]
    }
   ],
   "source": [
    "import os\n",
    "path = 'qiskit-runtime'\n",
    "  # Check whether the specified\n",
    "# path exists or not\n",
    "Exist = os.path.exists(path)\n",
    "\n",
    "#Si no existe el path clonaremos el repositorio en ese path, si ya existe no haremos nada.\n",
    "if Exist == False: \n",
    "    print('Clonando Repositorio...')\n",
    "    !git clone https://github.com/Qiskit-Partners/qiskit-runtime.git\n",
    "    \n",
    "else: \n",
    "    print('No se clonará el repositorio debido a que ya existe en el sistema')"
   ]
  },
  {
   "cell_type": "code",
   "execution_count": 7,
   "metadata": {
    "id": "hyQtkRzvm3-8"
   },
   "outputs": [],
   "source": [
    "import sys\n",
    "sys.path.insert(0, 'qiskit-runtime') # Path al repositorio de RUNTIME desde IBM Quantum Lab"
   ]
  },
  {
   "cell_type": "markdown",
   "metadata": {
    "id": "5usaKTRWm3-9"
   },
   "source": [
    "# Invoke the Quantum Kernel Alignment program\n",
    "\n",
    "Before executing the runtime program for QKA, we need to prepare the dataset and configure the input parameters for the algorithm.\n",
    "\n",
    "### 1. Prepare the dataset\n",
    "\n",
    "First, we load the dataset from the `csv` file and then extract the labeled training and test samples. Here, we'll look at the 7-qubit problem, shown above in subfigure a). A second dataset is also available for the 10-qubit problem in b)."
   ]
  },
  {
   "cell_type": "code",
   "execution_count": 8,
   "metadata": {
    "id": "LhDGm_x8m3--"
   },
   "outputs": [],
   "source": [
    "# Libraries needed for the tutorial\n",
    "\n",
    "import pandas as pd\n",
    "import requests\n",
    "import matplotlib.pyplot as plt\n",
    "\n",
    "import io\n",
    "    \n",
    "# Downloading the csv file from your GitHub account\n",
    "\n",
    "url = \"https://raw.githubusercontent.com/Qiskit-Partners/qiskit-runtime/main/qiskit_runtime/qka/aux_file/dataset_graph7.csv\" # Make sure the url is the raw version of the file on GitHub\n",
    "\n",
    "# Reading the downloaded content and turning it into a pandas dataframe\n",
    "\n",
    "df = pd.read_csv(url,header= None)\n",
    "\n",
    "#columns = [0, 1, 2, 3, 4, 5, 6, 7, 8, 9,14]\n",
    "\n",
    "#df = df[columns]\n",
    "\n",
    "data = df.values"
   ]
  },
  {
   "cell_type": "markdown",
   "metadata": {
    "id": "HmC4mlORm3--"
   },
   "source": [
    "Let's take a look at the data to see how it's formatted. Each row of the dataset contains a list of Euler angles, followed by the class label $\\pm1$ in the last column. For an $n$-qubit problem, there are $2n$ features corresponding to the first two Euler angles for each qubit (recall discussion above). The rows alternate between class labels."
   ]
  },
  {
   "cell_type": "code",
   "execution_count": 9,
   "metadata": {},
   "outputs": [
    {
     "data": {
      "text/html": [
       "<div>\n",
       "<style scoped>\n",
       "    .dataframe tbody tr th:only-of-type {\n",
       "        vertical-align: middle;\n",
       "    }\n",
       "\n",
       "    .dataframe tbody tr th {\n",
       "        vertical-align: top;\n",
       "    }\n",
       "\n",
       "    .dataframe thead th {\n",
       "        text-align: right;\n",
       "    }\n",
       "</style>\n",
       "<table border=\"1\" class=\"dataframe\">\n",
       "  <thead>\n",
       "    <tr style=\"text-align: right;\">\n",
       "      <th></th>\n",
       "      <th>0</th>\n",
       "      <th>1</th>\n",
       "      <th>2</th>\n",
       "      <th>3</th>\n",
       "      <th>4</th>\n",
       "      <th>5</th>\n",
       "      <th>6</th>\n",
       "      <th>7</th>\n",
       "      <th>8</th>\n",
       "      <th>9</th>\n",
       "      <th>10</th>\n",
       "      <th>11</th>\n",
       "      <th>12</th>\n",
       "      <th>13</th>\n",
       "      <th>14</th>\n",
       "    </tr>\n",
       "  </thead>\n",
       "  <tbody>\n",
       "    <tr>\n",
       "      <th>0</th>\n",
       "      <td>-0.193574</td>\n",
       "      <td>0.113979</td>\n",
       "      <td>-0.005927</td>\n",
       "      <td>0.300957</td>\n",
       "      <td>-0.358603</td>\n",
       "      <td>-0.087866</td>\n",
       "      <td>-0.156226</td>\n",
       "      <td>0.342442</td>\n",
       "      <td>-0.016003</td>\n",
       "      <td>0.143113</td>\n",
       "      <td>0.256422</td>\n",
       "      <td>-0.164125</td>\n",
       "      <td>-0.136743</td>\n",
       "      <td>0.014674</td>\n",
       "      <td>1.0</td>\n",
       "    </tr>\n",
       "    <tr>\n",
       "      <th>1</th>\n",
       "      <td>-0.100006</td>\n",
       "      <td>0.002431</td>\n",
       "      <td>0.244218</td>\n",
       "      <td>0.126870</td>\n",
       "      <td>-0.063891</td>\n",
       "      <td>-0.085588</td>\n",
       "      <td>0.072490</td>\n",
       "      <td>0.042986</td>\n",
       "      <td>-0.052714</td>\n",
       "      <td>0.019754</td>\n",
       "      <td>-0.159314</td>\n",
       "      <td>-0.409991</td>\n",
       "      <td>-0.199615</td>\n",
       "      <td>0.053845</td>\n",
       "      <td>-1.0</td>\n",
       "    </tr>\n",
       "    <tr>\n",
       "      <th>2</th>\n",
       "      <td>-1.774448</td>\n",
       "      <td>-0.047642</td>\n",
       "      <td>-0.025880</td>\n",
       "      <td>0.252708</td>\n",
       "      <td>-0.350689</td>\n",
       "      <td>-1.604509</td>\n",
       "      <td>-0.114874</td>\n",
       "      <td>0.347631</td>\n",
       "      <td>0.059501</td>\n",
       "      <td>-0.168956</td>\n",
       "      <td>0.351014</td>\n",
       "      <td>-0.128586</td>\n",
       "      <td>0.098897</td>\n",
       "      <td>-0.047799</td>\n",
       "      <td>1.0</td>\n",
       "    </tr>\n",
       "    <tr>\n",
       "      <th>3</th>\n",
       "      <td>-0.211585</td>\n",
       "      <td>-0.043782</td>\n",
       "      <td>-1.560226</td>\n",
       "      <td>0.018510</td>\n",
       "      <td>-0.051867</td>\n",
       "      <td>-0.128508</td>\n",
       "      <td>0.218609</td>\n",
       "      <td>-0.075632</td>\n",
       "      <td>-0.183656</td>\n",
       "      <td>-1.715292</td>\n",
       "      <td>-0.105361</td>\n",
       "      <td>-0.300758</td>\n",
       "      <td>-0.566431</td>\n",
       "      <td>0.046542</td>\n",
       "      <td>-1.0</td>\n",
       "    </tr>\n",
       "    <tr>\n",
       "      <th>4</th>\n",
       "      <td>-0.105965</td>\n",
       "      <td>0.208387</td>\n",
       "      <td>-0.003896</td>\n",
       "      <td>0.163816</td>\n",
       "      <td>-0.332541</td>\n",
       "      <td>-1.594675</td>\n",
       "      <td>-1.889321</td>\n",
       "      <td>-0.251937</td>\n",
       "      <td>0.374445</td>\n",
       "      <td>-1.431062</td>\n",
       "      <td>0.290588</td>\n",
       "      <td>0.118851</td>\n",
       "      <td>0.048799</td>\n",
       "      <td>-0.073023</td>\n",
       "      <td>1.0</td>\n",
       "    </tr>\n",
       "    <tr>\n",
       "      <th>...</th>\n",
       "      <td>...</td>\n",
       "      <td>...</td>\n",
       "      <td>...</td>\n",
       "      <td>...</td>\n",
       "      <td>...</td>\n",
       "      <td>...</td>\n",
       "      <td>...</td>\n",
       "      <td>...</td>\n",
       "      <td>...</td>\n",
       "      <td>...</td>\n",
       "      <td>...</td>\n",
       "      <td>...</td>\n",
       "      <td>...</td>\n",
       "      <td>...</td>\n",
       "      <td>...</td>\n",
       "    </tr>\n",
       "    <tr>\n",
       "      <th>123</th>\n",
       "      <td>-1.860920</td>\n",
       "      <td>-0.030419</td>\n",
       "      <td>-1.688612</td>\n",
       "      <td>0.007305</td>\n",
       "      <td>0.066572</td>\n",
       "      <td>-1.711844</td>\n",
       "      <td>-1.393033</td>\n",
       "      <td>-0.083453</td>\n",
       "      <td>0.055720</td>\n",
       "      <td>-1.518301</td>\n",
       "      <td>-1.576734</td>\n",
       "      <td>0.208194</td>\n",
       "      <td>-1.813403</td>\n",
       "      <td>-0.106302</td>\n",
       "      <td>-1.0</td>\n",
       "    </tr>\n",
       "    <tr>\n",
       "      <th>124</th>\n",
       "      <td>-0.316567</td>\n",
       "      <td>-1.599647</td>\n",
       "      <td>0.113329</td>\n",
       "      <td>-1.413006</td>\n",
       "      <td>-1.761544</td>\n",
       "      <td>-0.044818</td>\n",
       "      <td>-1.810205</td>\n",
       "      <td>-0.289997</td>\n",
       "      <td>-1.566337</td>\n",
       "      <td>-0.277979</td>\n",
       "      <td>-1.298275</td>\n",
       "      <td>-1.490769</td>\n",
       "      <td>-1.663696</td>\n",
       "      <td>-1.562536</td>\n",
       "      <td>1.0</td>\n",
       "    </tr>\n",
       "    <tr>\n",
       "      <th>125</th>\n",
       "      <td>-1.489406</td>\n",
       "      <td>-1.564369</td>\n",
       "      <td>-0.012539</td>\n",
       "      <td>0.023483</td>\n",
       "      <td>-1.559397</td>\n",
       "      <td>-1.477378</td>\n",
       "      <td>-1.423428</td>\n",
       "      <td>-1.385349</td>\n",
       "      <td>-0.111253</td>\n",
       "      <td>0.088187</td>\n",
       "      <td>-1.501800</td>\n",
       "      <td>-1.270020</td>\n",
       "      <td>-1.645927</td>\n",
       "      <td>-0.106986</td>\n",
       "      <td>-1.0</td>\n",
       "    </tr>\n",
       "    <tr>\n",
       "      <th>126</th>\n",
       "      <td>-1.744036</td>\n",
       "      <td>-1.852529</td>\n",
       "      <td>-0.048826</td>\n",
       "      <td>-1.300941</td>\n",
       "      <td>-1.853251</td>\n",
       "      <td>-1.660622</td>\n",
       "      <td>-1.767232</td>\n",
       "      <td>-0.162640</td>\n",
       "      <td>-1.314748</td>\n",
       "      <td>-0.055515</td>\n",
       "      <td>-1.308294</td>\n",
       "      <td>-1.485198</td>\n",
       "      <td>-1.535383</td>\n",
       "      <td>-1.519175</td>\n",
       "      <td>1.0</td>\n",
       "    </tr>\n",
       "    <tr>\n",
       "      <th>127</th>\n",
       "      <td>-1.722786</td>\n",
       "      <td>-1.501960</td>\n",
       "      <td>-1.365953</td>\n",
       "      <td>-0.079926</td>\n",
       "      <td>-1.527680</td>\n",
       "      <td>-1.344128</td>\n",
       "      <td>-1.358803</td>\n",
       "      <td>-1.409152</td>\n",
       "      <td>-0.308980</td>\n",
       "      <td>-1.561450</td>\n",
       "      <td>-1.702210</td>\n",
       "      <td>-1.354104</td>\n",
       "      <td>-1.798914</td>\n",
       "      <td>-0.375672</td>\n",
       "      <td>-1.0</td>\n",
       "    </tr>\n",
       "  </tbody>\n",
       "</table>\n",
       "<p>128 rows × 15 columns</p>\n",
       "</div>"
      ],
      "text/plain": [
       "           0         1         2         3         4         5         6   \\\n",
       "0   -0.193574  0.113979 -0.005927  0.300957 -0.358603 -0.087866 -0.156226   \n",
       "1   -0.100006  0.002431  0.244218  0.126870 -0.063891 -0.085588  0.072490   \n",
       "2   -1.774448 -0.047642 -0.025880  0.252708 -0.350689 -1.604509 -0.114874   \n",
       "3   -0.211585 -0.043782 -1.560226  0.018510 -0.051867 -0.128508  0.218609   \n",
       "4   -0.105965  0.208387 -0.003896  0.163816 -0.332541 -1.594675 -1.889321   \n",
       "..        ...       ...       ...       ...       ...       ...       ...   \n",
       "123 -1.860920 -0.030419 -1.688612  0.007305  0.066572 -1.711844 -1.393033   \n",
       "124 -0.316567 -1.599647  0.113329 -1.413006 -1.761544 -0.044818 -1.810205   \n",
       "125 -1.489406 -1.564369 -0.012539  0.023483 -1.559397 -1.477378 -1.423428   \n",
       "126 -1.744036 -1.852529 -0.048826 -1.300941 -1.853251 -1.660622 -1.767232   \n",
       "127 -1.722786 -1.501960 -1.365953 -0.079926 -1.527680 -1.344128 -1.358803   \n",
       "\n",
       "           7         8         9         10        11        12        13   14  \n",
       "0    0.342442 -0.016003  0.143113  0.256422 -0.164125 -0.136743  0.014674  1.0  \n",
       "1    0.042986 -0.052714  0.019754 -0.159314 -0.409991 -0.199615  0.053845 -1.0  \n",
       "2    0.347631  0.059501 -0.168956  0.351014 -0.128586  0.098897 -0.047799  1.0  \n",
       "3   -0.075632 -0.183656 -1.715292 -0.105361 -0.300758 -0.566431  0.046542 -1.0  \n",
       "4   -0.251937  0.374445 -1.431062  0.290588  0.118851  0.048799 -0.073023  1.0  \n",
       "..        ...       ...       ...       ...       ...       ...       ...  ...  \n",
       "123 -0.083453  0.055720 -1.518301 -1.576734  0.208194 -1.813403 -0.106302 -1.0  \n",
       "124 -0.289997 -1.566337 -0.277979 -1.298275 -1.490769 -1.663696 -1.562536  1.0  \n",
       "125 -1.385349 -0.111253  0.088187 -1.501800 -1.270020 -1.645927 -0.106986 -1.0  \n",
       "126 -0.162640 -1.314748 -0.055515 -1.308294 -1.485198 -1.535383 -1.519175  1.0  \n",
       "127 -1.409152 -0.308980 -1.561450 -1.702210 -1.354104 -1.798914 -0.375672 -1.0  \n",
       "\n",
       "[128 rows x 15 columns]"
      ]
     },
     "execution_count": 9,
     "metadata": {},
     "output_type": "execute_result"
    }
   ],
   "source": [
    "df"
   ]
  },
  {
   "cell_type": "code",
   "execution_count": 10,
   "metadata": {},
   "outputs": [
    {
     "data": {
      "text/plain": [
       "<matplotlib.legend.Legend at 0x7f1496c92b80>"
      ]
     },
     "execution_count": 10,
     "metadata": {},
     "output_type": "execute_result"
    },
    {
     "data": {
      "image/png": "[encoded data removed]",
      "text/plain": [
       "<Figure size 1296x360 with 2 Axes>"
      ]
     },
     "metadata": {
      "needs_background": "light"
     },
     "output_type": "display_data"
    }
   ],
   "source": [
    "#Pintamos nuestros datos de training por Costet C+ o C-\n",
    "fig, ax = plt.subplots(nrows=1, ncols=2, figsize=(18, 5))\n",
    "\n",
    "ax[0].set_title('Qubit 0')\n",
    "ax[0].scatter(df[0],df[1], c = df[14])\n",
    "legend0 = ax[0].legend(*ax[0].scatter(df[0],df[1], c = df[14]).legend_elements(),\n",
    "                    loc=\"upper left\", title=\"Costet (-1 = C-, 1 = C+)\")\n",
    "ax[0].add_artist(legend0)\n",
    "\n",
    "ax[1].set_title('Qubit 1')\n",
    "ax[1].scatter(df[2],df[3], c = df[14])\n",
    "legend1 = ax[1].legend(*ax[1].scatter(df[2],df[3], c = df[14]).legend_elements(),\n",
    "                    loc=\"upper right\", title=\"Costet (-1 = C-, 1 = C+)\")\n",
    "ax[1].add_artist(legend1)"
   ]
  },
  {
   "cell_type": "markdown",
   "metadata": {
    "id": "Y6bBITPLm3_A"
   },
   "source": [
    "Now, let's explicitly construct the training and test samples (denoted `x`) and their labels (denoted `y`)."
   ]
  },
  {
   "cell_type": "code",
   "execution_count": 11,
   "metadata": {
    "id": "PO5vK_fnm3_A"
   },
   "outputs": [],
   "source": [
    "import numpy as np\n",
    "\n",
    "# choose number of training and test samples per class:\n",
    "num_train = 5\n",
    "num_test = 5\n",
    "\n",
    "# extract training and test sets and sort them by class label\n",
    "train = data[:2*num_train, :]\n",
    "test = data[2*num_train:2*(num_train+num_test), :]\n",
    "\n",
    "ind=np.argsort(train[:,-1])\n",
    "x_train = train[ind][:,:-1]\n",
    "y_train = train[ind][:,-1]\n",
    "\n",
    "ind=np.argsort(test[:,-1])\n",
    "x_test = test[ind][:,:-1]\n",
    "y_test = test[ind][:,-1]\n"
   ]
  },
  {
   "cell_type": "markdown",
   "metadata": {
    "id": "NanBf92km3_A"
   },
   "source": [
    "### 2. Configure the QKA algorithm\n",
    "\n",
    "The first task is to set up the feature map and its entangler map, which specifies the arrangement of $CZ$ gates in the fiducial state. We will choose this to match the connectivity of the problem subgraph, pictured above. We also initialize the fiducial state parameter $\\lambda$ with `initial_point`."
   ]
  },
  {
   "cell_type": "code",
   "execution_count": 14,
   "metadata": {},
   "outputs": [
    {
     "name": "stderr",
     "output_type": "stream",
     "text": [
      "<frozen importlib._bootstrap>:219: RuntimeWarning: scipy._lib.messagestream.MessageStream size changed, may indicate binary incompatibility. Expected 56 from C header, got 64 from PyObject\n"
     ]
    }
   ],
   "source": [
    "import numpy as np\n",
    "import numpy.matlib as matl\n",
    "import matplotlib.pyplot as plt\n",
    "from sklearn.svm import SVC\n",
    "from matplotlib.colors import ListedColormap\n",
    "from IPython.display import display\n",
    "\n",
    "import pandas as pd\n",
    "import sklearn.preprocessing as skpp\n",
    "\n",
    "from sklearn.model_selection import GridSearchCV\n",
    "from sklearn.model_selection import train_test_split\n",
    "from sklearn.model_selection import cross_val_score\n",
    "from sklearn import cluster, datasets, mixture\n",
    "\n",
    "\n",
    "\n",
    "np.random.seed(19)"
   ]
  },
  {
   "cell_type": "code",
   "execution_count": 15,
   "metadata": {},
   "outputs": [
    {
     "name": "stdout",
     "output_type": "stream",
     "text": [
      "Training time: 2.419874906539917s\n",
      "Best model:\n",
      "{'C': 1.0, 'break_ties': False, 'cache_size': 200, 'class_weight': None, 'coef0': 1.0, 'decision_function_shape': 'ovr', 'degree': 4, 'gamma': 1.0, 'kernel': 'poly', 'max_iter': -1, 'probability': True, 'random_state': None, 'shrinking': True, 'tol': 0.001, 'verbose': False}\n",
      "Score in training set = 1.000000\n",
      "Score in test set = 0.700000\n"
     ]
    }
   ],
   "source": [
    "import time\n",
    "\n",
    "grid = [{'C': [0.1,1.0,10],\n",
    "         'gamma': ['auto',1.0,0.1], \n",
    "         'kernel': ['rbf','poly'],\n",
    "         'degree': [1,2,3,4,5],\n",
    "         'coef0':[1.0]}]\n",
    "\n",
    "clf_gridsearch = GridSearchCV(estimator=SVC(probability=True), param_grid=grid, cv=5)\n",
    "start = time.time()\n",
    "clf_gridsearch.fit(x_train, y_train) \n",
    "stop = time.time()\n",
    "print(f\"Training time: {stop - start}s\") \n",
    "\n",
    "# Imprimimos los resultados para el mejor clasificador:\n",
    "clf = clf_gridsearch.best_estimator_\n",
    "print(\"Best model:\")\n",
    "print(clf.get_params())\n",
    "\n",
    "# Calculamos el acierto en los conjuntos de entrenamiento y test:\n",
    "score_train = clf.score(x_train, y_train)\n",
    "print(\"Score in training set = %f\" % (score_train))\n",
    "\n",
    "score_test = clf.score(x_test, y_test)\n",
    "print(\"Score in test set = %f\" % (score_test))"
   ]
  },
  {
   "cell_type": "code",
   "execution_count": 16,
   "metadata": {
    "colab": {
     "base_uri": "https://localhost:8080/",
     "height": 368
    },
    "id": "nuuOQW3hm3_B",
    "outputId": "1b7e862d-a781-41f1-8831-003fc5d67537"
   },
   "outputs": [],
   "source": [
    "from qiskit_runtime.qka import FeatureMap\n",
    "\n",
    "d = np.shape(data)[1]-1                                         # feature dimension is twice the qubit number\n",
    "\n",
    "em = [[0, 1],\n",
    "    [1, 2],\n",
    "    [1, 3],\n",
    "    [3, 5],\n",
    "    [4, 5],\n",
    "    [5, 6],\n",
    "] # we'll match this to the 7-qubit graph              \n",
    "# em = [[0,1],[2,3],[4,5],[6,7],[8,9],[1,2],[3,4],[5,6],[7,8]]  # we'll match this to the 10-qubit graph\n",
    "\n",
    "fm = FeatureMap(feature_dimension=d, entangler_map=em)          # define the feature map\n",
    "initial_point = [0.1]                                           # set the initial parameter for the feature map"
   ]
  },
  {
   "cell_type": "markdown",
   "metadata": {
    "id": "Sh61Y1MRm3_B"
   },
   "source": [
    "Let's print out the circuit for the feature map (the circuit for the kernel will be a feature map for one data sample composed with an inverse feature map for a second sample). The first part of the feature map is the fiducial state, which is prepared with a layer of $y$ rotations followed by $CZ$s. Then, the last two layers of $z$ and $x$ rotations in the circuit denote the group representation $D(\\theta)$ for a data sample $\\theta$. Note that a single-qubit rotation is defined as $RP(\\phi) = \\exp(- i [\\phi/2] P)$ for $P \\in {X, Y, Z}$."
   ]
  },
  {
   "cell_type": "code",
   "execution_count": 17,
   "metadata": {
    "id": "oQjR_870m3_B",
    "outputId": "9952dfdc-3654-4b18-a0fa-26ee8a827d68"
   },
   "outputs": [
    {
     "data": {
      "text/html": [
       "<pre style=\"word-wrap: normal;white-space: pre;background: #fff0;line-height: 1.1;font-family: &quot;Courier New&quot;,Courier,monospace\">     ┌──────────┐   ┌────────────────┐┌─────────────┐                                                                                 \n",
       "q_0: ┤ Ry(-0.1) ├─■─┤ Rz(-0.0048617) ├┤ Rx(0.20001) ├─────────────────────────────────────────────────────────────────────────────────\n",
       "     ├──────────┤ │ └────────────────┘└─────────────┘┌──────────────┐ ┌──────────────┐                                                \n",
       "q_1: ┤ Ry(-0.1) ├─■─────────■────────────────■───────┤ Rz(-0.25374) ├─┤ Rx(-0.48844) ├────────────────────────────────────────────────\n",
       "     ├──────────┤           │                │       ├─────────────┬┘ ├─────────────┬┘                                                \n",
       "q_2: ┤ Ry(-0.1) ├───────────■────────────────┼───────┤ Rz(0.17118) ├──┤ Rx(0.12778) ├─────────────────────────────────────────────────\n",
       "     ├──────────┤                            │       └─────────────┘ ┌┴─────────────┴┐ ┌──────────────┐                               \n",
       "q_3: ┤ Ry(-0.1) ├────────────────────────────■──────────────■────────┤ Rz(-0.085973) ├─┤ Rx(-0.14498) ├───────────────────────────────\n",
       "     ├──────────┤                                           │        └───────────────┘┌┴──────────────┤┌─────────────┐                \n",
       "q_4: ┤ Ry(-0.1) ├───────────────────────────────────────────┼────────────────■────────┤ Rz(-0.039509) ├┤ Rx(0.10543) ├────────────────\n",
       "     ├──────────┤                                           │                │        └───────────────┘├─────────────┤ ┌─────────────┐\n",
       "q_5: ┤ Ry(-0.1) ├───────────────────────────────────────────■────────────────■────────────────■────────┤ Rz(0.81998) ├─┤ Rx(0.31863) ├\n",
       "     ├──────────┤                                                                             │        ├─────────────┴┐├─────────────┤\n",
       "q_6: ┤ Ry(-0.1) ├─────────────────────────────────────────────────────────────────────────────■────────┤ Rz(-0.10769) ├┤ Rx(0.39923) ├\n",
       "     └──────────┘                                                                                      └──────────────┘└─────────────┘</pre>"
      ],
      "text/plain": [
       "     ┌──────────┐   ┌────────────────┐┌─────────────┐                                                                                 \n",
       "q_0: ┤ Ry(-0.1) ├─■─┤ Rz(-0.0048617) ├┤ Rx(0.20001) ├─────────────────────────────────────────────────────────────────────────────────\n",
       "     ├──────────┤ │ └────────────────┘└─────────────┘┌──────────────┐ ┌──────────────┐                                                \n",
       "q_1: ┤ Ry(-0.1) ├─■─────────■────────────────■───────┤ Rz(-0.25374) ├─┤ Rx(-0.48844) ├────────────────────────────────────────────────\n",
       "     ├──────────┤           │                │       ├─────────────┬┘ ├─────────────┬┘                                                \n",
       "q_2: ┤ Ry(-0.1) ├───────────■────────────────┼───────┤ Rz(0.17118) ├──┤ Rx(0.12778) ├─────────────────────────────────────────────────\n",
       "     ├──────────┤                            │       └─────────────┘ ┌┴─────────────┴┐ ┌──────────────┐                               \n",
       "q_3: ┤ Ry(-0.1) ├────────────────────────────■──────────────■────────┤ Rz(-0.085973) ├─┤ Rx(-0.14498) ├───────────────────────────────\n",
       "     ├──────────┤                                           │        └───────────────┘┌┴──────────────┤┌─────────────┐                \n",
       "q_4: ┤ Ry(-0.1) ├───────────────────────────────────────────┼────────────────■────────┤ Rz(-0.039509) ├┤ Rx(0.10543) ├────────────────\n",
       "     ├──────────┤                                           │                │        └───────────────┘├─────────────┤ ┌─────────────┐\n",
       "q_5: ┤ Ry(-0.1) ├───────────────────────────────────────────■────────────────■────────────────■────────┤ Rz(0.81998) ├─┤ Rx(0.31863) ├\n",
       "     ├──────────┤                                                                             │        ├─────────────┴┐├─────────────┤\n",
       "q_6: ┤ Ry(-0.1) ├─────────────────────────────────────────────────────────────────────────────■────────┤ Rz(-0.10769) ├┤ Rx(0.39923) ├\n",
       "     └──────────┘                                                                                      └──────────────┘└─────────────┘"
      ]
     },
     "execution_count": 17,
     "metadata": {},
     "output_type": "execute_result"
    }
   ],
   "source": [
    "from qiskit.tools.visualization import circuit_drawer\n",
    "circuit_drawer(fm.construct_circuit(x=x_train[0], parameters=initial_point), \n",
    "               output='text', fold=200)"
   ]
  },
  {
   "cell_type": "markdown",
   "metadata": {
    "id": "8A-bjyh3m3_C"
   },
   "source": [
    "Next, we set the values for the SVM soft-margin penalty `C` and the number of SPSA iterations `maxiters` we use to align the quantum kernel."
   ]
  },
  {
   "cell_type": "code",
   "execution_count": 14,
   "metadata": {
    "id": "fPs6nBzmm3_D"
   },
   "outputs": [],
   "source": [
    "C = 1                                                           # SVM soft-margin penalty\n",
    "maxiters = 10                                                   # number of SPSA iterations"
   ]
  },
  {
   "cell_type": "markdown",
   "metadata": {
    "id": "cilEJuigm3_D"
   },
   "source": [
    "Finally, we decide how to map the virtual qubits of our problem graph to the physical qubits of the hardware. For example, in the 7-qubit problem, we can directly map the virtual qubits `[0, 1, 2, 3, 4, 5, 6]` to the physical qubits `[10, 11, 12, 13, 14, 15, 16]` of the device. This allows us to avoid introducing SWAP gates for qubits that are not connected, which can increase the circuit depth. "
   ]
  },
  {
   "cell_type": "code",
   "execution_count": 19,
   "metadata": {
    "id": "a5Eo-u66m3_E"
   },
   "outputs": [],
   "source": [
    "initial_layout = [0, 1, 2, 3, 4, 5, 6]                   # see figure above for the 7-qubit graph\n",
    "# initial_layout = [9, 8, 11, 14, 16, 19, 22, 25, 24, 23]       # see figure above for the 10-qubit graph"
   ]
  },
  {
   "cell_type": "markdown",
   "metadata": {
    "id": "MefJnZHUm3_E"
   },
   "source": [
    "### 3. Set up and run the program\n",
    "\n",
    "We're almost ready to run the program. First, let's take a look at the program metadata, which includes a description of the input parameters and their default values."
   ]
  },
  {
   "cell_type": "markdown",
   "metadata": {
    "id": "xl2xIn-Wm3_F"
   },
   "source": [
    "We see that this program has several input parameters, which we'll configure below. To run the program, we'll set up its two main components: `inputs` (the input parameters from the program metadata) and `options` (the quantum backend). We'll also define a callback function so that the intermediate results of the algorithm will be printed as the program runs. Note that each step of the algorithm for the settings we've selected here takes approximately 11 minutes."
   ]
  },
  {
   "cell_type": "code",
   "execution_count": 20,
   "metadata": {
    "id": "NSg6xkB-m3_F"
   },
   "outputs": [],
   "source": [
    "def interim_result_callback(job_id, interim_result):\n",
    "    print(f\"interim result: {interim_result}\\n\")"
   ]
  },
  {
   "cell_type": "code",
   "execution_count": null,
   "metadata": {
    "id": "kER-9S-7m3_F",
    "outputId": "6d90dde7-1f76-4e7c-c485-68b079512e49"
   },
   "outputs": [
    {
     "name": "stderr",
     "output_type": "stream",
     "text": [
      "ibmqfactory.load_account:WARNING:2022-07-13 14:16:15,696: Credentials are already in use. The existing account in the session will be replaced.\n"
     ]
    },
    {
     "name": "stdout",
     "output_type": "stream",
     "text": [
      "cb7d7cut8dnt32rahnlg\n",
      "interim result: {'cost': 5.6525285656177875, 'kernel_parameters': array([0.09007386])}\n",
      "\n",
      "interim result: {'cost': 5.593620681724187, 'kernel_parameters': array([0.07856187])}\n",
      "\n",
      "interim result: {'cost': 5.605032796432005, 'kernel_parameters': array([0.07424647])}\n",
      "\n",
      "interim result: {'cost': 5.608241085812567, 'kernel_parameters': array([0.06942959])}\n",
      "\n",
      "interim result: {'cost': 5.603887122340825, 'kernel_parameters': array([0.06596229])}\n",
      "\n",
      "interim result: {'cost': 5.601520133859523, 'kernel_parameters': array([0.05845787])}\n",
      "\n",
      "interim result: {'cost': 5.601330709807404, 'kernel_parameters': array([0.05628249])}\n",
      "\n",
      "interim result: {'cost': 5.624113510819778, 'kernel_parameters': array([0.05128037])}\n",
      "\n"
     ]
    }
   ],
   "source": [
    "from qiskit import IBMQ\n",
    "\n",
    "IBMQ.load_account()\n",
    "provider = IBMQ.get_provider(\n",
    "\thub='ibm-q',\n",
    "\tgroup='open',\n",
    "\tproject='main'\n",
    ")\n",
    "\n",
    "program_inputs = {\n",
    "    'feature_map': fm,\n",
    "    'data': x_train,\n",
    "    'labels': y_train,\n",
    "    'initial_kernel_parameters': initial_point,\n",
    "    'maxiters': maxiters,\n",
    "    'C': C,\n",
    "    'initial_layout': initial_layout\n",
    "}\n",
    "\n",
    "options = {'backend_name': 'ibm_nairobi'}\n",
    "\n",
    "job = provider.runtime.run(program_id=\"quantum-kernel-alignment\",\n",
    "                              options=options,\n",
    "                              inputs=program_inputs,\n",
    "                              callback=interim_result_callback,\n",
    "                              )\n",
    "\n",
    "print(job.job_id())\n",
    "result = job.result()"
   ]
  },
  {
   "cell_type": "code",
   "execution_count": 3,
   "metadata": {},
   "outputs": [
    {
     "name": "stderr",
     "output_type": "stream",
     "text": [
      "ibmqfactory.load_account:WARNING:2022-07-13 15:44:04,267: Credentials are already in use. The existing account in the session will be replaced.\n"
     ]
    }
   ],
   "source": [
    "ejecucion = provider.runtime.job(job.job_id())"
   ]
  },
  {
   "cell_type": "markdown",
   "metadata": {
    "id": "FpESCBbBm3_G"
   },
   "source": [
    "### 4. Retrieve the results of the program\n",
    "\n",
    "Now that we've run the program, we can retrieve the output, which is the aligned kernel parameter and the aligned kernel matrix. Let's also plot this kernel matrix (we'll subtract off the diagonal to show the contrast between the remaining entries). The kernel matrix is expected to have a block-diagonal structure. This reflects the fact that the kernel maps the input data effectively to just two states (modulo the small noise we added to the data; recall the discussion above). That is, data in the same coset (same class label) have a larger overlap than do data from different cosets."
   ]
  },
  {
   "cell_type": "code",
   "execution_count": 12,
   "metadata": {
    "id": "IdwciJo-m3_G",
    "outputId": "ccf2bbe4-1e12-41b9-cb55-805e86a7f16f",
    "scrolled": true
   },
   "outputs": [
    {
     "name": "stdout",
     "output_type": "stream",
     "text": [
      "aligned_kernel_parameters: [0.03856039]\n"
     ]
    },
    {
     "data": {
      "image/png": "[encoded data removed]",
      "text/plain": [
       "<Figure size 432x288 with 1 Axes>"
      ]
     },
     "metadata": {
      "needs_background": "light"
     },
     "output_type": "display_data"
    }
   ],
   "source": [
    "print(f\"aligned_kernel_parameters: {result['aligned_kernel_parameters']}\")\n",
    "\n",
    "from matplotlib import pyplot as plt\n",
    "from pylab import cm\n",
    "plt.rcParams['font.size'] = 20\n",
    "plt.imshow(result['aligned_kernel_matrix']-np.identity(2*num_train), cmap=cm.get_cmap('bwr', 20))\n",
    "plt.show()"
   ]
  },
  {
   "cell_type": "markdown",
   "metadata": {
    "id": "9YqFW1cOm3_G"
   },
   "source": [
    "# Use the results of the program to test an SVM on new data\n",
    "\n",
    "Equipped with the aligned kernel and its optimized parameter, we can use the `sklearn` package to train an SVM and then evaluate its classification accuracy on new test points. Note that a second kernel matrix built from the test points is needed for the SVM decision function."
   ]
  },
  {
   "cell_type": "code",
   "execution_count": 22,
   "metadata": {
    "id": "YwEKcZ7jm3_G",
    "outputId": "bb0da715-773a-4e1c-c79f-1ccc40f29076",
    "scrolled": true
   },
   "outputs": [
    {
     "name": "stdout",
     "output_type": "stream",
     "text": [
      "accuracy test: 0.7\n"
     ]
    }
   ],
   "source": [
    "from qiskit_runtime.qka import KernelMatrix\n",
    "from qiskit.providers.aer import QasmSimulator\n",
    "from sklearn.svm import SVC\n",
    "from sklearn import metrics\n",
    "\n",
    "# train the SVM with the aligned kernel matrix:\n",
    "\n",
    "kernel_aligned = result['aligned_kernel_matrix']\n",
    "model = SVC(C=C, kernel='precomputed')\n",
    "model.fit(X=kernel_aligned, y=y_train)\n",
    "\n",
    "# test the SVM on new data:\n",
    "backend = provider.get_backend('ibm_nairobi')\n",
    "km = KernelMatrix(feature_map=fm, backend=backend, initial_layout=initial_layout)\n",
    "kernel_test = km.construct_kernel_matrix(x1_vec=x_test, x2_vec=x_train, parameters=result['aligned_kernel_parameters'])\n",
    "labels_test = model.predict(X=kernel_test)\n",
    "accuracy_test = metrics.balanced_accuracy_score(y_true=y_test, y_pred=labels_test)\n",
    "print(f\"accuracy test: {accuracy_test}\")\n"
   ]
  },
  {
   "cell_type": "code",
   "execution_count": 23,
   "metadata": {
    "id": "3NEbfGUbm3_H",
    "outputId": "47ed69ae-ecd4-4dea-a67f-2fba2d11d4e5"
   },
   "outputs": [
    {
     "data": {
      "text/html": [
       "<h3>Version Information</h3><table><tr><th>Qiskit Software</th><th>Version</th></tr><tr><td><code>qiskit-terra</code></td><td>0.20.2</td></tr><tr><td><code>qiskit-aer</code></td><td>0.10.4</td></tr><tr><td><code>qiskit-ignis</code></td><td>0.7.1</td></tr><tr><td><code>qiskit-ibmq-provider</code></td><td>0.19.1</td></tr><tr><td><code>qiskit</code></td><td>0.36.2</td></tr><tr><td><code>qiskit-nature</code></td><td>0.4.1</td></tr><tr><td><code>qiskit-finance</code></td><td>0.3.3</td></tr><tr><td><code>qiskit-optimization</code></td><td>0.4.0</td></tr><tr><td><code>qiskit-machine-learning</code></td><td>0.4.0</td></tr><tr><th>System information</th></tr><tr><td>Python version</td><td>3.8.13</td></tr><tr><td>Python compiler</td><td>GCC 10.3.0</td></tr><tr><td>Python build</td><td>default, Mar 25 2022 06:04:10</td></tr><tr><td>OS</td><td>Linux</td></tr><tr><td>CPUs</td><td>8</td></tr><tr><td>Memory (Gb)</td><td>31.211315155029297</td></tr><tr><td colspan='2'>Wed Jul 13 16:27:55 2022 UTC</td></tr></table>"
      ],
      "text/plain": [
       "<IPython.core.display.HTML object>"
      ]
     },
     "metadata": {},
     "output_type": "display_data"
    },
    {
     "data": {
      "text/html": [
       "<div style='width: 100%; background-color:#d5d9e0;padding-left: 10px; padding-bottom: 10px; padding-right: 10px; padding-top: 5px'><h3>This code is a part of Qiskit</h3><p>&copy; Copyright IBM 2017, 2022.</p><p>This code is licensed under the Apache License, Version 2.0. You may<br>obtain a copy of this license in the LICENSE.txt file in the root directory<br> of this source tree or at http://www.apache.org/licenses/LICENSE-2.0.<p>Any modifications or derivative works of this code must retain this<br>copyright notice, and modified files need to carry a notice indicating<br>that they have been altered from the originals.</p></div>"
      ],
      "text/plain": [
       "<IPython.core.display.HTML object>"
      ]
     },
     "metadata": {},
     "output_type": "display_data"
    }
   ],
   "source": [
    "import qiskit.tools.jupyter\n",
    "%qiskit_version_table\n",
    "%qiskit_copyright"
   ]
  },
  {
   "cell_type": "code",
   "execution_count": null,
   "metadata": {},
   "outputs": [],
   "source": []
  }
 ],
 "metadata": {
  "colab": {
   "name": "qka.ipynb",
   "provenance": []
  },
  "kernelspec": {
   "display_name": "Python 3.8.10 ('python38')",
   "language": "python",
   "name": "python3"
  },
  "language_info": {
   "codemirror_mode": {
    "name": "ipython",
    "version": 3
   },
   "file_extension": ".py",
   "mimetype": "text/x-python",
   "name": "python",
   "nbconvert_exporter": "python",
   "pygments_lexer": "ipython3",
   "version": "3.8.10"
  },
  "vscode": {
   "interpreter": {
    "hash": "99d0a9ef90b45d437de777646d3f9d3f2991fbc6e9e50a72e1f6fb22e630f7d3"
   }
  },
  "widgets": {
   "application/vnd.jupyter.widget-state+json": {
    "state": {
     "0dac448dee714c7496d89f2f53fac2c4": {
      "model_module": "@jupyter-widgets/controls",
      "model_module_version": "1.5.0",
      "model_name": "DescriptionStyleModel",
      "state": {
       "description_width": ""
      }
     },
     "133b6b79b51b4068917efbae5ca6c752": {
      "model_module": "@jupyter-widgets/base",
      "model_module_version": "1.2.0",
      "model_name": "LayoutModel",
      "state": {
       "margin": "0px 0px 0px 37px",
       "width": "600px"
      }
     },
     "17e49be2ce644b8e90cbc408094e651a": {
      "model_module": "@jupyter-widgets/controls",
      "model_module_version": "1.5.0",
      "model_name": "ButtonStyleModel",
      "state": {}
     },
     "232dc27d3d424e5e8cb1cb2820d5ce77": {
      "model_module": "@jupyter-widgets/controls",
      "model_module_version": "1.5.0",
      "model_name": "DescriptionStyleModel",
      "state": {
       "description_width": ""
      }
     },
     "2b3fab674e9e4fb89052bf30778a4494": {
      "model_module": "@jupyter-widgets/controls",
      "model_module_version": "1.5.0",
      "model_name": "DescriptionStyleModel",
      "state": {
       "description_width": ""
      }
     },
     "32d57a457ace4fc598570460efbc1df9": {
      "model_module": "@jupyter-widgets/controls",
      "model_module_version": "1.5.0",
      "model_name": "HTMLModel",
      "state": {
       "layout": "IPY_MODEL_91ed29e31a4542ada0771d1f52e91014",
       "style": "IPY_MODEL_7e820c395a21442aaa7002f6bec86ff9",
       "value": "<h5>Backend</h5>"
      }
     },
     "3b181f6e99f74c9fa41cca37d2a43591": {
      "model_module": "@jupyter-widgets/base",
      "model_module_version": "1.2.0",
      "model_name": "LayoutModel",
      "state": {
       "width": "95px"
      }
     },
     "3c50e9cebdfd4e7bb3c19a912dfc0adf": {
      "model_module": "@jupyter-widgets/controls",
      "model_module_version": "1.5.0",
      "model_name": "HTMLModel",
      "state": {
       "layout": "IPY_MODEL_e91bbded2fc94d429c379b78fbff3c1e",
       "style": "IPY_MODEL_2b3fab674e9e4fb89052bf30778a4494",
       "value": "<h5>Queue</h5>"
      }
     },
     "46e54b34f358483bb4393d2da7efbfbe": {
      "model_module": "@jupyter-widgets/base",
      "model_module_version": "1.2.0",
      "model_name": "LayoutModel",
      "state": {
       "grid_template_areas": "\n                                       \". . . . right \"\n                                        ",
       "grid_template_columns": "20% 20% 20% 20% 20%",
       "width": "100%"
      }
     },
     "5d39f61a098f46e39db9cd198fa707bc": {
      "model_module": "@jupyter-widgets/base",
      "model_module_version": "1.2.0",
      "model_name": "LayoutModel",
      "state": {
       "width": "190px"
      }
     },
     "6c64fa7361e24c70be8597b4051525aa": {
      "model_module": "@jupyter-widgets/controls",
      "model_module_version": "1.5.0",
      "model_name": "HBoxModel",
      "state": {
       "children": [
        "IPY_MODEL_cd375aa7895e4265a22817203bb8a647",
        "IPY_MODEL_32d57a457ace4fc598570460efbc1df9",
        "IPY_MODEL_d944b7faa36141b3b4a5ae3d0d2374eb",
        "IPY_MODEL_3c50e9cebdfd4e7bb3c19a912dfc0adf",
        "IPY_MODEL_e7ec2052ebe2484eb067e723cd59606b"
       ],
       "layout": "IPY_MODEL_133b6b79b51b4068917efbae5ca6c752"
      }
     },
     "71017689e583484d8d2e3aef213dc906": {
      "model_module": "@jupyter-widgets/controls",
      "model_module_version": "1.5.0",
      "model_name": "ButtonModel",
      "state": {
       "button_style": "primary",
       "description": "Clear",
       "layout": "IPY_MODEL_8cac86a30c104ee7bf699a58460122c1",
       "style": "IPY_MODEL_17e49be2ce644b8e90cbc408094e651a"
      }
     },
     "7243b4f6f57c4605b84cb95ea073c5e3": {
      "model_module": "@jupyter-widgets/controls",
      "model_module_version": "1.5.0",
      "model_name": "DescriptionStyleModel",
      "state": {
       "description_width": ""
      }
     },
     "7e820c395a21442aaa7002f6bec86ff9": {
      "model_module": "@jupyter-widgets/controls",
      "model_module_version": "1.5.0",
      "model_name": "DescriptionStyleModel",
      "state": {
       "description_width": ""
      }
     },
     "8cac86a30c104ee7bf699a58460122c1": {
      "model_module": "@jupyter-widgets/base",
      "model_module_version": "1.2.0",
      "model_name": "LayoutModel",
      "state": {
       "grid_area": "right",
       "padding": "0px 0px 0px 0px",
       "width": "70px"
      }
     },
     "91ed29e31a4542ada0771d1f52e91014": {
      "model_module": "@jupyter-widgets/base",
      "model_module_version": "1.2.0",
      "model_name": "LayoutModel",
      "state": {
       "width": "145px"
      }
     },
     "a2f343f7414a4928ac98f059a96c061a": {
      "model_module": "@jupyter-widgets/controls",
      "model_module_version": "1.5.0",
      "model_name": "DescriptionStyleModel",
      "state": {
       "description_width": ""
      }
     },
     "a9019f6db53346e0bf58a3111a84287b": {
      "model_module": "@jupyter-widgets/controls",
      "model_module_version": "1.5.0",
      "model_name": "HTMLModel",
      "state": {
       "layout": "IPY_MODEL_bfa7ec1464f747f4843c7c31fc1e87e4",
       "style": "IPY_MODEL_7243b4f6f57c4605b84cb95ea073c5e3",
       "value": "<p style='font-family: IBM Plex Sans, Arial, Helvetica, sans-serif; font-size: 20px; font-weight: medium;'>Circuit Properties</p>"
      }
     },
     "bfa7ec1464f747f4843c7c31fc1e87e4": {
      "model_module": "@jupyter-widgets/base",
      "model_module_version": "1.2.0",
      "model_name": "LayoutModel",
      "state": {
       "margin": "0px 0px 10px 0px"
      }
     },
     "cd375aa7895e4265a22817203bb8a647": {
      "model_module": "@jupyter-widgets/controls",
      "model_module_version": "1.5.0",
      "model_name": "HTMLModel",
      "state": {
       "layout": "IPY_MODEL_5d39f61a098f46e39db9cd198fa707bc",
       "style": "IPY_MODEL_a2f343f7414a4928ac98f059a96c061a",
       "value": "<h5>Job ID</h5>"
      }
     },
     "d75440b3bac740a7bf7f6bd53836bc46": {
      "model_module": "@jupyter-widgets/controls",
      "model_module_version": "1.5.0",
      "model_name": "GridBoxModel",
      "state": {
       "children": [
        "IPY_MODEL_71017689e583484d8d2e3aef213dc906"
       ],
       "layout": "IPY_MODEL_46e54b34f358483bb4393d2da7efbfbe"
      }
     },
     "d944b7faa36141b3b4a5ae3d0d2374eb": {
      "model_module": "@jupyter-widgets/controls",
      "model_module_version": "1.5.0",
      "model_name": "HTMLModel",
      "state": {
       "layout": "IPY_MODEL_3b181f6e99f74c9fa41cca37d2a43591",
       "style": "IPY_MODEL_0dac448dee714c7496d89f2f53fac2c4",
       "value": "<h5>Status</h5>"
      }
     },
     "e7ec2052ebe2484eb067e723cd59606b": {
      "model_module": "@jupyter-widgets/controls",
      "model_module_version": "1.5.0",
      "model_name": "HTMLModel",
      "state": {
       "layout": "IPY_MODEL_ec80e816da594b2eb78aede10c348f33",
       "style": "IPY_MODEL_232dc27d3d424e5e8cb1cb2820d5ce77",
       "value": "<h5>Message</h5>"
      }
     },
     "e91bbded2fc94d429c379b78fbff3c1e": {
      "model_module": "@jupyter-widgets/base",
      "model_module_version": "1.2.0",
      "model_name": "LayoutModel",
      "state": {
       "width": "70px"
      }
     },
     "ec80e816da594b2eb78aede10c348f33": {
      "model_module": "@jupyter-widgets/base",
      "model_module_version": "1.2.0",
      "model_name": "LayoutModel",
      "state": {}
     }
    },
    "version_major": 2,
    "version_minor": 0
   }
  }
 },
 "nbformat": 4,
 "nbformat_minor": 4
}
