{
 "cells": [
  {
   "cell_type": "markdown",
   "metadata": {},
   "source": [
    "# Classical SVM  Classifier for the Labeling Cosests with Errors Problem. \n",
    "\n",
    "In this notebook we will implement a classical SVM classifier for the Labeling Cosests with Errors Problem. We will use the `scikit-learn` library to implement the SVM classifier. The objective of this notebook is to have a classical benchmark for the quantum SVM classifier that we will implement in our work."
   ]
  },
  {
   "cell_type": "markdown",
   "metadata": {},
   "source": [
    "## Libraries"
   ]
  },
  {
   "cell_type": "code",
   "execution_count": 12,
   "metadata": {},
   "outputs": [],
   "source": [
    "# Import libraries\n",
    "\n",
    "import numpy as np\n",
    "import pandas as pd\n",
    "import matplotlib.pyplot as plt\n",
    "import seaborn as sns\n",
    "from sklearn.model_selection import train_test_split\n",
    "from sklearn.preprocessing import StandardScaler\n",
    "from sklearn.svm import SVC\n",
    "from sklearn.metrics import confusion_matrix\n",
    "from sklearn.model_selection import GridSearchCV\n",
    "import time"
   ]
  },
  {
   "cell_type": "markdown",
   "metadata": {},
   "source": [
    "## Data loading"
   ]
  },
  {
   "cell_type": "code",
   "execution_count": 29,
   "metadata": {},
   "outputs": [],
   "source": [
    "# Load the dataset from xls file\n",
    "path = '/Users/pabloserranomolinero/Downloads/Data_IBM_Paper.xlsx'\n",
    "X_test = pd.read_excel(path,sheet_name='x_test',header=None)\n",
    "X_train = pd.read_excel(path,sheet_name='x_train',header=None)\n",
    "y_test = pd.read_excel(path,sheet_name='y_test', header=None)\n",
    "y_train = pd.read_excel(path,sheet_name='y_train', header=None)\n",
    "\n",
    "# Transform the target into numpy arrays\n",
    "y_test = y_test.values.ravel()\n",
    "y_train = y_train.values.ravel()\n"
   ]
  },
  {
   "cell_type": "markdown",
   "metadata": {},
   "source": [
    "## SVM Classifier"
   ]
  },
  {
   "cell_type": "code",
   "execution_count": 30,
   "metadata": {},
   "outputs": [
    {
     "name": "stdout",
     "output_type": "stream",
     "text": [
      "Training time: 1.214383840560913s\n",
      "Best model:\n",
      "{'C': 0.1, 'break_ties': False, 'cache_size': 200, 'class_weight': None, 'coef0': 1.0, 'decision_function_shape': 'ovr', 'degree': 1, 'gamma': 'auto', 'kernel': 'rbf', 'max_iter': -1, 'probability': True, 'random_state': None, 'shrinking': True, 'tol': 0.001, 'verbose': False}\n",
      "Score in training set = 1.000000\n",
      "Score in test set = 0.900000\n"
     ]
    }
   ],
   "source": [
    "# Build the model\n",
    "\n",
    "grid = [{'C': [0.1,1,10,150],\n",
    "         'gamma': ['auto','scale',1.0,0.1], \n",
    "         'kernel': ['rbf','poly'],\n",
    "         'degree': [1,2,3,4,5],\n",
    "         'coef0':[1.0]}]\n",
    "\n",
    "clf_gridsearch = GridSearchCV(estimator=SVC(probability=True), param_grid=grid, cv=5)\n",
    "start = time.time()\n",
    "clf_gridsearch.fit(X_train, y_train)\n",
    "stop = time.time()\n",
    "print(f\"Training time: {stop - start}s\") \n",
    "\n",
    "# Imprimimos los resultados para el mejor clasificador:\n",
    "clf = clf_gridsearch.best_estimator_\n",
    "print(\"Best model:\")\n",
    "print(clf.get_params())\n",
    "\n",
    "# Calculamos el acierto en los conjuntos de entrenamiento y test:\n",
    "score_train = clf.score(X_train, y_train)\n",
    "print(\"Score in training set = %f\" % (score_train))\n",
    "\n",
    "score_test = clf.score(X_test, y_test)\n",
    "print(\"Score in test set = %f\" % (score_test))"
   ]
  }
 ],
 "metadata": {
  "kernelspec": {
   "display_name": "base",
   "language": "python",
   "name": "python3"
  },
  "language_info": {
   "codemirror_mode": {
    "name": "ipython",
    "version": 3
   },
   "file_extension": ".py",
   "mimetype": "text/x-python",
   "name": "python",
   "nbconvert_exporter": "python",
   "pygments_lexer": "ipython3",
   "version": "3.9.4"
  }
 },
 "nbformat": 4,
 "nbformat_minor": 2
}
